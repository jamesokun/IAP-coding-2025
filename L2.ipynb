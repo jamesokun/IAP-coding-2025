{
 "cells": [
  {
   "cell_type": "markdown",
   "id": "90ef21d3-5098-49e7-92b2-117cec68495d",
   "metadata": {},
   "source": [
    "# L1: Intro to Julia\n",
    "\n",
    "Today we'll learn the basics of Julia, the programming language that we will be using for this course, by means of an example involving demand estimation.\n",
    "## 0. Julia\n",
    "### 0.1. Overview\n",
    "Julia is a high-performance programming language well-suited for scientific and numerical computing. Some of its defining characteristics are:\n",
    "- Just-in-time (JIT) compilation: Compilation is the process that \"translates\" a higher-level programming language (i.e., a language with a high level of abstraction that is understandable to humans) to a lower-level language (i.e. orders that are understandable to a computer). Julia compiles the code at run time (when the code is executed). It combines some of the speed advantages of ahead-of-time compilation (such as C or C++) with the flexibility and ease of use of interpreted languages (such as Python or R).\n",
    "- Many pre-compiled languages are statically-typed: the type of an object (e.g. integer or string) needs to be annotated for the compiler, and cannot be modified or expressed at run time. Julia is very flexible in that types are themselves run-time objects, but can be declared in advance of compilation to accelerate performance.\n",
    "- Multiple dispatch: Functions can be defined for different types of arguments. Efficient, specialized code can be generated automatically for each type. For example, arithmetic operations between integers and real numbers are handled differently.\n",
    "\n",
    "### 0.2. Comparison to Other Languages\n",
    "- **Stata:** Stata is great for applied work that involves mostly data cleaning and regressions. It has a very intuitive interface and many ready-made routines covering most econometric methods, without needing a lot of coding / programming from scratch. However, it is not the most suitable language for more customized applications (e.g. simulating data from a structural economic model and estimating counterfactuals). Julia can be much faster than Stata. However, as a relatively new language, it has relatively few pre-made packages (although there is an ```Econometrics.jl``` package that implements different type of regression estimators with a syntax very similar to R).\n",
    "- **R:** Arguably, R is also primarily intended for data analysis, so there are many pre-existing packages for data cleaning and statistics that are well-documented. In comparison, Julia is more of a general programming language, where you can do all sorts of things. Things like numerical optimization and equation-solving, especially, can be much faster and computationally efficient in Julia.\n",
    "- **Python:** Python is, like Julia, more of a general programming language. Julia can be much faster than Python, although Python has been around for longer, and so it has some pre-existing modules that Julia doesn't have (yet), one notable example being Machine Learning. I would say that Julia is especially useful with structural work with custom economic models, requiring numerical optimization or equation-solving.\n",
    "\n",
    "### 0.3. Packages in Julia\n",
    "**Packages** are libraries of functions that add certain capabilites to Julia, from basic tasks such as plotting or loading data to very specific tasks such as computing the NE of a particular class of games. The list of registered Julia packages can be found at http://pkg.julialang.org.\n",
    "\n",
    "The commands for managing packages are found in the ```Pkg``` module, included in Julia's ```Base``` install. To access it, you can use ```import Pkg```, or you can use a closing square bracket ```]``` to enter package mode.\n",
    "\n",
    "There are two ways to **add** (install) packages in Julia:\n",
    "1. Adding the packages directly into your global installation. You do that with:\n",
    "        \n",
    "       import Pkg\n",
    "       Pkg.add(\"MyPackage\")\n",
    "        \n",
    "   or:\n",
    "   \n",
    "       ] add MyPackage\n",
    "       \n",
    "   The packages you install this way will be available everytime in every Julia session on your computer.\n",
    "\n",
    "2. Using a directory with a ```Project.toml``` and a ```Manifest.toml``` files. This method provides an isolated set of packages for a particular project.\n",
    "    \n",
    "    1. The ```Project.toml``` file describes the project on a high level. It has optional fields for project name, version and authors, and it briefly lists the dependencies (packages used) and compatibility constraints.\n",
    "    \n",
    "    2. The ```Manifest.toml``` file is an absolute record of the state of the packages in the environment. It includes exact information about (direct and indirect) dependencies of the project.\n",
    "    \n",
    "    Given a ```Project.toml``` and a ```Manifest.toml``` file pair, it is possible to instantiate the exact same package environment every time / everywhere the project is active, which is extremely useful for reproducibility. Hence, this is the recommended method, especially if you are planning to submit your research to a journal that requires replication packages.\n",
    "    \n",
    "    The way to install packages to a project is the same as before, but when a project is active, the packages will be added to the ```Project.toml``` and ```Manifest.toml``` files, and will be available only within that project.\n",
    "    \n",
    "    Here's how you activate a project in the current directory ```\".\"```:"
   ]
  },
  {
   "cell_type": "code",
   "execution_count": 1,
   "id": "22628b82-32a2-4aac-b3ff-c9bca70afb83",
   "metadata": {},
   "outputs": [
    {
     "name": "stderr",
     "output_type": "stream",
     "text": [
      "\u001b[32m\u001b[1m  Activating\u001b[22m\u001b[39m project at `~/Documents/GitHub/IAP-coding-2025`\n"
     ]
    }
   ],
   "source": [
    "import Pkg\n",
    "Pkg.activate(\".\")"
   ]
  },
  {
   "cell_type": "markdown",
   "id": "3825e21a-ef59-433a-bfcb-f84f15174eff",
   "metadata": {},
   "source": [
    "The next step after activating the project is instantiating: this will install the packages that are needed for our project."
   ]
  },
  {
   "cell_type": "markdown",
   "id": "bbf6fae6-622c-4883-b051-68440de0313a",
   "metadata": {},
   "source": [
    "You can see the packages and versions that are included in this project as follows:"
   ]
  },
  {
   "cell_type": "code",
   "execution_count": 2,
   "id": "8de84c49-b5a2-4373-9ac7-0eb91d49a3dc",
   "metadata": {},
   "outputs": [],
   "source": [
    "Pkg.instantiate()"
   ]
  },
  {
   "cell_type": "code",
   "execution_count": 3,
   "id": "a60f70a7-dc58-4a24-8c88-18eaf05e5cbf",
   "metadata": {},
   "outputs": [
    {
     "name": "stdout",
     "output_type": "stream",
     "text": [
      "\u001b[32m\u001b[1mStatus\u001b[22m\u001b[39m `~/Documents/GitHub/IAP-coding-2025/Project.toml`\n",
      "  \u001b[90m[26cce99e] \u001b[39mBasicInterpolators v0.7.1\n",
      "  \u001b[90m[a93c6f00] \u001b[39mDataFrames v1.7.0\n",
      "  \u001b[90m[31c24e10] \u001b[39mDistributions v0.25.116\n",
      "  \u001b[90m[4d6a76a9] \u001b[39mEconometrics v0.2.11\n",
      "  \u001b[90m[a98d9a8b] \u001b[39mInterpolations v0.15.1\n",
      "  \u001b[90m[2774e3e8] \u001b[39mNLsolve v4.5.1\n",
      "  \u001b[90m[429524aa] \u001b[39mOptim v1.10.0\n",
      "  \u001b[90m[91a5bcdd] \u001b[39mPlots v1.40.9\n",
      "  \u001b[90m[1fd47b50] \u001b[39mQuadGK v2.11.1\n",
      "  \u001b[90m[d519eb52] \u001b[39mRegressionTables v0.7.8\n",
      "  \u001b[90m[8ba89e20] \u001b[39mDistributed v1.11.0\n",
      "  \u001b[90m[37e2e46d] \u001b[39mLinearAlgebra v1.11.0\n",
      "  \u001b[90m[9a3f8284] \u001b[39mRandom v1.11.0\n"
     ]
    }
   ],
   "source": [
    "Pkg.status()"
   ]
  },
  {
   "cell_type": "markdown",
   "id": "f9f675cf-5831-483e-aa51-f98c4372268d",
   "metadata": {},
   "source": [
    "After a package is installed and activated, if you want to **use** it inside a code file or a notebook, you need to tell Julia: ```using MyPackage``` — we'll see examples below."
   ]
  },
  {
   "cell_type": "markdown",
   "id": "98e02b9e-9511-48dc-95a3-dab1a8929347",
   "metadata": {},
   "source": [
    "## 1. Setting and Data Simulation\n",
    "To get a flavor for what programming in Julia is like and some general features, we thought it would be fun to work with a structural model of demand and supply. We will be generating data according to the model, then using it to estimate the model's parameters and to simulate conterfactuals. (The model itself is not the primary focus of this course but, if you are interested, 14.273 covers this kind of models, and much more.)\n",
    "\n",
    "### 1.1. Demand\n",
    "We are going to observe data on $T = 1000$ Spanish towns. In each town, there are $N = 500$ consumers deciding between chicken paella and veggie paella, denoted by $j=1$ and $j=2$, respectively. Utility of consumer $i$ in town $t$ if they choose product $j$ is: \n",
    "$$u_{ijt} = \\delta_j - \\alpha p_{jt} + \\xi_{jt} + \\epsilon_{ij}, \\quad j\\in\\{1,2\\}.$$\n",
    "They can also choose to not consume any paella, which we denote by $j=0$, in which case they receive utility $u_{i0t} = \\epsilon_{i0}$. We assume that the $\\epsilon_{ij}$ are iid across consumers and products, following an EV type I (or Gumbel) distribution. The $\\xi_{jt}$ are town-product specific taste shocks following an iid $\\mathcal{N}(0, \\sigma)$ distribution, observed by  consumers and firms but not by the researcher.  \n",
    "\n",
    "It can be shown (don't worry about the derivations) that, under these distributional assumptions, the expected market share of product $j$ in town $t$ will be:\n",
    "\\begin{equation}\n",
    "s_{jt}(\\mathbf{p}_{t}) = \\frac{\\exp(\\delta_j - \\alpha p_{jt} + \\xi_{jt})}{1 + \\sum_{k=1}^2 \\exp(\\delta_k - \\alpha p_{kt} + \\xi_{kt})}, \\quad j\\in\\{1,2\\}, \\qquad s_{0t}(\\mathbf{p}_{t}) = \\frac{1}{1 + \\sum_{k=1}^2 \\exp(\\delta_j - \\alpha p_{kt} + \\xi_{kt})}. \\tag{1}\n",
    "\\end{equation}\n",
    "\n",
    "Let's define a function that computes market shares given prices:"
   ]
  },
  {
   "cell_type": "code",
   "execution_count": 4,
   "id": "f8112279-7305-437d-bb06-eb6259704847",
   "metadata": {},
   "outputs": [],
   "source": [
    "const T = 1000 \n",
    "const N = 500\n",
    "const J = 2\n",
    "\n",
    "const α = 0.5\n",
    "const δ = [2.0, 1.8]\n",
    "const σ = 0.25;"
   ]
  },
  {
   "cell_type": "code",
   "execution_count": 5,
   "id": "e65d24a1-aa06-4bd5-bdc5-c04c753d9740",
   "metadata": {},
   "outputs": [],
   "source": [
    "using Random\n",
    "\n",
    "Random.seed!(123) # Set the seed for the pseudo-random number generator\n",
    "ξ = σ .* randn(T, J) # Generate a T x J random matrix with iid N(0,1) entries and re-scale by σ\n",
    "\n",
    "function shares(p::Matrix; α=α, δ=δ, ξ=ξ)\n",
    "    \n",
    "    # Inputs \n",
    "    # p : A TxJ matrix of prices\n",
    "\n",
    "    # Outputs \n",
    "    # s : A TxJ matrix of market shares\n",
    "\n",
    "    s = zeros(Float64, T, J) # Create a T x J matrix of all zeros, with type Float64\n",
    "\n",
    "    for t = 1:T\n",
    "        s[t, :] = exp.(δ .- α .* p[t, :] .+ ξ[t, :])./(1.0 .+ sum(exp.(δ .- α .* p[t, :] .+ ξ[t, :])))\n",
    "    end\n",
    "\n",
    "    return s \n",
    "    \n",
    "end\n",
    "\n",
    "function shares(p::Vector; α=α, δ=δ, ξ=ξ, t=1)\n",
    "    \n",
    "    # Inputs \n",
    "    # p : A 1xJ vector of prices\n",
    "\n",
    "    # Outputs \n",
    "    # s : A 1xJ vector of market shares\n",
    "\n",
    "    s = exp.(δ .- α .* p .+ ξ[t, :])./(1.0 .+ sum(exp.(δ .- α .* p .+ ξ[t, :])))\n",
    "end;"
   ]
  },
  {
   "cell_type": "code",
   "execution_count": 7,
   "id": "a798b732-09cd-4206-8bed-9dcc03a3e98c",
   "metadata": {},
   "outputs": [],
   "source": []
  },
  {
   "cell_type": "markdown",
   "id": "f65f4119-df9d-4a86-b2c6-c4ec3055cbf1",
   "metadata": {},
   "source": [
    "<div class=\"alert alert-block alert-success\">\n",
    "<b>Coding Tips:</b>\n",
    "<ol>\n",
    "    <li> Use <code>const</code> to declare immutable constants (these should not be modified during the execution of the code).</li>\n",
    "    <li> To index a vector or a matrix in Julia (i.e., refer to one of its elements), we use square brackets. For example, if <code>p</code> were a matrix, <code>p[1, 1]</code> would refer to the element in its first row, first column. We can also use a colon, e.g., <code>p[1, :]</code>, to refer to the entire first row (viewed as a vector); this is called \"slicing.\" </li>\n",
    "    <li> When we want apply scalar operations and functions to a vector or a matrix element-wise, we need to \"broadcast\" them. In Julia, this is achieved by using a dot after the function name or before the operation symbol. For example, with <code>exp.(δ .- α .* p[j, :])</code>, we take the exponential of each element of the vector. Some operations (e.g. the sum or difference) needed to be broadcasted in the past, now they don't have to be anymore; I tend to be conservative and broadcast all element-wise operations.</li> \n",
    "    <li> We define functions with <code>function fname(arguments)</code>. We then write all the operations we want the function to perform, and tell Julia what we want the function to output with a <code>return</code> statement. For simple functions, the <code>return</code> statement is not needed; the function will simply return the last variable you compute (see example above). You finally close the function definition with an <code>end</code> statement. Unlike Python, indenting the function definition is not necessary, but I find it improves readability of your code. </li>\n",
    "    <li> Julia makes a distinction between positional and keyword arguments to functions <code>f(pos1, pos2, ... ; kw1, kw2, ...)</code>. When you call the function, positional arguments will be determined by their order, while keyword arguments need to be referred to by name, but can be entered in any order. In our example, <code>shares(p, α=α, δ=δ, ξ=ξ)</code> and <code>shares(ξ=ξ, δ=δ, α=α, p)</code> would give the same result. Also, notice that I am making our functions depend explicitly on the parameters (which are the default values, and so, can be omitted when we call the function). This is because later we are going to estimate the parameters of the model, pretending that we don't know the ground truth, and for our counterfactual computation we will want to use our estimates.</li>\n",
    "    <li> Multiple dispatch: in Julia you can define the same function for different types of arguments, so that the same function can flexibly adapt to its inputs. Here we define a function that computes shares for all towns, when the input is a matrix of prices, or for just one town, when the input is a vector of prices.</li>\n",
    "    <li> Loops: a \"loop\" is a way of telling the computer to perform an operation many times. The previous code snippet contains an example of a \"for\"-loop: <code>for t = 1:T</code>. This tells Julia to perform the operation inside the loop replacing the variable <code>t</code> with each value from 1 to $T$. We also need to close \"for\"-loops with an <code>end</code> statement.\n",
    "    <li> To optimize the performance of your code, it is helpful to declare the type of the arguments. For example, in <code>shares(p::Matrix)</code>, we are telling Julia that the input is a matrix. Similarly, try to initialize objects with the right type, e.g. <code>s = zeros(Float64, T, J)</code>. (\"Floats\" are real, non-integer numbers. The 64 indicates we will use 64 bits of memory to store each number — 64 is the standard, which allows more precision and a larger range of possible values than Float16 or Float32.) You should also preallocate memory when possible. </li>\n",
    "    <li> Notice that I'm writing <code>1.0 .+ sum(exp.(δ .- α .* p[j, :]))</code> rather than <code>1 .+ sum(exp.(δ .- α .* p[j, :]))</code>. The difference is that <code>1.0</code> represents a float (real number) and <code>1</code> is an integer. If you try to add integers and floats, Julia will automatically convert everything to floats and your code will still run properly, but it is faster to operate with objects of the same type.</li>\n",
    "</ol>\n",
    "</div>"
   ]
  },
  {
   "cell_type": "code",
   "execution_count": 13,
   "id": "aaa2b281-0c62-460a-9c77-78dab7c3c877",
   "metadata": {},
   "outputs": [
    {
     "data": {
      "text/plain": [
       "2-element Vector{Float64}:\n",
       " 1.0\n",
       " 7.38905609893065"
      ]
     },
     "execution_count": 13,
     "metadata": {},
     "output_type": "execute_result"
    }
   ],
   "source": [
    "# Example: exp([0.0, 0.0]) would give you a broadcast error\n",
    "exp.([0.0, 2.0])\n"
   ]
  },
  {
   "cell_type": "markdown",
   "id": "e3160a51-04bb-4bab-9b22-b2fbbd2624e4",
   "metadata": {},
   "source": [
    "### 1.2. Supply\n",
    "In each town, there are two restaurants, one that specializes in chicken paellas, and one that specializes in veggie paellas. The prices are set in monopolistic competition, where each restaurant chooses price to maximize profits given the other restaurant's price and the expected demand:\n",
    "\n",
    "$$\\max_{p_{jt}} N \\cdot s_{jt}(\\mathbf{p}_t) \\cdot (p_{jt} - c_{jt}) \\quad \\text{subj. to } s_{jt}(\\mathbf{p}_{t}) = \\frac{\\exp(\\delta_j - \\alpha p_{jt} + \\xi_{jt})}{1 + \\sum_{k=1}^2 \\exp(\\delta_k - \\alpha p_{kt} + \\xi_{kt})}, \\quad j \\in \\{1,2\\}.$$\n",
    "\n",
    "Here, $c_{jt}$ is marginal cost. For simplicity, let us supose that $\\log c_{jt} \\sim \\mathcal{N}(0,0.25)$, iid across towns and products, and that this is observed by the econometrician.\n",
    "\n",
    "There are two ways we could solve this:\n",
    "1. We could analytically derive the BR functions, and solve for the equilibrium. The FOC for each firm (you don't need to derive this) is the solution to:\n",
    "$$p_{jt} = c_{jt} - \\frac{s_{jt}(\\mathbf{p}_t)}{\\partial s_{jt}(\\mathbf{p}_t)/\\partial p_{jt}},$$ where $\\partial s_{jt}(\\mathbf{p}_t)/\\partial p_{jt} = -\\alpha s_{jt}(\\mathbf{p}_t) (1 - s_{jt}(\\mathbf{p}_t))$ is the own-price elasticity of demand. For each town, this defines a 2x2 system of equations in $p_{1t}, p_{2t}$ that can be solved in a number of ways (we'll learn more about these in Lecture 7).\n",
    "2. We could pick an initial guess for $p_{1t}$ and compute the best response for firm 2 by directly solving the maximization problem above (more on optimization in Lecture 6). Then, we can compute firm 1's best response to that. By iterating this procedure until convergence, we should arrive at the Nash Equilibrium which, for this game, is unique.\n",
    "\n",
    "Let's see how these two methods would be implemented below:"
   ]
  },
  {
   "cell_type": "code",
   "execution_count": 41,
   "id": "74c4841e-ff0c-48e7-bdad-5997c05d46ca",
   "metadata": {},
   "outputs": [
    {
     "name": "stdout",
     "output_type": "stream",
     "text": [
      "  0.177350 seconds (841.62 k allocations: 102.906 MiB, 6.14% gc time, 89.96% compilation time)\n",
      "  0.012928 seconds (192.32 k allocations: 69.711 MiB, 47.17% gc time)\n"
     ]
    },
    {
     "data": {
      "text/plain": [
       "profit (generic function with 1 method)"
      ]
     },
     "execution_count": 41,
     "metadata": {},
     "output_type": "execute_result"
    }
   ],
   "source": [
    "using NLsolve, Optim, LinearAlgebra\n",
    "\n",
    "c = exp.(0.25randn((T, J))) # Generate T x J random marginal costs\n",
    "\n",
    "# Method 1 ---------------------------------------------------------------------\n",
    "\n",
    "# FOC of each firm:\n",
    "FOC(p::Matrix{Float64}; α=α, δ=δ, ξ=ξ) = c::Matrix{Float64} .+ 1.0 ./ (α .* (1.0 .- shares(p, α=α, δ=δ, ξ=ξ)))\n",
    "\n",
    "# Solve for equilibrium as fixed point, more in L7:\n",
    "function eq_prices_FOC(; α=α, δ=δ, ξ=ξ)\n",
    "    res = fixedpoint(x -> FOC(x, α=α, δ=δ, ξ=ξ), ones(Float64, T, J))\n",
    "    return res.zero\n",
    "end\n",
    "\n",
    "@time p1 = eq_prices_FOC()\n",
    "@time p1 = eq_prices_FOC()\n",
    "\n",
    "# # Method 2 ---------------------------------------------------------------------\n",
    "\n",
    "# # Function to compute profit given own and competitor's price:\n",
    "function profit(own_p::Float64, other_p::Float64; α=α, δ=δ, ξ=ξ, t=1, j=1) \n",
    "   p = j == 1 ? [own_p, other_p] : [other_p, own_p]\n",
    "   return N * shares(p, t=t, α=α, δ=δ, ξ=ξ)[j] * (own_p - c[t, j]::Float64)\n",
    "end\n",
    "\n",
    "# # Function to compute successive BR, more on optimization in L6:\n",
    "# function eq_prices_BR(; α=α, δ=δ, ξ=ξ, tol = 1e-20, max_iter = 10000)\n",
    "    \n",
    "#     p = zeros(Float64, T, J)\n",
    "    \n",
    "#     for t = 1:T\n",
    "#         p_old = [1.0, 1.0]\n",
    "#         p_new = [1.0, 1.0]\n",
    "#         error = 1000.0\n",
    "#         iter = 0\n",
    "        \n",
    "#         while (error > tol) & (iter < max_iter)\n",
    "#             res = optimize(x -> -profit(x[1], p_old[1], α=α, δ=δ, ξ=ξ, t=t, j=2), [p_old[2]]) # Compute 2's BR\n",
    "#             br2 = res.minimizer[1]\n",
    "#             res = optimize(x -> -profit(x[1], br2, α=α, δ=δ, ξ=ξ, t=t, j=1), [p_old[1]])      # Compute 1's BR\n",
    "#             br1 = res.minimizer[1]\n",
    "#             p_new = [br1, br2]\n",
    "#             error = norm(p_new .- p_old)\n",
    "#             iter += 1\n",
    "#             p_old = copy(p_new)\n",
    "#         end\n",
    "        \n",
    "#         p[t, :] = p_new\n",
    "#     end\n",
    "    \n",
    "#     return p\n",
    "# end\n",
    "\n",
    "# @time p2 = eq_prices_BR()\n",
    "# @time p2 = eq_prices_BR()\n",
    "\n",
    "# @show maximum(abs.(p1 .- p2));"
   ]
  },
  {
   "cell_type": "markdown",
   "id": "9d892044-4719-42d3-973d-ceae2f7579c3",
   "metadata": {},
   "source": [
    "<div class=\"alert alert-block alert-success\">\n",
    "<b>Coding Tips:</b>\n",
    "<ol>\n",
    "    <li> You can define simple functions in one line with the <code>fname(x) = f(x)</code> rhetoric.</li>\n",
    "    <li> We will learn more about <code>fixedpoint</code> and <code>optimize</code> later in the course. For now, you just need to know that the first argument is the function for which you want to find a fixed point (i.e. F(x) = x) or minimize, and the second argument is the starting value. Functions need to be defined for arrays, rather than scalars, that's why, to extract the solution as a scalar, I index <code>br2 = res.minimizer[1]</code>. </li>\n",
    "    <li> You can also define anonymous functions (without a name) as <code>x -> f(x)</code>. This is useful when the function itself is passed as an argument to another function. For example, in <code>fixedpoint(x -> FOC(x; α=α, δ=δ, ξ=ξ), ones(Float64, T, J))</code>, I am creating an anonymous function that computes the RHS of the firms' FOC after fixing the keyword arguments <code>α, δ, ξ</code>.</li>\n",
    "    <li> A useful syntax to express conditional statements is <code>p = j == 1 ? [own_p, other_p] : [other_p, own_p]</code>. This means: if <code>j == 1</code>, then assign <code>p = [own_p, other_p]</code>, otherwise assign <code>p = [other_p, own_p]</code>.</li>\n",
    "    <li> Expressions with an @ sign are called \"macros.\" Use the macro <code>@time</code> to time the execution of your functions. Notice that the first time you run a function, it takes much longer because of compilation time. By the magic of JIT compilation, when we run the same function again, it doesn't need to be re-compiled, and so it is much faster. Use the macro <code>@show</code> to display results of operations in a nice way. </li>\n",
    "    <li>In the definition of the functions I use <code>c::Matrix{Float64}</code> to let Julia know the type of the global <code>c</code>, which is defined outside the function. This is optional, but it can help greatly reduce compilation time.</li>\n",
    "    </ol>\n",
    "</div>"
   ]
  },
  {
   "cell_type": "markdown",
   "id": "824ba962-8832-40f5-8070-6f68440bb392",
   "metadata": {},
   "source": [
    "Let us now simulate the market shares given those prices:"
   ]
  },
  {
   "cell_type": "code",
   "execution_count": 17,
   "id": "c5db3519-dcf9-4811-ad6d-acc014a93b86",
   "metadata": {},
   "outputs": [
    {
     "data": {
      "text/plain": [
       "1000×2 Matrix{Float64}:\n",
       " 0.32   0.386\n",
       " 0.292  0.302\n",
       " 0.306  0.362\n",
       " 0.372  0.304\n",
       " 0.38   0.188\n",
       " 0.356  0.286\n",
       " 0.334  0.26\n",
       " 0.284  0.314\n",
       " 0.394  0.256\n",
       " 0.348  0.202\n",
       " 0.37   0.292\n",
       " 0.374  0.242\n",
       " 0.334  0.344\n",
       " ⋮      \n",
       " 0.382  0.282\n",
       " 0.324  0.334\n",
       " 0.402  0.26\n",
       " 0.32   0.296\n",
       " 0.412  0.336\n",
       " 0.342  0.282\n",
       " 0.334  0.342\n",
       " 0.346  0.35\n",
       " 0.356  0.294\n",
       " 0.306  0.36\n",
       " 0.306  0.288\n",
       " 0.354  0.24"
      ]
     },
     "execution_count": 17,
     "metadata": {},
     "output_type": "execute_result"
    }
   ],
   "source": [
    "using Distributions\n",
    "\n",
    "function sim_shares(p::Matrix{Float64})\n",
    "    \n",
    "    s = zeros(Float64, T, J)\n",
    "    \n",
    "    for t = 1:T\n",
    "        ϵ = rand(Gumbel(0, 1), N, J+1) # Idiosyncratic iid EV type I taste shocks\n",
    "        u = (δ .- α .* p[t, :] .+ ξ[t, :]::Vector{Float64})' .+ ϵ[:, 1:2] # Utility of products 1 and 2\n",
    "        s[t, 1] = mean((u[:, 1] .> u[:, 2]) .& (u[:, 1] .> ϵ[:, 3])) # Market share of product 1\n",
    "        s[t, 2] = mean((u[:, 2] .> u[:, 1]) .& (u[:, 2] .> ϵ[:, 3])) # Market share of product 2\n",
    "    end\n",
    "    \n",
    "    return s\n",
    "end\n",
    "\n",
    "s = sim_shares(p1)"
   ]
  },
  {
   "cell_type": "markdown",
   "id": "b338915d-a304-4581-a0ca-da6d775b56f0",
   "metadata": {},
   "source": [
    "<div class=\"alert alert-block alert-success\">\n",
    "<b>Coding Tips:</b>\n",
    "<ol>\n",
    "    <li> The <code>Distributions</code> package contains functions relating to many probability distributions (for example, the Gumbel or EV type I distribution).</li>\n",
    "    <li> The object <code>u[:, 1] .> u[:, 2]</code> is a \"boolean\" vector, meaning that each of its entries is either true or false. When performing numeric operations on it, it is treated as a \"bit\" vector, essentially an indicator function with numerical value 1 for true and 0 for false.</li>\n",
    "    </ol>\n",
    "</div>"
   ]
  },
  {
   "cell_type": "code",
   "execution_count": 19,
   "id": "d7120b87-fa97-4159-a797-0b3926671e54",
   "metadata": {},
   "outputs": [
    {
     "name": "stdout",
     "output_type": "stream",
     "text": [
      "[1, 2] > [1, 1] = true\n",
      "[2, 1] > [1, 2] = true\n",
      "[1, 2] > [1, 3] = false\n",
      "[1, 2] .> [1, 1] = Bool[0, 1]\n"
     ]
    }
   ],
   "source": [
    "# Careful, if you don't broadcast the > operation, Julia will use the lexicographic order between vectors:\n",
    "@show [1, 2] > [1, 1]\n",
    "@show [2, 1] > [1, 2]\n",
    "@show [1, 2] > [1, 3]\n",
    "\n",
    "# Vs:\n",
    "@show [1, 2] .> [1, 1];"
   ]
  },
  {
   "cell_type": "markdown",
   "id": "0c4e55c3-5347-491f-9ec6-2b2eb3b03fd2",
   "metadata": {},
   "source": [
    "Finally, let us make a ```DataFrame``` out of our simulated dataset."
   ]
  },
  {
   "cell_type": "code",
   "execution_count": 20,
   "id": "4e03f40c-4f51-4fa1-bb42-40182cffa17c",
   "metadata": {},
   "outputs": [
    {
     "data": {
      "text/html": [
       "<div><div style = \"float: left;\"><span>5×7 DataFrame</span></div><div style = \"clear: both;\"></div></div><div class = \"data-frame\" style = \"overflow-x: scroll;\"><table class = \"data-frame\" style = \"margin-bottom: 6px;\"><thead><tr class = \"header\"><th class = \"rowNumber\" style = \"font-weight: bold; text-align: right;\">Row</th><th style = \"text-align: left;\">t</th><th style = \"text-align: left;\">p1</th><th style = \"text-align: left;\">p2</th><th style = \"text-align: left;\">s1</th><th style = \"text-align: left;\">s2</th><th style = \"text-align: left;\">c1</th><th style = \"text-align: left;\">c2</th></tr><tr class = \"subheader headerLastRow\"><th class = \"rowNumber\" style = \"font-weight: bold; text-align: right;\"></th><th title = \"Int64\" style = \"text-align: left;\">Int64</th><th title = \"Float64\" style = \"text-align: left;\">Float64</th><th title = \"Float64\" style = \"text-align: left;\">Float64</th><th title = \"Float64\" style = \"text-align: left;\">Float64</th><th title = \"Float64\" style = \"text-align: left;\">Float64</th><th title = \"Float64\" style = \"text-align: left;\">Float64</th><th title = \"Float64\" style = \"text-align: left;\">Float64</th></tr></thead><tbody><tr><td class = \"rowNumber\" style = \"font-weight: bold; text-align: right;\">1</td><td style = \"text-align: right;\">1</td><td style = \"text-align: right;\">4.24923</td><td style = \"text-align: right;\">3.92364</td><td style = \"text-align: right;\">0.32</td><td style = \"text-align: right;\">0.386</td><td style = \"text-align: right;\">1.25605</td><td style = \"text-align: right;\">0.793268</td></tr><tr><td class = \"rowNumber\" style = \"font-weight: bold; text-align: right;\">2</td><td style = \"text-align: right;\">2</td><td style = \"text-align: right;\">3.75415</td><td style = \"text-align: right;\">3.95406</td><td style = \"text-align: right;\">0.292</td><td style = \"text-align: right;\">0.302</td><td style = \"text-align: right;\">0.820287</td><td style = \"text-align: right;\">1.05945</td></tr><tr><td class = \"rowNumber\" style = \"font-weight: bold; text-align: right;\">3</td><td style = \"text-align: right;\">3</td><td style = \"text-align: right;\">3.71179</td><td style = \"text-align: right;\">3.90717</td><td style = \"text-align: right;\">0.306</td><td style = \"text-align: right;\">0.362</td><td style = \"text-align: right;\">0.864106</td><td style = \"text-align: right;\">0.769283</td></tr><tr><td class = \"rowNumber\" style = \"font-weight: bold; text-align: right;\">4</td><td style = \"text-align: right;\">4</td><td style = \"text-align: right;\">3.72335</td><td style = \"text-align: right;\">4.04101</td><td style = \"text-align: right;\">0.372</td><td style = \"text-align: right;\">0.304</td><td style = \"text-align: right;\">0.650412</td><td style = \"text-align: right;\">1.12817</td></tr><tr><td class = \"rowNumber\" style = \"font-weight: bold; text-align: right;\">5</td><td style = \"text-align: right;\">5</td><td style = \"text-align: right;\">4.28744</td><td style = \"text-align: right;\">4.46361</td><td style = \"text-align: right;\">0.38</td><td style = \"text-align: right;\">0.188</td><td style = \"text-align: right;\">1.05875</td><td style = \"text-align: right;\">1.93018</td></tr></tbody></table></div>"
      ],
      "text/latex": [
       "\\begin{tabular}{r|ccccccc}\n",
       "\t& t & p1 & p2 & s1 & s2 & c1 & c2\\\\\n",
       "\t\\hline\n",
       "\t& Int64 & Float64 & Float64 & Float64 & Float64 & Float64 & Float64\\\\\n",
       "\t\\hline\n",
       "\t1 & 1 & 4.24923 & 3.92364 & 0.32 & 0.386 & 1.25605 & 0.793268 \\\\\n",
       "\t2 & 2 & 3.75415 & 3.95406 & 0.292 & 0.302 & 0.820287 & 1.05945 \\\\\n",
       "\t3 & 3 & 3.71179 & 3.90717 & 0.306 & 0.362 & 0.864106 & 0.769283 \\\\\n",
       "\t4 & 4 & 3.72335 & 4.04101 & 0.372 & 0.304 & 0.650412 & 1.12817 \\\\\n",
       "\t5 & 5 & 4.28744 & 4.46361 & 0.38 & 0.188 & 1.05875 & 1.93018 \\\\\n",
       "\\end{tabular}\n"
      ],
      "text/plain": [
       "\u001b[1m5×7 DataFrame\u001b[0m\n",
       "\u001b[1m Row \u001b[0m│\u001b[1m t     \u001b[0m\u001b[1m p1      \u001b[0m\u001b[1m p2      \u001b[0m\u001b[1m s1      \u001b[0m\u001b[1m s2      \u001b[0m\u001b[1m c1       \u001b[0m\u001b[1m c2       \u001b[0m\n",
       "     │\u001b[90m Int64 \u001b[0m\u001b[90m Float64 \u001b[0m\u001b[90m Float64 \u001b[0m\u001b[90m Float64 \u001b[0m\u001b[90m Float64 \u001b[0m\u001b[90m Float64  \u001b[0m\u001b[90m Float64  \u001b[0m\n",
       "─────┼───────────────────────────────────────────────────────────────\n",
       "   1 │     1  4.24923  3.92364    0.32     0.386  1.25605   0.793268\n",
       "   2 │     2  3.75415  3.95406    0.292    0.302  0.820287  1.05945\n",
       "   3 │     3  3.71179  3.90717    0.306    0.362  0.864106  0.769283\n",
       "   4 │     4  3.72335  4.04101    0.372    0.304  0.650412  1.12817\n",
       "   5 │     5  4.28744  4.46361    0.38     0.188  1.05875   1.93018"
      ]
     },
     "execution_count": 20,
     "metadata": {},
     "output_type": "execute_result"
    }
   ],
   "source": [
    "using DataFrames\n",
    "\n",
    "df = DataFrame(t = 1:T, p1 = p1[:, 1], p2 = p1[:, 2], s1 = s[:, 1], s2 = s[:, 2], c1 = c[:, 1], c2 = c[:, 2])\n",
    "\n",
    "first(df, 5) # Inspect the first 5 rows"
   ]
  },
  {
   "cell_type": "markdown",
   "id": "bd880498-a64c-4982-96a5-071e095079e6",
   "metadata": {},
   "source": [
    "## 2. Estimation\n",
    "Suppose we are interested in estimating the demand parameters, $(\\delta_1, \\delta_2, \\alpha)$. Manipulating equation (1), we can write:\n",
    "$$\\log[s_{jt}(\\mathbf{p}_t)/s_{0t}(\\mathbf{p}_t)] = \\delta_j - \\alpha p_{jt} + \\xi_{jt}.$$\n",
    "\n",
    "This suggest that we might be able to estimate the parameters by a linear regression of $\\log(s_{jt}/s_{0t})$ on product indicators and price. Let's try that!\n",
    "\n",
    "### 2.1. OLS"
   ]
  },
  {
   "cell_type": "markdown",
   "id": "94a1ef1c-c4cf-49c5-9109-a473ee63ee3d",
   "metadata": {},
   "source": [
    "Let's compute $\\log(s_{jt}/s_{0t})$ in our dataframe:"
   ]
  },
  {
   "cell_type": "code",
   "execution_count": 21,
   "id": "59ecd333-b8c0-4494-8f97-73b945ab16dd",
   "metadata": {},
   "outputs": [],
   "source": [
    "df.s0 = 1.0 .- df.s1 .- df.s2\n",
    "df.log_rel_share1 = log.(df.s1 ./ df.s0)\n",
    "df.log_rel_share2 = log.(df.s2 ./ df.s0);"
   ]
  },
  {
   "cell_type": "markdown",
   "id": "d01b809e-4b0d-41e0-9caa-134a9d6d0b61",
   "metadata": {},
   "source": [
    "Notice that our dataframe is in \"wide\" format. To run our regression we would like to have it in \"long\" format. The way of doing that in Julia is a bit more complicated than in Stata:"
   ]
  },
  {
   "cell_type": "code",
   "execution_count": 22,
   "id": "137541e4-e848-4a7b-a7cb-ba0efefec44a",
   "metadata": {
    "tags": []
   },
   "outputs": [
    {
     "data": {
      "text/html": [
       "<div><div style = \"float: left;\"><span>5×10 DataFrame</span></div><div style = \"clear: both;\"></div></div><div class = \"data-frame\" style = \"overflow-x: scroll;\"><table class = \"data-frame\" style = \"margin-bottom: 6px;\"><thead><tr class = \"header\"><th class = \"rowNumber\" style = \"font-weight: bold; text-align: right;\">Row</th><th style = \"text-align: left;\">t</th><th style = \"text-align: left;\">p1</th><th style = \"text-align: left;\">p2</th><th style = \"text-align: left;\">s1</th><th style = \"text-align: left;\">s2</th><th style = \"text-align: left;\">c1</th><th style = \"text-align: left;\">c2</th><th style = \"text-align: left;\">s0</th><th style = \"text-align: left;\">log_rel_share1</th><th style = \"text-align: left;\">log_rel_share2</th></tr><tr class = \"subheader headerLastRow\"><th class = \"rowNumber\" style = \"font-weight: bold; text-align: right;\"></th><th title = \"Int64\" style = \"text-align: left;\">Int64</th><th title = \"Float64\" style = \"text-align: left;\">Float64</th><th title = \"Float64\" style = \"text-align: left;\">Float64</th><th title = \"Float64\" style = \"text-align: left;\">Float64</th><th title = \"Float64\" style = \"text-align: left;\">Float64</th><th title = \"Float64\" style = \"text-align: left;\">Float64</th><th title = \"Float64\" style = \"text-align: left;\">Float64</th><th title = \"Float64\" style = \"text-align: left;\">Float64</th><th title = \"Float64\" style = \"text-align: left;\">Float64</th><th title = \"Float64\" style = \"text-align: left;\">Float64</th></tr></thead><tbody><tr><td class = \"rowNumber\" style = \"font-weight: bold; text-align: right;\">1</td><td style = \"text-align: right;\">1</td><td style = \"text-align: right;\">4.24923</td><td style = \"text-align: right;\">3.92364</td><td style = \"text-align: right;\">0.32</td><td style = \"text-align: right;\">0.386</td><td style = \"text-align: right;\">1.25605</td><td style = \"text-align: right;\">0.793268</td><td style = \"text-align: right;\">0.294</td><td style = \"text-align: right;\">0.0847412</td><td style = \"text-align: right;\">0.272258</td></tr><tr><td class = \"rowNumber\" style = \"font-weight: bold; text-align: right;\">2</td><td style = \"text-align: right;\">2</td><td style = \"text-align: right;\">3.75415</td><td style = \"text-align: right;\">3.95406</td><td style = \"text-align: right;\">0.292</td><td style = \"text-align: right;\">0.302</td><td style = \"text-align: right;\">0.820287</td><td style = \"text-align: right;\">1.05945</td><td style = \"text-align: right;\">0.406</td><td style = \"text-align: right;\">-0.329599</td><td style = \"text-align: right;\">-0.295926</td></tr><tr><td class = \"rowNumber\" style = \"font-weight: bold; text-align: right;\">3</td><td style = \"text-align: right;\">3</td><td style = \"text-align: right;\">3.71179</td><td style = \"text-align: right;\">3.90717</td><td style = \"text-align: right;\">0.306</td><td style = \"text-align: right;\">0.362</td><td style = \"text-align: right;\">0.864106</td><td style = \"text-align: right;\">0.769283</td><td style = \"text-align: right;\">0.332</td><td style = \"text-align: right;\">-0.0815499</td><td style = \"text-align: right;\">0.0865092</td></tr><tr><td class = \"rowNumber\" style = \"font-weight: bold; text-align: right;\">4</td><td style = \"text-align: right;\">4</td><td style = \"text-align: right;\">3.72335</td><td style = \"text-align: right;\">4.04101</td><td style = \"text-align: right;\">0.372</td><td style = \"text-align: right;\">0.304</td><td style = \"text-align: right;\">0.650412</td><td style = \"text-align: right;\">1.12817</td><td style = \"text-align: right;\">0.324</td><td style = \"text-align: right;\">0.13815</td><td style = \"text-align: right;\">-0.0637158</td></tr><tr><td class = \"rowNumber\" style = \"font-weight: bold; text-align: right;\">5</td><td style = \"text-align: right;\">5</td><td style = \"text-align: right;\">4.28744</td><td style = \"text-align: right;\">4.46361</td><td style = \"text-align: right;\">0.38</td><td style = \"text-align: right;\">0.188</td><td style = \"text-align: right;\">1.05875</td><td style = \"text-align: right;\">1.93018</td><td style = \"text-align: right;\">0.432</td><td style = \"text-align: right;\">-0.128254</td><td style = \"text-align: right;\">-0.831984</td></tr></tbody></table></div>"
      ],
      "text/latex": [
       "\\begin{tabular}{r|cccccccccc}\n",
       "\t& t & p1 & p2 & s1 & s2 & c1 & c2 & s0 & log\\_rel\\_share1 & \\\\\n",
       "\t\\hline\n",
       "\t& Int64 & Float64 & Float64 & Float64 & Float64 & Float64 & Float64 & Float64 & Float64 & \\\\\n",
       "\t\\hline\n",
       "\t1 & 1 & 4.24923 & 3.92364 & 0.32 & 0.386 & 1.25605 & 0.793268 & 0.294 & 0.0847412 & $\\dots$ \\\\\n",
       "\t2 & 2 & 3.75415 & 3.95406 & 0.292 & 0.302 & 0.820287 & 1.05945 & 0.406 & -0.329599 & $\\dots$ \\\\\n",
       "\t3 & 3 & 3.71179 & 3.90717 & 0.306 & 0.362 & 0.864106 & 0.769283 & 0.332 & -0.0815499 & $\\dots$ \\\\\n",
       "\t4 & 4 & 3.72335 & 4.04101 & 0.372 & 0.304 & 0.650412 & 1.12817 & 0.324 & 0.13815 & $\\dots$ \\\\\n",
       "\t5 & 5 & 4.28744 & 4.46361 & 0.38 & 0.188 & 1.05875 & 1.93018 & 0.432 & -0.128254 & $\\dots$ \\\\\n",
       "\\end{tabular}\n"
      ],
      "text/plain": [
       "\u001b[1m5×10 DataFrame\u001b[0m\n",
       "\u001b[1m Row \u001b[0m│\u001b[1m t     \u001b[0m\u001b[1m p1      \u001b[0m\u001b[1m p2      \u001b[0m\u001b[1m s1      \u001b[0m\u001b[1m s2      \u001b[0m\u001b[1m c1       \u001b[0m\u001b[1m c2       \u001b[0m\u001b[1m s0      \u001b[0m\u001b[1m\u001b[0m ⋯\n",
       "     │\u001b[90m Int64 \u001b[0m\u001b[90m Float64 \u001b[0m\u001b[90m Float64 \u001b[0m\u001b[90m Float64 \u001b[0m\u001b[90m Float64 \u001b[0m\u001b[90m Float64  \u001b[0m\u001b[90m Float64  \u001b[0m\u001b[90m Float64 \u001b[0m\u001b[90m\u001b[0m ⋯\n",
       "─────┼──────────────────────────────────────────────────────────────────────────\n",
       "   1 │     1  4.24923  3.92364    0.32     0.386  1.25605   0.793268    0.294  ⋯\n",
       "   2 │     2  3.75415  3.95406    0.292    0.302  0.820287  1.05945     0.406\n",
       "   3 │     3  3.71179  3.90717    0.306    0.362  0.864106  0.769283    0.332\n",
       "   4 │     4  3.72335  4.04101    0.372    0.304  0.650412  1.12817     0.324\n",
       "   5 │     5  4.28744  4.46361    0.38     0.188  1.05875   1.93018     0.432  ⋯\n",
       "\u001b[36m                                                               2 columns omitted\u001b[0m"
      ]
     },
     "execution_count": 22,
     "metadata": {},
     "output_type": "execute_result"
    }
   ],
   "source": [
    "first(df, 5)"
   ]
  },
  {
   "cell_type": "code",
   "execution_count": 23,
   "id": "9deecdf8-4a85-4c9b-80fb-80f87f06b07a",
   "metadata": {},
   "outputs": [],
   "source": [
    "cols_not_to_stack = [\"t\", \"s0\"]\n",
    "cols_to_stack = [\"p\", \"s\", \"c\", \"log_rel_share\"]\n",
    "\n",
    "df_long = df |>\n",
    "   x -> select(x, cols_not_to_stack, [cols_to_stack .* \"$j\" for j in 1:J] .=> ByRow(tuple) .=> [\"$j\" for j in 1:J]) |>\n",
    "   x -> stack(x, [\"$j\" for j in 1:J], variable_name = :product) |>\n",
    "   x -> select(x, cols_not_to_stack, :product, :value => cols_to_stack)\n",
    "\n",
    "df_long.product = parse.(Int, df_long.product);"
   ]
  },
  {
   "cell_type": "markdown",
   "id": "e145ea21-1e70-42df-9e98-79e6b5e0bc59",
   "metadata": {},
   "source": [
    "<div class=\"alert alert-block alert-success\">\n",
    "<b>Coding Tips:</b>\n",
    "<ol>\n",
    "    <li> This example introduces the \"piping\" operator, which allows for functional chaining, i.e. <code>y = x |> f |> g |> h</code> will be the same as <code>y = h(g(f(x)))</code>. It is useful in making the code more readable when the functions are somewhat complex. \n",
    "    Here we are applying three anonymous functions:\n",
    "    <ol>\n",
    "        <li> The first function returns a dataframe with <code>:t, :s0</code>, then turns the columns <code>:p1, :s1, :c1, :log_rel_share1</code> into a single tuple-valued variable named 1, and columns <code>:p2, :s2, :c2, :log_rel_share2</code> into a single tuple-valued variable named 2. The reason will become clear in the next step.</li>\n",
    "        <li> <code>stack</code> is the function that reshapes dataframes from wide to long. It works very differently from Stata: in Julia, <code>stack(df, [\"x\", \"y\", \"z\"])</code> will create a long dataframe with two new variables. The first one, named <code>:variable</code> by default, will contain the labels \"x,\" \"y,\" and \"z\" as strings (in our examples, the labels are \"1\" and \"2\" and I'm telling Julia to name this column \"product\"). The second one, named <code>:value</code> will contain the values of <code>x</code>, <code>y</code>, and <code>z</code> in the corresponding row. Here, this is a tuple containing <code>:p, :s, :c, :log_rel_share</code> for each product.</li>\n",
    "        <li> The third function \"un-tuples\" the variables in <code>:value</code>.</li>\n",
    "    </ol></li>\n",
    "    <li> Notice that <code>\"&#36;j\"</code> can be used to insert a variable <code>j</code> inside a string. The simplest case <code>[\"$j\" for j in 1:J]</code> just returns <code>[\"1\", \"2\"]</code> but I do recommend using the more complicated expression as a best practice: imagine you decide to have 100 products instead of 2. Then, this way, the code adaps automatically, instead of manually having to find and replace every instance of <code>[\"1\", \"2\"]</code>.</li>\n",
    "    <li> I am also using the <code>*</code> operator to append strings, see examples below.</li>\n",
    "    <li> The function <code>parse(type, x)</code> turns x into a given type. In this case, we are expressing the product back as an integer, rather than a string. This works better with <code>DummyCoding()</code> in the <code>Econometrics</code> package.</li>\n",
    "    </ol>\n",
    "</div>"
   ]
  },
  {
   "cell_type": "code",
   "execution_count": 24,
   "id": "15ced105-d350-4a81-a537-cfac2df4831f",
   "metadata": {},
   "outputs": [
    {
     "name": "stdout",
     "output_type": "stream",
     "text": [
      "\"This\" * \" and that\" = \"This and that\"\n",
      "[\"A\", \"B\"] .* \"C\" = [\"AC\", \"BC\"]\n"
     ]
    }
   ],
   "source": [
    "# Examples of the * operator between strings\n",
    "@show \"This\" * \" and that\"\n",
    "@show [\"A\", \"B\"] .* \"C\"; # [\"A\", \"B\"] * \"C\" would give a broadcasting error"
   ]
  },
  {
   "cell_type": "code",
   "execution_count": 25,
   "id": "68755415-986a-46ea-93d3-ee10df631a47",
   "metadata": {
    "tags": []
   },
   "outputs": [
    {
     "data": {
      "text/html": [
       "<div><div style = \"float: left;\"><span>5×7 DataFrame</span></div><div style = \"clear: both;\"></div></div><div class = \"data-frame\" style = \"overflow-x: scroll;\"><table class = \"data-frame\" style = \"margin-bottom: 6px;\"><thead><tr class = \"header\"><th class = \"rowNumber\" style = \"font-weight: bold; text-align: right;\">Row</th><th style = \"text-align: left;\">t</th><th style = \"text-align: left;\">s0</th><th style = \"text-align: left;\">product</th><th style = \"text-align: left;\">p</th><th style = \"text-align: left;\">s</th><th style = \"text-align: left;\">c</th><th style = \"text-align: left;\">log_rel_share</th></tr><tr class = \"subheader headerLastRow\"><th class = \"rowNumber\" style = \"font-weight: bold; text-align: right;\"></th><th title = \"Int64\" style = \"text-align: left;\">Int64</th><th title = \"Float64\" style = \"text-align: left;\">Float64</th><th title = \"Int64\" style = \"text-align: left;\">Int64</th><th title = \"Float64\" style = \"text-align: left;\">Float64</th><th title = \"Float64\" style = \"text-align: left;\">Float64</th><th title = \"Float64\" style = \"text-align: left;\">Float64</th><th title = \"Float64\" style = \"text-align: left;\">Float64</th></tr></thead><tbody><tr><td class = \"rowNumber\" style = \"font-weight: bold; text-align: right;\">1</td><td style = \"text-align: right;\">1</td><td style = \"text-align: right;\">0.294</td><td style = \"text-align: right;\">1</td><td style = \"text-align: right;\">4.24923</td><td style = \"text-align: right;\">0.32</td><td style = \"text-align: right;\">1.25605</td><td style = \"text-align: right;\">0.0847412</td></tr><tr><td class = \"rowNumber\" style = \"font-weight: bold; text-align: right;\">2</td><td style = \"text-align: right;\">2</td><td style = \"text-align: right;\">0.406</td><td style = \"text-align: right;\">1</td><td style = \"text-align: right;\">3.75415</td><td style = \"text-align: right;\">0.292</td><td style = \"text-align: right;\">0.820287</td><td style = \"text-align: right;\">-0.329599</td></tr><tr><td class = \"rowNumber\" style = \"font-weight: bold; text-align: right;\">3</td><td style = \"text-align: right;\">3</td><td style = \"text-align: right;\">0.332</td><td style = \"text-align: right;\">1</td><td style = \"text-align: right;\">3.71179</td><td style = \"text-align: right;\">0.306</td><td style = \"text-align: right;\">0.864106</td><td style = \"text-align: right;\">-0.0815499</td></tr><tr><td class = \"rowNumber\" style = \"font-weight: bold; text-align: right;\">4</td><td style = \"text-align: right;\">4</td><td style = \"text-align: right;\">0.324</td><td style = \"text-align: right;\">1</td><td style = \"text-align: right;\">3.72335</td><td style = \"text-align: right;\">0.372</td><td style = \"text-align: right;\">0.650412</td><td style = \"text-align: right;\">0.13815</td></tr><tr><td class = \"rowNumber\" style = \"font-weight: bold; text-align: right;\">5</td><td style = \"text-align: right;\">5</td><td style = \"text-align: right;\">0.432</td><td style = \"text-align: right;\">1</td><td style = \"text-align: right;\">4.28744</td><td style = \"text-align: right;\">0.38</td><td style = \"text-align: right;\">1.05875</td><td style = \"text-align: right;\">-0.128254</td></tr></tbody></table></div>"
      ],
      "text/latex": [
       "\\begin{tabular}{r|ccccccc}\n",
       "\t& t & s0 & product & p & s & c & log\\_rel\\_share\\\\\n",
       "\t\\hline\n",
       "\t& Int64 & Float64 & Int64 & Float64 & Float64 & Float64 & Float64\\\\\n",
       "\t\\hline\n",
       "\t1 & 1 & 0.294 & 1 & 4.24923 & 0.32 & 1.25605 & 0.0847412 \\\\\n",
       "\t2 & 2 & 0.406 & 1 & 3.75415 & 0.292 & 0.820287 & -0.329599 \\\\\n",
       "\t3 & 3 & 0.332 & 1 & 3.71179 & 0.306 & 0.864106 & -0.0815499 \\\\\n",
       "\t4 & 4 & 0.324 & 1 & 3.72335 & 0.372 & 0.650412 & 0.13815 \\\\\n",
       "\t5 & 5 & 0.432 & 1 & 4.28744 & 0.38 & 1.05875 & -0.128254 \\\\\n",
       "\\end{tabular}\n"
      ],
      "text/plain": [
       "\u001b[1m5×7 DataFrame\u001b[0m\n",
       "\u001b[1m Row \u001b[0m│\u001b[1m t     \u001b[0m\u001b[1m s0      \u001b[0m\u001b[1m product \u001b[0m\u001b[1m p       \u001b[0m\u001b[1m s       \u001b[0m\u001b[1m c        \u001b[0m\u001b[1m log_rel_share \u001b[0m\n",
       "     │\u001b[90m Int64 \u001b[0m\u001b[90m Float64 \u001b[0m\u001b[90m Int64   \u001b[0m\u001b[90m Float64 \u001b[0m\u001b[90m Float64 \u001b[0m\u001b[90m Float64  \u001b[0m\u001b[90m Float64       \u001b[0m\n",
       "─────┼────────────────────────────────────────────────────────────────────\n",
       "   1 │     1    0.294        1  4.24923    0.32   1.25605       0.0847412\n",
       "   2 │     2    0.406        1  3.75415    0.292  0.820287     -0.329599\n",
       "   3 │     3    0.332        1  3.71179    0.306  0.864106     -0.0815499\n",
       "   4 │     4    0.324        1  3.72335    0.372  0.650412      0.13815\n",
       "   5 │     5    0.432        1  4.28744    0.38   1.05875      -0.128254"
      ]
     },
     "execution_count": 25,
     "metadata": {},
     "output_type": "execute_result"
    }
   ],
   "source": [
    "first(df_long, 5)"
   ]
  },
  {
   "cell_type": "code",
   "execution_count": 27,
   "id": "9e1b30d0-17bc-4cae-a288-8fae1446f588",
   "metadata": {},
   "outputs": [
    {
     "data": {
      "text/plain": [
       "Continuous Response Model\n",
       "Number of observations: 2000\n",
       "Null Loglikelihood: 77.89\n",
       "Loglikelihood: 166.16\n",
       "R-squared: 0.0845\n",
       "LR Test: 176.54 ∼ χ²(3) ⟹  Pr > χ² = 0.0000\n",
       "Formula: log_rel_share ~ 0 + product + p\n",
       "Variance Covariance Estimator: OIM\n",
       "───────────────────────────────────────────────────────────────────────────\n",
       "                PE         SE      t-value  Pr > |t|       2.50%     97.50%\n",
       "───────────────────────────────────────────────────────────────────────────\n",
       "product: 1  -0.598523  0.0829085  -7.21907    <1e-12  -0.761119   -0.435926\n",
       "product: 2  -0.696395  0.079948   -8.71061    <1e-17  -0.853186   -0.539605\n",
       "p            0.135604  0.0202797   6.68667    <1e-10   0.0958321   0.175375\n",
       "───────────────────────────────────────────────────────────────────────────"
      ]
     },
     "execution_count": 27,
     "metadata": {},
     "output_type": "execute_result"
    }
   ],
   "source": [
    "using Econometrics\n",
    "\n",
    "OLS = fit(EconometricModel, @formula(log_rel_share ~ 0 + product + p), df_long, \n",
    "    contrasts = Dict(:product => DummyCoding()))"
   ]
  },
  {
   "cell_type": "markdown",
   "id": "3a92d21a-6145-4c57-bcbf-f37cdb0db47e",
   "metadata": {},
   "source": [
    "<div class=\"alert alert-block alert-success\">\n",
    "<b>Coding Tips:</b>\n",
    "<ol>\n",
    "    <li> See the <a href=\"https://nosferican.github.io/Econometrics.jl/dev/\">documentation for the Econometrics package</a> (it has many useful features, and the documentation makes the link with Stata commands clear!).</li>\n",
    "    <li> Some things to notice: in the <code>@formula(log_rel_share ~ 0 + product + p)</code>, I am telling Julia not to include a constant (so that we can have dummies for both product 1 and 2 instead of omitting a base category). With the option <code>contrasts = Dict(:product => DummyCoding())</code>, I am telling Julia that <code>:product</code> is a categorical variable that should be included as dummies in the regression.</li>\n",
    "</div>"
   ]
  },
  {
   "cell_type": "markdown",
   "id": "3a81aed4-f318-4241-996c-d6894c76f6ee",
   "metadata": {},
   "source": [
    "The ```Econometrics``` package also allows us to get heteroskedasticity-robust standard errors, but it does not supply them by default. They can be computed using different numerical methods (HC0 to HC4, same as in R's ```vcovHC```). The recommended one by Long & Ervin (2000) is HC3, so I will be using those here. You can get them with:"
   ]
  },
  {
   "cell_type": "code",
   "execution_count": 17,
   "id": "cf0d9803-98f8-46ab-9837-cee5ddc68567",
   "metadata": {},
   "outputs": [
    {
     "data": {
      "text/plain": [
       "Continuous Response Model\n",
       "Number of observations: 2000\n",
       "Null Loglikelihood: 86.20\n",
       "Loglikelihood: 177.31\n",
       "R-squared: 0.0871\n",
       "LR Test: 182.21 ∼ χ²(3) ⟹  Pr > χ² = 0.0000\n",
       "Formula: log_rel_share ~ 0 + product + p\n",
       "Variance Covariance Estimator: HC3\n",
       "───────────────────────────────────────────────────────────────────────────\n",
       "                PE         SE      t-value  Pr > |t|       2.50%     97.50%\n",
       "───────────────────────────────────────────────────────────────────────────\n",
       "product: 1  -0.622147  0.0899333  -6.91787    <1e-11  -0.79852    -0.445774\n",
       "product: 2  -0.719216  0.0865892  -8.30607    <1e-15  -0.889031   -0.549402\n",
       "p            0.141469  0.0221472   6.38765    <1e-09   0.0980347   0.184903\n",
       "───────────────────────────────────────────────────────────────────────────"
      ]
     },
     "execution_count": 17,
     "metadata": {},
     "output_type": "execute_result"
    }
   ],
   "source": [
    "OLS = fit(EconometricModel, @formula(log_rel_share ~ 0 + product + p), df_long, \n",
    "          contrasts = Dict(:product => DummyCoding()), vce = HC3)"
   ]
  },
  {
   "cell_type": "markdown",
   "id": "9fa19060-642c-436d-bce7-dd76fdb4b9a1",
   "metadata": {},
   "source": [
    "### 2.2. IV\n",
    "Look again at the OLS estimates. Oops, they are quite bad — we are estimating a positive coefficient on price! \n",
    "\n",
    "As you probably remember from your econometrics course, it is usually not a good idea to estimate demand parameters by just regressing quantities on prices, because of simultaneity bias. In our setting, $E[\\xi_{jt}p_{jt}] \\neq 0$ because the monopolistic firms take taste shocks into account when deciding prices. We need a source of variation that shifts prices but is uncorrelated with taste shocks... like a cost shifter that shocks supply. But we are assuming that marginal costs are observed in our setting! Let's try using them as an instrument for prices:"
   ]
  },
  {
   "cell_type": "code",
   "execution_count": 28,
   "id": "77200865-7977-449f-ac33-28d69b302687",
   "metadata": {},
   "outputs": [
    {
     "data": {
      "text/plain": [
       "Continuous Response Model\n",
       "Number of observations: 2000\n",
       "Null Loglikelihood: 77.89\n",
       "Loglikelihood: -234.83\n",
       "R-squared: NaN\n",
       "LR Test: -625.43 ∼ χ²(3) ⟹  Pr > χ² = 1.0000\n",
       "Formula: log_rel_share ~ 0 + product + (p ~ c)\n",
       "Variance Covariance Estimator: HC3\n",
       "──────────────────────────────────────────────────────────────────────────\n",
       "                PE         SE      t-value  Pr > |t|      2.50%     97.50%\n",
       "──────────────────────────────────────────────────────────────────────────\n",
       "product: 1   1.99426   0.133617    14.9252    <1e-47   1.73222    2.2563\n",
       "product: 2   1.80312   0.129293    13.946     <1e-41   1.54955    2.05668\n",
       "p           -0.500903  0.0327991  -15.2718    <1e-49  -0.565227  -0.436579\n",
       "──────────────────────────────────────────────────────────────────────────"
      ]
     },
     "execution_count": 28,
     "metadata": {},
     "output_type": "execute_result"
    }
   ],
   "source": [
    "IV = fit(EconometricModel, @formula(log_rel_share ~ 0 + product + (p ~ c)), df_long, \n",
    "         contrasts = Dict(:product => DummyCoding()), vce = HC3)"
   ]
  },
  {
   "cell_type": "markdown",
   "id": "2ad4fef5-d3dd-4768-8b9f-828ed766beea",
   "metadata": {},
   "source": [
    "That's much better! You can use ```RegressionTables.jl``` to print regression tables:"
   ]
  },
  {
   "cell_type": "code",
   "execution_count": 30,
   "id": "33b0f7fc-5ed5-4742-a1f8-1563b0449d30",
   "metadata": {
    "scrolled": true
   },
   "outputs": [
    {
     "data": {
      "text/plain": [
       "\n",
       "---------------------------------\n",
       "               OLS          IV   \n",
       "            ---------   ---------\n",
       "             log(Relative Share) \n",
       "            ---------------------\n",
       "                  (1)         (2)\n",
       "---------------------------------\n",
       "Product 1   -0.599***    1.994***\n",
       "              (0.083)     (0.134)\n",
       "Product 2   -0.696***    1.803***\n",
       "              (0.080)     (0.129)\n",
       "Price        0.136***   -0.501***\n",
       "              (0.020)     (0.033)\n",
       "---------------------------------\n",
       "N               2,000       2,000\n",
       "---------------------------------\n",
       "\n"
      ]
     },
     "execution_count": 30,
     "metadata": {},
     "output_type": "execute_result"
    }
   ],
   "source": [
    "using RegressionTables\n",
    "\n",
    "# A dictionary with variable => variable label\n",
    "labels = Dict(\"product: 1\" => \"Product 1\", \"product: 2\" => \"Product 2\", \n",
    "              \"p\" => \"Price\", \"log_rel_share\" => \"log(Relative Share)\")\n",
    "\n",
    "regtable(OLS, IV, regression_statistics = [:nobs], labels = labels, \n",
    "         groups = [\"OLS\", \"IV\"], print_estimator_section = false)"
   ]
  },
  {
   "cell_type": "markdown",
   "id": "947930a8-8185-4e2f-b5e7-e6c863e35af3",
   "metadata": {},
   "source": [
    "## 3. Counterfactuals: Effects of a Tax\n",
    "\n",
    "Suppose now that the Spanish government wants to disincentivize consumption of meat by imposing a tax on chicken paella, but they do not want to decrease consumer surplus by much, so they have asked us how consumer surplus and profits would change for different values of the tax. Let's use our estimated demand parameters to answer this question.\n",
    "\n",
    "First, the expression for expected consumer surplus with EV type I idiosyncratic utilities is:\n",
    "$$E[\\max_{j \\in \\{0, 1, 2\\}} u_{ijt}] = \\frac{1}{\\alpha}\\log\\Big( 1 + \\sum_{j=1}^2 \\exp(\\delta_j - \\alpha p_{jt} + \\xi_{jt})\\Big) + \\text{const.}$$\n",
    "\n",
    "(The constant does not matter because it will difference out when we compare welfare with and without the tax).\n",
    "\n",
    "To compute that based on our IV estimation, let's extract the coefficients and residuals:"
   ]
  },
  {
   "cell_type": "code",
   "execution_count": 35,
   "id": "a67b33ce-8a69-4b85-bb2f-602d95a9f70f",
   "metadata": {},
   "outputs": [],
   "source": [
    "δ_hat = coef(IV)[1:2]\n",
    "α_hat = -coef(IV)[3]\n",
    "ξ_hat = zeros(Float64, T, J)\n",
    "ξ_hat[:, 1] = residuals(IV)[df_long.product .== 1]\n",
    "ξ_hat[:, 2] = residuals(IV)[df_long.product .== 2];"
   ]
  },
  {
   "cell_type": "markdown",
   "id": "0e0063e4-057b-4fe3-b8a4-5baa91eb11ad",
   "metadata": {},
   "source": [
    "Now let's create a function that computes the equilibrium prices as a function of the taxation level. We will use the first method above, modifying the FOC accordingly (you can derive it at home!):"
   ]
  },
  {
   "cell_type": "code",
   "execution_count": 36,
   "id": "9f499cee-a98e-41c5-a840-8c5e7ac30f27",
   "metadata": {},
   "outputs": [],
   "source": [
    "function FOC_tax(p::Matrix{Float64}; tax::Float64, α=α_hat, δ=δ_hat, ξ=ξ_hat)\n",
    "    tax_mult = ones(Float64, T, J)\n",
    "    tax_mult[:, 1] .+= tax # The tax multiplier is 1 + tax rate\n",
    "    return c::Matrix{Float64} .+ 1.0 ./ (α .* tax_mult .* (1.0 .- shares(tax_mult .* p, α=α, δ=δ, ξ=ξ)))\n",
    "end\n",
    "\n",
    "function eq_prices_FOC_tax(tax; α=α_hat, δ=δ_hat, ξ=ξ_hat)\n",
    "    res = fixedpoint(x -> FOC_tax(x, tax=tax, α=α, δ=δ, ξ=ξ), p1)\n",
    "    return res.zero\n",
    "end;"
   ]
  },
  {
   "cell_type": "markdown",
   "id": "ce8a384a-f028-4458-96f4-70e4d2918406",
   "metadata": {},
   "source": [
    "Finally, let's define a function that computes the difference in expected consumer surplus, averaged across towns, with and without the tax:"
   ]
  },
  {
   "cell_type": "code",
   "execution_count": 37,
   "id": "4870143f-b09c-4ac9-9d3c-086ca0d160d5",
   "metadata": {},
   "outputs": [],
   "source": [
    "CS(p; α=α_hat, δ=δ_hat, ξ=ξ_hat) = 1.0/α * mean(log.(1.0 .+ sum(exp.(δ' .- α .* p .+ ξ), dims = 1)))\n",
    "\n",
    "CS_no_tax = CS(p1)\n",
    "\n",
    "function CS_diff(tax; α=α_hat, δ=δ_hat, ξ=ξ_hat)\n",
    "    p_tax = eq_prices_FOC_tax(tax, α=α, δ=δ, ξ=ξ)\n",
    "    tax_mult = ones(Float64, T, J)\n",
    "    tax_mult[:, 1] .+= tax\n",
    "    return CS(tax_mult .* p_tax) - CS_no_tax::Float64\n",
    "end\n",
    "\n",
    "tax_grid = 0.1:0.1:1.0 # [0.1, 0.2, ..., 1.0]\n",
    "CS_results = [CS_diff(tax) for tax in tax_grid]; "
   ]
  },
  {
   "cell_type": "markdown",
   "id": "3da22fd5-abff-41ff-b6f3-037e702e387c",
   "metadata": {},
   "source": [
    "<div class=\"alert alert-block alert-success\">\n",
    "<b>Coding Tips:</b>\n",
    "<ol>\n",
    "    <li> In <code>sum(exp.(δ' .- α .* p .+ ξ), dims = 1)</code>, we are indicating that we want to do the sum row-wise: along the first dimension of the array. That is, for each row, we want to sum the elements in each column of that row (rather than summing all elements in the matrix). See examples of this below.</li>\n",
    "    <li> A \"comprehension\" is a compact way to define arrays via a for loop. For example, <code>[CS_diff(tax) for tax in tax_grid]</code>.</li>\n",
    "</div>"
   ]
  },
  {
   "cell_type": "markdown",
   "id": "f8e1e5eb-2944-42c3-a8ec-6bebf0d967bb",
   "metadata": {},
   "source": [
    "What about profits (let's express it in per consumer terms, so that they are in the same units as the CS)?"
   ]
  },
  {
   "cell_type": "code",
   "execution_count": 42,
   "id": "2bb01dab-9d21-4cab-9044-e456299c4c40",
   "metadata": {},
   "outputs": [],
   "source": [
    "profits_results = zeros(Float64, length(tax_grid), J)\n",
    "\n",
    "for j = 1:J\n",
    "    profit_no_tax = [profit(p1[t, j], p1[t, end-j+1]; α=α_hat, δ=δ_hat, ξ=ξ_hat, t=t, j=j) for t=1:T]./N\n",
    "\n",
    "    function profit_diff(tax; α=α_hat, δ=δ_hat, ξ=ξ_hat)\n",
    "        p_tax = eq_prices_FOC_tax(tax, α=α, δ=δ, ξ=ξ)\n",
    "        tax_mult = ones(Float64, T, J)\n",
    "        tax_mult[:, 1] .+= tax\n",
    "        profit_tax = shares(tax_mult .* p_tax, α=α, δ=δ, ξ=ξ)[:, j] .* (p_tax[:, j] .- c[:, j]::Vector{Float64})\n",
    "        return mean(profit_tax .- profit_no_tax::Vector{Float64})\n",
    "    end\n",
    "\n",
    "    tax_grid = 0.1:0.1:1.0\n",
    "    profits_results[:, j] = [profit_diff(tax) for tax in tax_grid];\n",
    "end"
   ]
  },
  {
   "cell_type": "markdown",
   "id": "c58a2514-1cdd-445e-9d0e-4e17b2a61885",
   "metadata": {},
   "source": [
    "Finally, we will learn how to make plots to visualize the results:"
   ]
  },
  {
   "cell_type": "code",
   "execution_count": 43,
   "id": "ba952750-0f51-4b71-b20e-7cfac7a9c0d8",
   "metadata": {
    "scrolled": true
   },
   "outputs": [
    {
     "data": {
      "image/png": "[encoded data removed]",
      "image/svg+xml": [
       "<?xml version=\"1.0\" encoding=\"utf-8\"?>\n",
       "<svg xmlns=\"http://www.w3.org/2000/svg\" xmlns:xlink=\"http://www.w3.org/1999/xlink\" width=\"600\" height=\"400\" viewBox=\"0 0 2400 1600\">\n",
       "<defs>\n",
       "  <clipPath id=\"clip160\">\n",
       "    <rect x=\"0\" y=\"0\" width=\"2400\" height=\"1600\"/>\n",
       "  </clipPath>\n",
       "</defs>\n",
       "<path clip-path=\"url(#clip160)\" d=\"M0 1600 L2400 1600 L2400 8.88178e-14 L0 8.88178e-14  Z\" fill=\"#ffffff\" fill-rule=\"evenodd\" fill-opacity=\"1\"/>\n",
       "<defs>\n",
       "  <clipPath id=\"clip161\">\n",
       "    <rect x=\"480\" y=\"0\" width=\"1681\" height=\"1600\"/>\n",
       "  </clipPath>\n",
       "</defs>\n",
       "<path clip-path=\"url(#clip160)\" d=\"M257.69 1423.18 L1572.47 1423.18 L1572.47 47.2441 L257.69 47.2441  Z\" fill=\"#ffffff\" fill-rule=\"evenodd\" fill-opacity=\"1\"/>\n",
       "<defs>\n",
       "  <clipPath id=\"clip162\">\n",
       "    <rect x=\"257\" y=\"47\" width=\"1316\" height=\"1377\"/>\n",
       "  </clipPath>\n",
       "</defs>\n",
       "<polyline clip-path=\"url(#clip162)\" style=\"stroke:#000000; stroke-linecap:round; stroke-linejoin:round; stroke-width:2; stroke-opacity:0.1; fill:none\" points=\"432.718,1423.18 432.718,47.2441 \"/>\n",
       "<polyline clip-path=\"url(#clip162)\" style=\"stroke:#000000; stroke-linecap:round; stroke-linejoin:round; stroke-width:2; stroke-opacity:0.1; fill:none\" points=\"708.353,1423.18 708.353,47.2441 \"/>\n",
       "<polyline clip-path=\"url(#clip162)\" style=\"stroke:#000000; stroke-linecap:round; stroke-linejoin:round; stroke-width:2; stroke-opacity:0.1; fill:none\" points=\"983.987,1423.18 983.987,47.2441 \"/>\n",
       "<polyline clip-path=\"url(#clip162)\" style=\"stroke:#000000; stroke-linecap:round; stroke-linejoin:round; stroke-width:2; stroke-opacity:0.1; fill:none\" points=\"1259.62,1423.18 1259.62,47.2441 \"/>\n",
       "<polyline clip-path=\"url(#clip162)\" style=\"stroke:#000000; stroke-linecap:round; stroke-linejoin:round; stroke-width:2; stroke-opacity:0.1; fill:none\" points=\"1535.26,1423.18 1535.26,47.2441 \"/>\n",
       "<polyline clip-path=\"url(#clip162)\" style=\"stroke:#000000; stroke-linecap:round; stroke-linejoin:round; stroke-width:2; stroke-opacity:0.1; fill:none\" points=\"257.69,1269.23 1572.47,1269.23 \"/>\n",
       "<polyline clip-path=\"url(#clip162)\" style=\"stroke:#000000; stroke-linecap:round; stroke-linejoin:round; stroke-width:2; stroke-opacity:0.1; fill:none\" points=\"257.69,932.507 1572.47,932.507 \"/>\n",
       "<polyline clip-path=\"url(#clip162)\" style=\"stroke:#000000; stroke-linecap:round; stroke-linejoin:round; stroke-width:2; stroke-opacity:0.1; fill:none\" points=\"257.69,595.78 1572.47,595.78 \"/>\n",
       "<polyline clip-path=\"url(#clip162)\" style=\"stroke:#000000; stroke-linecap:round; stroke-linejoin:round; stroke-width:2; stroke-opacity:0.1; fill:none\" points=\"257.69,259.053 1572.47,259.053 \"/>\n",
       "<polyline clip-path=\"url(#clip160)\" style=\"stroke:#000000; stroke-linecap:round; stroke-linejoin:round; stroke-width:4; stroke-opacity:1; fill:none\" points=\"257.69,1423.18 1572.47,1423.18 \"/>\n",
       "<polyline clip-path=\"url(#clip160)\" style=\"stroke:#000000; stroke-linecap:round; stroke-linejoin:round; stroke-width:4; stroke-opacity:1; fill:none\" points=\"432.718,1423.18 432.718,1404.28 \"/>\n",
       "<polyline clip-path=\"url(#clip160)\" style=\"stroke:#000000; stroke-linecap:round; stroke-linejoin:round; stroke-width:4; stroke-opacity:1; fill:none\" points=\"708.353,1423.18 708.353,1404.28 \"/>\n",
       "<polyline clip-path=\"url(#clip160)\" style=\"stroke:#000000; stroke-linecap:round; stroke-linejoin:round; stroke-width:4; stroke-opacity:1; fill:none\" points=\"983.987,1423.18 983.987,1404.28 \"/>\n",
       "<polyline clip-path=\"url(#clip160)\" style=\"stroke:#000000; stroke-linecap:round; stroke-linejoin:round; stroke-width:4; stroke-opacity:1; fill:none\" points=\"1259.62,1423.18 1259.62,1404.28 \"/>\n",
       "<polyline clip-path=\"url(#clip160)\" style=\"stroke:#000000; stroke-linecap:round; stroke-linejoin:round; stroke-width:4; stroke-opacity:1; fill:none\" points=\"1535.26,1423.18 1535.26,1404.28 \"/>\n",
       "<path clip-path=\"url(#clip160)\" d=\"M410.901 1454.1 Q407.29 1454.1 405.461 1457.66 Q403.656 1461.2 403.656 1468.33 Q403.656 1475.44 405.461 1479.01 Q407.29 1482.55 410.901 1482.55 Q414.535 1482.55 416.341 1479.01 Q418.17 1475.44 418.17 1468.33 Q418.17 1461.2 416.341 1457.66 Q414.535 1454.1 410.901 1454.1 M410.901 1450.39 Q416.711 1450.39 419.767 1455 Q422.846 1459.58 422.846 1468.33 Q422.846 1477.06 419.767 1481.67 Q416.711 1486.25 410.901 1486.25 Q405.091 1486.25 402.012 1481.67 Q398.957 1477.06 398.957 1468.33 Q398.957 1459.58 402.012 1455 Q405.091 1450.39 410.901 1450.39 Z\" fill=\"#000000\" fill-rule=\"nonzero\" fill-opacity=\"1\" /><path clip-path=\"url(#clip160)\" d=\"M431.063 1479.7 L435.947 1479.7 L435.947 1485.58 L431.063 1485.58 L431.063 1479.7 Z\" fill=\"#000000\" fill-rule=\"nonzero\" fill-opacity=\"1\" /><path clip-path=\"url(#clip160)\" d=\"M450.16 1481.64 L466.48 1481.64 L466.48 1485.58 L444.535 1485.58 L444.535 1481.64 Q447.197 1478.89 451.781 1474.26 Q456.387 1469.61 457.568 1468.27 Q459.813 1465.74 460.693 1464.01 Q461.595 1462.25 461.595 1460.56 Q461.595 1457.8 459.651 1456.07 Q457.73 1454.33 454.628 1454.33 Q452.429 1454.33 449.975 1455.09 Q447.544 1455.86 444.767 1457.41 L444.767 1452.69 Q447.591 1451.55 450.044 1450.97 Q452.498 1450.39 454.535 1450.39 Q459.905 1450.39 463.1 1453.08 Q466.294 1455.77 466.294 1460.26 Q466.294 1462.39 465.484 1464.31 Q464.697 1466.2 462.591 1468.8 Q462.012 1469.47 458.91 1472.69 Q455.808 1475.88 450.16 1481.64 Z\" fill=\"#000000\" fill-rule=\"nonzero\" fill-opacity=\"1\" /><path clip-path=\"url(#clip160)\" d=\"M685.494 1454.1 Q681.883 1454.1 680.054 1457.66 Q678.249 1461.2 678.249 1468.33 Q678.249 1475.44 680.054 1479.01 Q681.883 1482.55 685.494 1482.55 Q689.128 1482.55 690.934 1479.01 Q692.763 1475.44 692.763 1468.33 Q692.763 1461.2 690.934 1457.66 Q689.128 1454.1 685.494 1454.1 M685.494 1450.39 Q691.304 1450.39 694.36 1455 Q697.438 1459.58 697.438 1468.33 Q697.438 1477.06 694.36 1481.67 Q691.304 1486.25 685.494 1486.25 Q679.684 1486.25 676.605 1481.67 Q673.55 1477.06 673.55 1468.33 Q673.55 1459.58 676.605 1455 Q679.684 1450.39 685.494 1450.39 Z\" fill=\"#000000\" fill-rule=\"nonzero\" fill-opacity=\"1\" /><path clip-path=\"url(#clip160)\" d=\"M705.656 1479.7 L710.54 1479.7 L710.54 1485.58 L705.656 1485.58 L705.656 1479.7 Z\" fill=\"#000000\" fill-rule=\"nonzero\" fill-opacity=\"1\" /><path clip-path=\"url(#clip160)\" d=\"M733.573 1455.09 L721.767 1473.54 L733.573 1473.54 L733.573 1455.09 M732.346 1451.02 L738.225 1451.02 L738.225 1473.54 L743.156 1473.54 L743.156 1477.43 L738.225 1477.43 L738.225 1485.58 L733.573 1485.58 L733.573 1477.43 L717.971 1477.43 L717.971 1472.92 L732.346 1451.02 Z\" fill=\"#000000\" fill-rule=\"nonzero\" fill-opacity=\"1\" /><path clip-path=\"url(#clip160)\" d=\"M961.291 1454.1 Q957.68 1454.1 955.851 1457.66 Q954.045 1461.2 954.045 1468.33 Q954.045 1475.44 955.851 1479.01 Q957.68 1482.55 961.291 1482.55 Q964.925 1482.55 966.731 1479.01 Q968.559 1475.44 968.559 1468.33 Q968.559 1461.2 966.731 1457.66 Q964.925 1454.1 961.291 1454.1 M961.291 1450.39 Q967.101 1450.39 970.156 1455 Q973.235 1459.58 973.235 1468.33 Q973.235 1477.06 970.156 1481.67 Q967.101 1486.25 961.291 1486.25 Q955.481 1486.25 952.402 1481.67 Q949.346 1477.06 949.346 1468.33 Q949.346 1459.58 952.402 1455 Q955.481 1450.39 961.291 1450.39 Z\" fill=\"#000000\" fill-rule=\"nonzero\" fill-opacity=\"1\" /><path clip-path=\"url(#clip160)\" d=\"M981.453 1479.7 L986.337 1479.7 L986.337 1485.58 L981.453 1485.58 L981.453 1479.7 Z\" fill=\"#000000\" fill-rule=\"nonzero\" fill-opacity=\"1\" /><path clip-path=\"url(#clip160)\" d=\"M1007.1 1466.44 Q1003.95 1466.44 1002.1 1468.59 Q1000.27 1470.74 1000.27 1474.49 Q1000.27 1478.22 1002.1 1480.39 Q1003.95 1482.55 1007.1 1482.55 Q1010.25 1482.55 1012.08 1480.39 Q1013.93 1478.22 1013.93 1474.49 Q1013.93 1470.74 1012.08 1468.59 Q1010.25 1466.44 1007.1 1466.44 M1016.38 1451.78 L1016.38 1456.04 Q1014.62 1455.21 1012.82 1454.77 Q1011.04 1454.33 1009.28 1454.33 Q1004.65 1454.33 1002.19 1457.45 Q999.763 1460.58 999.416 1466.9 Q1000.78 1464.89 1002.84 1463.82 Q1004.9 1462.73 1007.38 1462.73 Q1012.59 1462.73 1015.6 1465.9 Q1018.63 1469.05 1018.63 1474.49 Q1018.63 1479.82 1015.48 1483.03 Q1012.33 1486.25 1007.1 1486.25 Q1001.11 1486.25 997.934 1481.67 Q994.763 1477.06 994.763 1468.33 Q994.763 1460.14 998.652 1455.28 Q1002.54 1450.39 1009.09 1450.39 Q1010.85 1450.39 1012.63 1450.74 Q1014.44 1451.09 1016.38 1451.78 Z\" fill=\"#000000\" fill-rule=\"nonzero\" fill-opacity=\"1\" /><path clip-path=\"url(#clip160)\" d=\"M1237.05 1454.1 Q1233.44 1454.1 1231.61 1457.66 Q1229.81 1461.2 1229.81 1468.33 Q1229.81 1475.44 1231.61 1479.01 Q1233.44 1482.55 1237.05 1482.55 Q1240.69 1482.55 1242.49 1479.01 Q1244.32 1475.44 1244.32 1468.33 Q1244.32 1461.2 1242.49 1457.66 Q1240.69 1454.1 1237.05 1454.1 M1237.05 1450.39 Q1242.86 1450.39 1245.92 1455 Q1249 1459.58 1249 1468.33 Q1249 1477.06 1245.92 1481.67 Q1242.86 1486.25 1237.05 1486.25 Q1231.24 1486.25 1228.16 1481.67 Q1225.11 1477.06 1225.11 1468.33 Q1225.11 1459.58 1228.16 1455 Q1231.24 1450.39 1237.05 1450.39 Z\" fill=\"#000000\" fill-rule=\"nonzero\" fill-opacity=\"1\" /><path clip-path=\"url(#clip160)\" d=\"M1257.21 1479.7 L1262.1 1479.7 L1262.1 1485.58 L1257.21 1485.58 L1257.21 1479.7 Z\" fill=\"#000000\" fill-rule=\"nonzero\" fill-opacity=\"1\" /><path clip-path=\"url(#clip160)\" d=\"M1282.28 1469.17 Q1278.95 1469.17 1277.03 1470.95 Q1275.13 1472.73 1275.13 1475.86 Q1275.13 1478.98 1277.03 1480.77 Q1278.95 1482.55 1282.28 1482.55 Q1285.62 1482.55 1287.54 1480.77 Q1289.46 1478.96 1289.46 1475.86 Q1289.46 1472.73 1287.54 1470.95 Q1285.64 1469.17 1282.28 1469.17 M1277.61 1467.18 Q1274.6 1466.44 1272.91 1464.38 Q1271.24 1462.32 1271.24 1459.35 Q1271.24 1455.21 1274.18 1452.8 Q1277.15 1450.39 1282.28 1450.39 Q1287.45 1450.39 1290.39 1452.8 Q1293.33 1455.21 1293.33 1459.35 Q1293.33 1462.32 1291.64 1464.38 Q1289.97 1466.44 1286.98 1467.18 Q1290.36 1467.96 1292.24 1470.26 Q1294.14 1472.55 1294.14 1475.86 Q1294.14 1480.88 1291.06 1483.57 Q1288 1486.25 1282.28 1486.25 Q1276.57 1486.25 1273.49 1483.57 Q1270.43 1480.88 1270.43 1475.86 Q1270.43 1472.55 1272.33 1470.26 Q1274.23 1467.96 1277.61 1467.18 M1275.9 1459.79 Q1275.9 1462.48 1277.56 1463.98 Q1279.25 1465.49 1282.28 1465.49 Q1285.29 1465.49 1286.98 1463.98 Q1288.7 1462.48 1288.7 1459.79 Q1288.7 1457.11 1286.98 1455.6 Q1285.29 1454.1 1282.28 1454.1 Q1279.25 1454.1 1277.56 1455.6 Q1275.9 1457.11 1275.9 1459.79 Z\" fill=\"#000000\" fill-rule=\"nonzero\" fill-opacity=\"1\" /><path clip-path=\"url(#clip160)\" d=\"M1502.41 1481.64 L1510.05 1481.64 L1510.05 1455.28 L1501.74 1456.95 L1501.74 1452.69 L1510 1451.02 L1514.68 1451.02 L1514.68 1481.64 L1522.32 1481.64 L1522.32 1485.58 L1502.41 1485.58 L1502.41 1481.64 Z\" fill=\"#000000\" fill-rule=\"nonzero\" fill-opacity=\"1\" /><path clip-path=\"url(#clip160)\" d=\"M1531.76 1479.7 L1536.65 1479.7 L1536.65 1485.58 L1531.76 1485.58 L1531.76 1479.7 Z\" fill=\"#000000\" fill-rule=\"nonzero\" fill-opacity=\"1\" /><path clip-path=\"url(#clip160)\" d=\"M1556.83 1454.1 Q1553.22 1454.1 1551.39 1457.66 Q1549.59 1461.2 1549.59 1468.33 Q1549.59 1475.44 1551.39 1479.01 Q1553.22 1482.55 1556.83 1482.55 Q1560.46 1482.55 1562.27 1479.01 Q1564.1 1475.44 1564.1 1468.33 Q1564.1 1461.2 1562.27 1457.66 Q1560.46 1454.1 1556.83 1454.1 M1556.83 1450.39 Q1562.64 1450.39 1565.7 1455 Q1568.78 1459.58 1568.78 1468.33 Q1568.78 1477.06 1565.7 1481.67 Q1562.64 1486.25 1556.83 1486.25 Q1551.02 1486.25 1547.94 1481.67 Q1544.89 1477.06 1544.89 1468.33 Q1544.89 1459.58 1547.94 1455 Q1551.02 1450.39 1556.83 1450.39 Z\" fill=\"#000000\" fill-rule=\"nonzero\" fill-opacity=\"1\" /><path clip-path=\"url(#clip160)\" d=\"M777.85 1520.52 L818.049 1520.52 L818.049 1525.93 L801.18 1525.93 L801.18 1568.04 L794.719 1568.04 L794.719 1525.93 L777.85 1525.93 L777.85 1520.52 Z\" fill=\"#000000\" fill-rule=\"nonzero\" fill-opacity=\"1\" /><path clip-path=\"url(#clip160)\" d=\"M829.412 1550.12 Q822.315 1550.12 819.577 1551.75 Q816.84 1553.37 816.84 1557.29 Q816.84 1560.4 818.877 1562.25 Q820.946 1564.07 824.479 1564.07 Q829.349 1564.07 832.277 1560.63 Q835.237 1557.16 835.237 1551.43 L835.237 1550.12 L829.412 1550.12 M841.093 1547.71 L841.093 1568.04 L835.237 1568.04 L835.237 1562.63 Q833.232 1565.88 830.24 1567.44 Q827.248 1568.97 822.919 1568.97 Q817.445 1568.97 814.198 1565.91 Q810.984 1562.82 810.984 1557.67 Q810.984 1551.65 814.994 1548.6 Q819.036 1545.54 827.025 1545.54 L835.237 1545.54 L835.237 1544.97 Q835.237 1540.93 832.563 1538.73 Q829.922 1536.5 825.115 1536.5 Q822.06 1536.5 819.163 1537.23 Q816.267 1537.97 813.593 1539.43 L813.593 1534.02 Q816.808 1532.78 819.832 1532.17 Q822.856 1531.54 825.72 1531.54 Q833.455 1531.54 837.274 1535.55 Q841.093 1539.56 841.093 1547.71 Z\" fill=\"#000000\" fill-rule=\"nonzero\" fill-opacity=\"1\" /><path clip-path=\"url(#clip160)\" d=\"M882.789 1532.4 L869.898 1549.74 L883.457 1568.04 L876.55 1568.04 L866.174 1554.04 L855.798 1568.04 L848.891 1568.04 L862.737 1549.39 L850.069 1532.4 L856.976 1532.4 L866.429 1545.1 L875.882 1532.4 L882.789 1532.4 Z\" fill=\"#000000\" fill-rule=\"nonzero\" fill-opacity=\"1\" /><path clip-path=\"url(#clip160)\" d=\"M935.242 1545.76 Q937.311 1546.46 939.253 1548.76 Q941.226 1551.05 943.199 1555.06 L949.724 1568.04 L942.817 1568.04 L936.738 1555.85 Q934.383 1551.08 932.155 1549.52 Q929.959 1547.96 926.139 1547.96 L919.137 1547.96 L919.137 1568.04 L912.708 1568.04 L912.708 1520.52 L927.221 1520.52 Q935.369 1520.52 939.38 1523.93 Q943.39 1527.34 943.39 1534.21 Q943.39 1538.7 941.29 1541.66 Q939.221 1544.62 935.242 1545.76 M919.137 1525.81 L919.137 1542.68 L927.221 1542.68 Q931.868 1542.68 934.224 1540.54 Q936.611 1538.38 936.611 1534.21 Q936.611 1530.04 934.224 1527.94 Q931.868 1525.81 927.221 1525.81 L919.137 1525.81 Z\" fill=\"#000000\" fill-rule=\"nonzero\" fill-opacity=\"1\" /><path clip-path=\"url(#clip160)\" d=\"M972.513 1550.12 Q965.416 1550.12 962.678 1551.75 Q959.941 1553.37 959.941 1557.29 Q959.941 1560.4 961.978 1562.25 Q964.047 1564.07 967.58 1564.07 Q972.45 1564.07 975.378 1560.63 Q978.338 1557.16 978.338 1551.43 L978.338 1550.12 L972.513 1550.12 M984.194 1547.71 L984.194 1568.04 L978.338 1568.04 L978.338 1562.63 Q976.333 1565.88 973.341 1567.44 Q970.349 1568.97 966.02 1568.97 Q960.546 1568.97 957.299 1565.91 Q954.085 1562.82 954.085 1557.67 Q954.085 1551.65 958.095 1548.6 Q962.137 1545.54 970.126 1545.54 L978.338 1545.54 L978.338 1544.97 Q978.338 1540.93 975.664 1538.73 Q973.023 1536.5 968.217 1536.5 Q965.161 1536.5 962.265 1537.23 Q959.368 1537.97 956.695 1539.43 L956.695 1534.02 Q959.909 1532.78 962.933 1532.17 Q965.957 1531.54 968.821 1531.54 Q976.556 1531.54 980.375 1535.55 Q984.194 1539.56 984.194 1547.71 Z\" fill=\"#000000\" fill-rule=\"nonzero\" fill-opacity=\"1\" /><path clip-path=\"url(#clip160)\" d=\"M1002.05 1522.27 L1002.05 1532.4 L1014.11 1532.4 L1014.11 1536.95 L1002.05 1536.95 L1002.05 1556.3 Q1002.05 1560.66 1003.23 1561.9 Q1004.44 1563.14 1008.1 1563.14 L1014.11 1563.14 L1014.11 1568.04 L1008.1 1568.04 Q1001.32 1568.04 998.74 1565.53 Q996.162 1562.98 996.162 1556.3 L996.162 1536.95 L991.865 1536.95 L991.865 1532.4 L996.162 1532.4 L996.162 1522.27 L1002.05 1522.27 Z\" fill=\"#000000\" fill-rule=\"nonzero\" fill-opacity=\"1\" /><path clip-path=\"url(#clip160)\" d=\"M1052.31 1548.76 L1052.31 1551.62 L1025.38 1551.62 Q1025.76 1557.67 1029.01 1560.85 Q1032.29 1564 1038.11 1564 Q1041.49 1564 1044.64 1563.17 Q1047.82 1562.35 1050.94 1560.69 L1050.94 1566.23 Q1047.79 1567.57 1044.48 1568.27 Q1041.17 1568.97 1037.76 1568.97 Q1029.23 1568.97 1024.23 1564 Q1019.27 1559.04 1019.27 1550.57 Q1019.27 1541.82 1023.98 1536.69 Q1028.72 1531.54 1036.74 1531.54 Q1043.94 1531.54 1048.11 1536.18 Q1052.31 1540.8 1052.31 1548.76 M1046.45 1547.04 Q1046.39 1542.23 1043.75 1539.37 Q1041.14 1536.5 1036.81 1536.5 Q1031.91 1536.5 1028.95 1539.27 Q1026.02 1542.04 1025.57 1547.07 L1046.45 1547.04 Z\" fill=\"#000000\" fill-rule=\"nonzero\" fill-opacity=\"1\" /><polyline clip-path=\"url(#clip160)\" style=\"stroke:#000000; stroke-linecap:round; stroke-linejoin:round; stroke-width:4; stroke-opacity:1; fill:none\" points=\"257.69,1423.18 257.69,47.2441 \"/>\n",
       "<polyline clip-path=\"url(#clip160)\" style=\"stroke:#000000; stroke-linecap:round; stroke-linejoin:round; stroke-width:4; stroke-opacity:1; fill:none\" points=\"257.69,1269.23 269.55,1269.23 \"/>\n",
       "<polyline clip-path=\"url(#clip160)\" style=\"stroke:#000000; stroke-linecap:round; stroke-linejoin:round; stroke-width:4; stroke-opacity:1; fill:none\" points=\"257.69,932.507 269.55,932.507 \"/>\n",
       "<polyline clip-path=\"url(#clip160)\" style=\"stroke:#000000; stroke-linecap:round; stroke-linejoin:round; stroke-width:4; stroke-opacity:1; fill:none\" points=\"257.69,595.78 269.55,595.78 \"/>\n",
       "<polyline clip-path=\"url(#clip160)\" style=\"stroke:#000000; stroke-linecap:round; stroke-linejoin:round; stroke-width:4; stroke-opacity:1; fill:none\" points=\"257.69,259.053 269.55,259.053 \"/>\n",
       "<path clip-path=\"url(#clip160)\" d=\"M114.584 1269.69 L144.26 1269.69 L144.26 1273.62 L114.584 1273.62 L114.584 1269.69 Z\" fill=\"#000000\" fill-rule=\"nonzero\" fill-opacity=\"1\" /><path clip-path=\"url(#clip160)\" d=\"M164.352 1255.03 Q160.741 1255.03 158.913 1258.6 Q157.107 1262.14 157.107 1269.27 Q157.107 1276.38 158.913 1279.94 Q160.741 1283.48 164.352 1283.48 Q167.987 1283.48 169.792 1279.94 Q171.621 1276.38 171.621 1269.27 Q171.621 1262.14 169.792 1258.6 Q167.987 1255.03 164.352 1255.03 M164.352 1251.33 Q170.163 1251.33 173.218 1255.94 Q176.297 1260.52 176.297 1269.27 Q176.297 1278 173.218 1282.6 Q170.163 1287.19 164.352 1287.19 Q158.542 1287.19 155.464 1282.6 Q152.408 1278 152.408 1269.27 Q152.408 1260.52 155.464 1255.94 Q158.542 1251.33 164.352 1251.33 Z\" fill=\"#000000\" fill-rule=\"nonzero\" fill-opacity=\"1\" /><path clip-path=\"url(#clip160)\" d=\"M184.514 1280.63 L189.399 1280.63 L189.399 1286.51 L184.514 1286.51 L184.514 1280.63 Z\" fill=\"#000000\" fill-rule=\"nonzero\" fill-opacity=\"1\" /><path clip-path=\"url(#clip160)\" d=\"M210.162 1267.37 Q207.014 1267.37 205.162 1269.52 Q203.334 1271.68 203.334 1275.43 Q203.334 1279.15 205.162 1281.33 Q207.014 1283.48 210.162 1283.48 Q213.311 1283.48 215.139 1281.33 Q216.991 1279.15 216.991 1275.43 Q216.991 1271.68 215.139 1269.52 Q213.311 1267.37 210.162 1267.37 M219.445 1252.72 L219.445 1256.98 Q217.686 1256.14 215.88 1255.7 Q214.098 1255.26 212.338 1255.26 Q207.709 1255.26 205.255 1258.39 Q202.824 1261.51 202.477 1267.83 Q203.843 1265.82 205.903 1264.75 Q207.963 1263.67 210.44 1263.67 Q215.649 1263.67 218.658 1266.84 Q221.69 1269.99 221.69 1275.43 Q221.69 1280.75 218.542 1283.97 Q215.394 1287.19 210.162 1287.19 Q204.167 1287.19 200.996 1282.6 Q197.825 1278 197.825 1269.27 Q197.825 1261.07 201.713 1256.21 Q205.602 1251.33 212.153 1251.33 Q213.912 1251.33 215.695 1251.68 Q217.5 1252.02 219.445 1252.72 Z\" fill=\"#000000\" fill-rule=\"nonzero\" fill-opacity=\"1\" /><path clip-path=\"url(#clip160)\" d=\"M114.26 932.958 L143.936 932.958 L143.936 936.894 L114.26 936.894 L114.26 932.958 Z\" fill=\"#000000\" fill-rule=\"nonzero\" fill-opacity=\"1\" /><path clip-path=\"url(#clip160)\" d=\"M164.028 918.306 Q160.417 918.306 158.589 921.87 Q156.783 925.412 156.783 932.542 Q156.783 939.648 158.589 943.213 Q160.417 946.755 164.028 946.755 Q167.663 946.755 169.468 943.213 Q171.297 939.648 171.297 932.542 Q171.297 925.412 169.468 921.87 Q167.663 918.306 164.028 918.306 M164.028 914.602 Q169.839 914.602 172.894 919.208 Q175.973 923.792 175.973 932.542 Q175.973 941.268 172.894 945.875 Q169.839 950.458 164.028 950.458 Q158.218 950.458 155.14 945.875 Q152.084 941.268 152.084 932.542 Q152.084 923.792 155.14 919.208 Q158.218 914.602 164.028 914.602 Z\" fill=\"#000000\" fill-rule=\"nonzero\" fill-opacity=\"1\" /><path clip-path=\"url(#clip160)\" d=\"M184.19 943.907 L189.075 943.907 L189.075 949.787 L184.19 949.787 L184.19 943.907 Z\" fill=\"#000000\" fill-rule=\"nonzero\" fill-opacity=\"1\" /><path clip-path=\"url(#clip160)\" d=\"M212.107 919.301 L200.301 937.75 L212.107 937.75 L212.107 919.301 M210.88 915.227 L216.76 915.227 L216.76 937.75 L221.69 937.75 L221.69 941.639 L216.76 941.639 L216.76 949.787 L212.107 949.787 L212.107 941.639 L196.505 941.639 L196.505 937.125 L210.88 915.227 Z\" fill=\"#000000\" fill-rule=\"nonzero\" fill-opacity=\"1\" /><path clip-path=\"url(#clip160)\" d=\"M116.343 596.231 L146.019 596.231 L146.019 600.166 L116.343 600.166 L116.343 596.231 Z\" fill=\"#000000\" fill-rule=\"nonzero\" fill-opacity=\"1\" /><path clip-path=\"url(#clip160)\" d=\"M166.112 581.579 Q162.501 581.579 160.672 585.143 Q158.866 588.685 158.866 595.815 Q158.866 602.921 160.672 606.486 Q162.501 610.028 166.112 610.028 Q169.746 610.028 171.552 606.486 Q173.38 602.921 173.38 595.815 Q173.38 588.685 171.552 585.143 Q169.746 581.579 166.112 581.579 M166.112 577.875 Q171.922 577.875 174.977 582.481 Q178.056 587.065 178.056 595.815 Q178.056 604.541 174.977 609.148 Q171.922 613.731 166.112 613.731 Q160.302 613.731 157.223 609.148 Q154.167 604.541 154.167 595.815 Q154.167 587.065 157.223 582.481 Q160.302 577.875 166.112 577.875 Z\" fill=\"#000000\" fill-rule=\"nonzero\" fill-opacity=\"1\" /><path clip-path=\"url(#clip160)\" d=\"M186.274 607.18 L191.158 607.18 L191.158 613.06 L186.274 613.06 L186.274 607.18 Z\" fill=\"#000000\" fill-rule=\"nonzero\" fill-opacity=\"1\" /><path clip-path=\"url(#clip160)\" d=\"M205.371 609.125 L221.69 609.125 L221.69 613.06 L199.746 613.06 L199.746 609.125 Q202.408 606.37 206.991 601.741 Q211.598 597.088 212.778 595.745 Q215.024 593.222 215.903 591.486 Q216.806 589.727 216.806 588.037 Q216.806 585.282 214.861 583.546 Q212.94 581.81 209.838 581.81 Q207.639 581.81 205.186 582.574 Q202.755 583.338 199.977 584.889 L199.977 580.167 Q202.801 579.032 205.255 578.454 Q207.709 577.875 209.746 577.875 Q215.116 577.875 218.311 580.56 Q221.505 583.245 221.505 587.736 Q221.505 589.866 220.695 591.787 Q219.908 593.685 217.801 596.278 Q217.223 596.949 214.121 600.166 Q211.019 603.361 205.371 609.125 Z\" fill=\"#000000\" fill-rule=\"nonzero\" fill-opacity=\"1\" /><path clip-path=\"url(#clip160)\" d=\"M164.515 244.852 Q160.903 244.852 159.075 248.416 Q157.269 251.958 157.269 259.088 Q157.269 266.194 159.075 269.759 Q160.903 273.3 164.515 273.3 Q168.149 273.3 169.954 269.759 Q171.783 266.194 171.783 259.088 Q171.783 251.958 169.954 248.416 Q168.149 244.852 164.515 244.852 M164.515 241.148 Q170.325 241.148 173.38 245.754 Q176.459 250.338 176.459 259.088 Q176.459 267.814 173.38 272.421 Q170.325 277.004 164.515 277.004 Q158.704 277.004 155.626 272.421 Q152.57 267.814 152.57 259.088 Q152.57 250.338 155.626 245.754 Q158.704 241.148 164.515 241.148 Z\" fill=\"#000000\" fill-rule=\"nonzero\" fill-opacity=\"1\" /><path clip-path=\"url(#clip160)\" d=\"M184.676 270.453 L189.561 270.453 L189.561 276.333 L184.676 276.333 L184.676 270.453 Z\" fill=\"#000000\" fill-rule=\"nonzero\" fill-opacity=\"1\" /><path clip-path=\"url(#clip160)\" d=\"M209.746 244.852 Q206.135 244.852 204.306 248.416 Q202.5 251.958 202.5 259.088 Q202.5 266.194 204.306 269.759 Q206.135 273.3 209.746 273.3 Q213.38 273.3 215.186 269.759 Q217.014 266.194 217.014 259.088 Q217.014 251.958 215.186 248.416 Q213.38 244.852 209.746 244.852 M209.746 241.148 Q215.556 241.148 218.611 245.754 Q221.69 250.338 221.69 259.088 Q221.69 267.814 218.611 272.421 Q215.556 277.004 209.746 277.004 Q203.936 277.004 200.857 272.421 Q197.801 267.814 197.801 259.088 Q197.801 250.338 200.857 245.754 Q203.936 241.148 209.746 241.148 Z\" fill=\"#000000\" fill-rule=\"nonzero\" fill-opacity=\"1\" /><path clip-path=\"url(#clip160)\" d=\"M20.1444 1160.98 L26.9239 1160.98 Q23.9002 1164.23 22.4043 1167.92 Q20.9083 1171.58 20.9083 1175.72 Q20.9083 1183.87 25.9054 1188.2 Q30.8707 1192.52 40.2919 1192.52 Q49.6813 1192.52 54.6784 1188.2 Q59.6436 1183.87 59.6436 1175.72 Q59.6436 1171.58 58.1477 1167.92 Q56.6518 1164.23 53.6281 1160.98 L60.3439 1160.98 Q62.6355 1164.36 63.7814 1168.14 Q64.9272 1171.9 64.9272 1176.1 Q64.9272 1186.89 58.3387 1193.1 Q51.7183 1199.3 40.2919 1199.3 Q28.8336 1199.3 22.2451 1193.1 Q15.6248 1186.89 15.6248 1176.1 Q15.6248 1171.84 16.7706 1168.08 Q17.8846 1164.29 20.1444 1160.98 Z\" fill=\"#000000\" fill-rule=\"nonzero\" fill-opacity=\"1\" /><path clip-path=\"url(#clip160)\" d=\"M42.4881 1121.67 L64.0042 1121.67 L64.0042 1127.53 L42.679 1127.53 Q37.6183 1127.53 35.1038 1129.5 Q32.5894 1131.48 32.5894 1135.42 Q32.5894 1140.17 35.6131 1142.9 Q38.6368 1145.64 43.8567 1145.64 L64.0042 1145.64 L64.0042 1151.53 L14.479 1151.53 L14.479 1145.64 L33.8944 1145.64 Q30.6797 1143.54 29.0883 1140.71 Q27.4968 1137.84 27.4968 1134.12 Q27.4968 1127.98 31.3163 1124.83 Q35.1038 1121.67 42.4881 1121.67 Z\" fill=\"#000000\" fill-rule=\"nonzero\" fill-opacity=\"1\" /><path clip-path=\"url(#clip160)\" d=\"M46.0847 1093.79 Q46.0847 1100.89 47.7079 1103.63 Q49.3312 1106.36 53.2461 1106.36 Q56.3653 1106.36 58.2114 1104.33 Q60.0256 1102.26 60.0256 1098.73 Q60.0256 1093.86 56.5881 1090.93 Q53.1188 1087.97 47.3897 1087.97 L46.0847 1087.97 L46.0847 1093.79 M43.6657 1082.11 L64.0042 1082.11 L64.0042 1087.97 L58.5933 1087.97 Q61.8398 1089.97 63.3994 1092.96 Q64.9272 1095.96 64.9272 1100.29 Q64.9272 1105.76 61.8716 1109.01 Q58.7843 1112.22 53.6281 1112.22 Q47.6125 1112.22 44.5569 1108.21 Q41.5014 1104.17 41.5014 1096.18 L41.5014 1087.97 L40.9285 1087.97 Q36.8862 1087.97 34.6901 1090.64 Q32.4621 1093.28 32.4621 1098.09 Q32.4621 1101.14 33.1941 1104.04 Q33.9262 1106.94 35.3903 1109.61 L29.9795 1109.61 Q28.7381 1106.4 28.1334 1103.37 Q27.4968 1100.35 27.4968 1097.48 Q27.4968 1089.75 31.5072 1085.93 Q35.5176 1082.11 43.6657 1082.11 Z\" fill=\"#000000\" fill-rule=\"nonzero\" fill-opacity=\"1\" /><path clip-path=\"url(#clip160)\" d=\"M42.4881 1040.42 L64.0042 1040.42 L64.0042 1046.27 L42.679 1046.27 Q37.6183 1046.27 35.1038 1048.25 Q32.5894 1050.22 32.5894 1054.17 Q32.5894 1058.91 35.6131 1061.65 Q38.6368 1064.38 43.8567 1064.38 L64.0042 1064.38 L64.0042 1070.27 L28.3562 1070.27 L28.3562 1064.38 L33.8944 1064.38 Q30.6797 1062.28 29.0883 1059.45 Q27.4968 1056.58 27.4968 1052.86 Q27.4968 1046.72 31.3163 1043.57 Q35.1038 1040.42 42.4881 1040.42 Z\" fill=\"#000000\" fill-rule=\"nonzero\" fill-opacity=\"1\" /><path clip-path=\"url(#clip160)\" d=\"M45.7664 1005.28 Q39.4007 1005.28 35.8996 1007.92 Q32.3984 1010.53 32.3984 1015.27 Q32.3984 1019.98 35.8996 1022.62 Q39.4007 1025.23 45.7664 1025.23 Q52.1003 1025.23 55.6014 1022.62 Q59.1026 1019.98 59.1026 1015.27 Q59.1026 1010.53 55.6014 1007.92 Q52.1003 1005.28 45.7664 1005.28 M59.58 999.421 Q68.683 999.421 73.1071 1003.46 Q77.5631 1007.51 77.5631 1015.84 Q77.5631 1018.93 77.0857 1021.67 Q76.6401 1024.41 75.6852 1026.98 L69.9879 1026.98 Q71.3884 1024.41 72.0568 1021.89 Q72.7252 1019.38 72.7252 1016.77 Q72.7252 1011.01 69.7015 1008.14 Q66.7096 1005.28 60.6303 1005.28 L57.7339 1005.28 Q60.885 1007.09 62.4446 1009.92 Q64.0042 1012.76 64.0042 1016.7 Q64.0042 1023.26 59.0071 1027.27 Q54.01 1031.28 45.7664 1031.28 Q37.491 1031.28 32.4939 1027.27 Q27.4968 1023.26 27.4968 1016.7 Q27.4968 1012.76 29.0564 1009.92 Q30.616 1007.09 33.7671 1005.28 L28.3562 1005.28 L28.3562 999.421 L59.58 999.421 Z\" fill=\"#000000\" fill-rule=\"nonzero\" fill-opacity=\"1\" /><path clip-path=\"url(#clip160)\" d=\"M44.7161 956.866 L47.5806 956.866 L47.5806 983.793 Q53.6281 983.411 56.8109 980.164 Q59.9619 976.886 59.9619 971.061 Q59.9619 967.688 59.1344 964.537 Q58.3069 961.354 56.6518 958.235 L62.1899 958.235 Q63.5267 961.386 64.227 964.696 Q64.9272 968.006 64.9272 971.412 Q64.9272 979.942 59.9619 984.939 Q54.9967 989.904 46.5303 989.904 Q37.7774 989.904 32.6531 985.193 Q27.4968 980.451 27.4968 972.43 Q27.4968 965.237 32.1438 961.067 Q36.7589 956.866 44.7161 956.866 M42.9973 962.722 Q38.1912 962.786 35.3266 965.428 Q32.4621 968.038 32.4621 972.366 Q32.4621 977.268 35.2312 980.228 Q38.0002 983.156 43.0292 983.602 L42.9973 962.722 Z\" fill=\"#000000\" fill-rule=\"nonzero\" fill-opacity=\"1\" /><path clip-path=\"url(#clip160)\" d=\"M14.5426 912.465 Q21.8632 916.73 29.0246 918.799 Q36.186 920.868 43.5384 920.868 Q50.8908 920.868 58.1159 918.799 Q65.3091 916.698 72.5979 912.465 L72.5979 917.558 Q65.1182 922.332 57.8931 924.719 Q50.668 927.074 43.5384 927.074 Q36.4406 927.074 29.2474 924.719 Q22.0542 922.364 14.5426 917.558 L14.5426 912.465 Z\" fill=\"#000000\" fill-rule=\"nonzero\" fill-opacity=\"1\" /><path clip-path=\"url(#clip160)\" d=\"M16.4842 900.848 L16.4842 870.802 L21.895 870.802 L21.895 894.418 L35.9632 894.418 L35.9632 871.788 L41.3741 871.788 L41.3741 894.418 L58.5933 894.418 L58.5933 870.229 L64.0042 870.229 L64.0042 900.848 L16.4842 900.848 Z\" fill=\"#000000\" fill-rule=\"nonzero\" fill-opacity=\"1\" /><path clip-path=\"url(#clip160)\" d=\"M16.4842 860.394 L16.4842 853.932 L45.3526 853.932 Q52.9915 853.932 56.3653 851.163 Q59.7073 848.394 59.7073 842.188 Q59.7073 836.013 56.3653 833.244 Q52.9915 830.475 45.3526 830.475 L16.4842 830.475 L16.4842 824.014 L46.1484 824.014 Q55.4423 824.014 60.1847 828.629 Q64.9272 833.212 64.9272 842.188 Q64.9272 851.195 60.1847 855.81 Q55.4423 860.394 46.1484 860.394 L16.4842 860.394 Z\" fill=\"#000000\" fill-rule=\"nonzero\" fill-opacity=\"1\" /><path clip-path=\"url(#clip160)\" d=\"M41.7242 789.416 Q42.4244 787.347 44.7161 785.406 Q47.0077 783.432 51.0181 781.459 L64.0042 774.934 L64.0042 781.841 L51.8138 787.92 Q47.0395 790.275 45.48 792.503 Q43.9204 794.699 43.9204 798.519 L43.9204 805.521 L64.0042 805.521 L64.0042 811.951 L16.4842 811.951 L16.4842 797.437 Q16.4842 789.289 19.8898 785.278 Q23.2955 781.268 30.1704 781.268 Q34.6582 781.268 37.6183 783.369 Q40.5784 785.437 41.7242 789.416 M21.7677 805.521 L38.6368 805.521 L38.6368 797.437 Q38.6368 792.79 36.5043 790.434 Q34.34 788.047 30.1704 788.047 Q26.0009 788.047 23.9002 790.434 Q21.7677 792.79 21.7677 797.437 L21.7677 805.521 Z\" fill=\"#000000\" fill-rule=\"nonzero\" fill-opacity=\"1\" /><path clip-path=\"url(#clip160)\" d=\"M58.657 740.527 L77.5631 740.527 L77.5631 746.416 L28.3562 746.416 L28.3562 740.527 L33.7671 740.527 Q30.5842 738.681 29.0564 735.88 Q27.4968 733.048 27.4968 729.133 Q27.4968 722.64 32.6531 718.597 Q37.8093 714.523 46.212 714.523 Q54.6147 714.523 59.771 718.597 Q64.9272 722.64 64.9272 729.133 Q64.9272 733.048 63.3994 735.88 Q61.8398 738.681 58.657 740.527 M46.212 720.603 Q39.7508 720.603 36.0905 723.276 Q32.3984 725.918 32.3984 730.565 Q32.3984 735.212 36.0905 737.886 Q39.7508 740.527 46.212 740.527 Q52.6732 740.527 56.3653 737.886 Q60.0256 735.212 60.0256 730.565 Q60.0256 725.918 56.3653 723.276 Q52.6732 720.603 46.212 720.603 Z\" fill=\"#000000\" fill-rule=\"nonzero\" fill-opacity=\"1\" /><path clip-path=\"url(#clip160)\" d=\"M44.7161 674.324 L47.5806 674.324 L47.5806 701.251 Q53.6281 700.869 56.8109 697.622 Q59.9619 694.344 59.9619 688.52 Q59.9619 685.146 59.1344 681.995 Q58.3069 678.812 56.6518 675.693 L62.1899 675.693 Q63.5267 678.844 64.227 682.154 Q64.9272 685.464 64.9272 688.87 Q64.9272 697.4 59.9619 702.397 Q54.9967 707.362 46.5303 707.362 Q37.7774 707.362 32.6531 702.651 Q27.4968 697.909 27.4968 689.888 Q27.4968 682.695 32.1438 678.525 Q36.7589 674.324 44.7161 674.324 M42.9973 680.18 Q38.1912 680.244 35.3266 682.886 Q32.4621 685.496 32.4621 689.824 Q32.4621 694.726 35.2312 697.686 Q38.0002 700.614 43.0292 701.06 L42.9973 680.18 Z\" fill=\"#000000\" fill-rule=\"nonzero\" fill-opacity=\"1\" /><path clip-path=\"url(#clip160)\" d=\"M33.8307 644.055 Q33.2578 645.042 33.0032 646.219 Q32.7167 647.365 32.7167 648.766 Q32.7167 653.731 35.9632 656.405 Q39.1779 659.046 45.2253 659.046 L64.0042 659.046 L64.0042 664.935 L28.3562 664.935 L28.3562 659.046 L33.8944 659.046 Q30.6479 657.2 29.0883 654.24 Q27.4968 651.28 27.4968 647.047 Q27.4968 646.442 27.5923 645.71 Q27.656 644.978 27.8151 644.087 L33.8307 644.055 Z\" fill=\"#000000\" fill-rule=\"nonzero\" fill-opacity=\"1\" /><path clip-path=\"url(#clip160)\" d=\"M20.1444 581.353 L26.9239 581.353 Q23.9002 584.599 22.4043 588.291 Q20.9083 591.952 20.9083 596.089 Q20.9083 604.238 25.9054 608.566 Q30.8707 612.895 40.2919 612.895 Q49.6813 612.895 54.6784 608.566 Q59.6436 604.238 59.6436 596.089 Q59.6436 591.952 58.1477 588.291 Q56.6518 584.599 53.6281 581.353 L60.3439 581.353 Q62.6355 584.727 63.7814 588.514 Q64.9272 592.27 64.9272 596.471 Q64.9272 607.261 58.3387 613.468 Q51.7183 619.674 40.2919 619.674 Q28.8336 619.674 22.2451 613.468 Q15.6248 607.261 15.6248 596.471 Q15.6248 592.206 16.7706 588.451 Q17.8846 584.663 20.1444 581.353 Z\" fill=\"#000000\" fill-rule=\"nonzero\" fill-opacity=\"1\" /><path clip-path=\"url(#clip160)\" d=\"M32.4621 557.863 Q32.4621 562.574 36.1542 565.311 Q39.8145 568.049 46.212 568.049 Q52.6095 568.049 56.3017 565.343 Q59.9619 562.606 59.9619 557.863 Q59.9619 553.185 56.2698 550.447 Q52.5777 547.71 46.212 547.71 Q39.8781 547.71 36.186 550.447 Q32.4621 553.185 32.4621 557.863 M27.4968 557.863 Q27.4968 550.225 32.4621 545.864 Q37.4273 541.504 46.212 541.504 Q54.9649 541.504 59.9619 545.864 Q64.9272 550.225 64.9272 557.863 Q64.9272 565.534 59.9619 569.895 Q54.9649 574.223 46.212 574.223 Q37.4273 574.223 32.4621 569.895 Q27.4968 565.534 27.4968 557.863 Z\" fill=\"#000000\" fill-rule=\"nonzero\" fill-opacity=\"1\" /><path clip-path=\"url(#clip160)\" d=\"M42.4881 502.163 L64.0042 502.163 L64.0042 508.02 L42.679 508.02 Q37.6183 508.02 35.1038 509.993 Q32.5894 511.967 32.5894 515.913 Q32.5894 520.656 35.6131 523.393 Q38.6368 526.13 43.8567 526.13 L64.0042 526.13 L64.0042 532.019 L28.3562 532.019 L28.3562 526.13 L33.8944 526.13 Q30.6797 524.03 29.0883 521.197 Q27.4968 518.332 27.4968 514.608 Q27.4968 508.465 31.3163 505.314 Q35.1038 502.163 42.4881 502.163 Z\" fill=\"#000000\" fill-rule=\"nonzero\" fill-opacity=\"1\" /><path clip-path=\"url(#clip160)\" d=\"M29.4065 467.757 L34.9447 467.757 Q33.6716 470.239 33.035 472.913 Q32.3984 475.587 32.3984 478.451 Q32.3984 482.812 33.7352 485.008 Q35.072 487.172 37.7456 487.172 Q39.7826 487.172 40.9603 485.613 Q42.1061 484.053 43.1565 479.342 L43.6021 477.337 Q44.9389 471.099 47.3897 468.489 Q49.8086 465.847 54.1691 465.847 Q59.1344 465.847 62.0308 469.794 Q64.9272 473.709 64.9272 480.584 Q64.9272 483.448 64.3543 486.567 Q63.8132 489.655 62.6992 493.092 L56.6518 493.092 Q58.3387 489.846 59.198 486.695 Q60.0256 483.544 60.0256 480.456 Q60.0256 476.319 58.6251 474.091 Q57.1929 471.863 54.6147 471.863 Q52.2276 471.863 50.9545 473.486 Q49.6813 475.077 48.5037 480.52 L48.0262 482.557 Q46.8804 488 44.5251 490.419 Q42.138 492.838 38.0002 492.838 Q32.9713 492.838 30.2341 489.273 Q27.4968 485.708 27.4968 479.151 Q27.4968 475.905 27.9743 473.04 Q28.4517 470.176 29.4065 467.757 Z\" fill=\"#000000\" fill-rule=\"nonzero\" fill-opacity=\"1\" /><path clip-path=\"url(#clip160)\" d=\"M49.9359 457.126 L28.3562 457.126 L28.3562 451.27 L49.7131 451.27 Q54.7739 451.27 57.3202 449.296 Q59.8346 447.323 59.8346 443.376 Q59.8346 438.634 56.8109 435.896 Q53.7872 433.127 48.5673 433.127 L28.3562 433.127 L28.3562 427.271 L64.0042 427.271 L64.0042 433.127 L58.5296 433.127 Q61.7762 435.26 63.3676 438.093 Q64.9272 440.894 64.9272 444.617 Q64.9272 450.76 61.1078 453.943 Q57.2883 457.126 49.9359 457.126 M27.4968 442.389 L27.4968 442.389 Z\" fill=\"#000000\" fill-rule=\"nonzero\" fill-opacity=\"1\" /><path clip-path=\"url(#clip160)\" d=\"M35.1993 387.453 Q31.2526 385.257 29.3747 382.202 Q27.4968 379.146 27.4968 375.008 Q27.4968 369.438 31.4117 366.415 Q35.2948 363.391 42.4881 363.391 L64.0042 363.391 L64.0042 369.279 L42.679 369.279 Q37.5546 369.279 35.072 371.094 Q32.5894 372.908 32.5894 376.632 Q32.5894 381.183 35.6131 383.825 Q38.6368 386.467 43.8567 386.467 L64.0042 386.467 L64.0042 392.355 L42.679 392.355 Q37.5228 392.355 35.072 394.169 Q32.5894 395.983 32.5894 399.771 Q32.5894 404.259 35.6449 406.901 Q38.6686 409.542 43.8567 409.542 L64.0042 409.542 L64.0042 415.431 L28.3562 415.431 L28.3562 409.542 L33.8944 409.542 Q30.616 407.537 29.0564 404.736 Q27.4968 401.935 27.4968 398.084 Q27.4968 394.201 29.4702 391.496 Q31.4436 388.758 35.1993 387.453 Z\" fill=\"#000000\" fill-rule=\"nonzero\" fill-opacity=\"1\" /><path clip-path=\"url(#clip160)\" d=\"M44.7161 321.218 L47.5806 321.218 L47.5806 348.145 Q53.6281 347.763 56.8109 344.517 Q59.9619 341.238 59.9619 335.414 Q59.9619 332.04 59.1344 328.889 Q58.3069 325.706 56.6518 322.587 L62.1899 322.587 Q63.5267 325.738 64.227 329.048 Q64.9272 332.358 64.9272 335.764 Q64.9272 344.294 59.9619 349.291 Q54.9967 354.256 46.5303 354.256 Q37.7774 354.256 32.6531 349.546 Q27.4968 344.803 27.4968 336.782 Q27.4968 329.589 32.1438 325.42 Q36.7589 321.218 44.7161 321.218 M42.9973 327.075 Q38.1912 327.138 35.3266 329.78 Q32.4621 332.39 32.4621 336.719 Q32.4621 341.62 35.2312 344.58 Q38.0002 347.509 43.0292 347.954 L42.9973 327.075 Z\" fill=\"#000000\" fill-rule=\"nonzero\" fill-opacity=\"1\" /><path clip-path=\"url(#clip160)\" d=\"M33.8307 290.949 Q33.2578 291.936 33.0032 293.114 Q32.7167 294.259 32.7167 295.66 Q32.7167 300.625 35.9632 303.299 Q39.1779 305.941 45.2253 305.941 L64.0042 305.941 L64.0042 311.829 L28.3562 311.829 L28.3562 305.941 L33.8944 305.941 Q30.6479 304.094 29.0883 301.134 Q27.4968 298.174 27.4968 293.941 Q27.4968 293.336 27.5923 292.604 Q27.656 291.872 27.8151 290.981 L33.8307 290.949 Z\" fill=\"#000000\" fill-rule=\"nonzero\" fill-opacity=\"1\" /><path clip-path=\"url(#clip160)\" d=\"M14.5426 285.729 L14.5426 280.637 Q22.0542 275.863 29.2474 273.507 Q36.4406 271.12 43.5384 271.12 Q50.668 271.12 57.8931 273.507 Q65.1182 275.863 72.5979 280.637 L72.5979 285.729 Q65.3091 281.496 58.1159 279.427 Q50.8908 277.327 43.5384 277.327 Q36.186 277.327 29.0246 279.427 Q21.8632 281.496 14.5426 285.729 Z\" fill=\"#000000\" fill-rule=\"nonzero\" fill-opacity=\"1\" /><polyline clip-path=\"url(#clip162)\" style=\"stroke:#009af9; stroke-linecap:round; stroke-linejoin:round; stroke-width:4; stroke-opacity:1; fill:none\" points=\"294.901,468.666 432.718,642.393 570.535,788.417 708.353,912.677 846.17,1019.53 983.987,1112.25 1121.8,1193.32 1259.62,1264.71 1397.44,1327.94 1535.26,1384.24 \"/>\n",
       "<path clip-path=\"url(#clip162)\" d=\"M278.901 452.666 L278.901 484.666 L310.901 484.666 L310.901 452.666 L278.901 452.666 Z\" fill=\"#009af9\" fill-rule=\"evenodd\" fill-opacity=\"1\" stroke=\"#000000\" stroke-opacity=\"1\" stroke-width=\"3.2\"/>\n",
       "<path clip-path=\"url(#clip162)\" d=\"M416.718 626.393 L416.718 658.393 L448.718 658.393 L448.718 626.393 L416.718 626.393 Z\" fill=\"#009af9\" fill-rule=\"evenodd\" fill-opacity=\"1\" stroke=\"#000000\" stroke-opacity=\"1\" stroke-width=\"3.2\"/>\n",
       "<path clip-path=\"url(#clip162)\" d=\"M554.535 772.417 L554.535 804.417 L586.535 804.417 L586.535 772.417 L554.535 772.417 Z\" fill=\"#009af9\" fill-rule=\"evenodd\" fill-opacity=\"1\" stroke=\"#000000\" stroke-opacity=\"1\" stroke-width=\"3.2\"/>\n",
       "<path clip-path=\"url(#clip162)\" d=\"M692.353 896.677 L692.353 928.677 L724.353 928.677 L724.353 896.677 L692.353 896.677 Z\" fill=\"#009af9\" fill-rule=\"evenodd\" fill-opacity=\"1\" stroke=\"#000000\" stroke-opacity=\"1\" stroke-width=\"3.2\"/>\n",
       "<path clip-path=\"url(#clip162)\" d=\"M830.17 1003.53 L830.17 1035.53 L862.17 1035.53 L862.17 1003.53 L830.17 1003.53 Z\" fill=\"#009af9\" fill-rule=\"evenodd\" fill-opacity=\"1\" stroke=\"#000000\" stroke-opacity=\"1\" stroke-width=\"3.2\"/>\n",
       "<path clip-path=\"url(#clip162)\" d=\"M967.987 1096.25 L967.987 1128.25 L999.987 1128.25 L999.987 1096.25 L967.987 1096.25 Z\" fill=\"#009af9\" fill-rule=\"evenodd\" fill-opacity=\"1\" stroke=\"#000000\" stroke-opacity=\"1\" stroke-width=\"3.2\"/>\n",
       "<path clip-path=\"url(#clip162)\" d=\"M1105.8 1177.32 L1105.8 1209.32 L1137.8 1209.32 L1137.8 1177.32 L1105.8 1177.32 Z\" fill=\"#009af9\" fill-rule=\"evenodd\" fill-opacity=\"1\" stroke=\"#000000\" stroke-opacity=\"1\" stroke-width=\"3.2\"/>\n",
       "<path clip-path=\"url(#clip162)\" d=\"M1243.62 1248.71 L1243.62 1280.71 L1275.62 1280.71 L1275.62 1248.71 L1243.62 1248.71 Z\" fill=\"#009af9\" fill-rule=\"evenodd\" fill-opacity=\"1\" stroke=\"#000000\" stroke-opacity=\"1\" stroke-width=\"3.2\"/>\n",
       "<path clip-path=\"url(#clip162)\" d=\"M1381.44 1311.94 L1381.44 1343.94 L1413.44 1343.94 L1413.44 1311.94 L1381.44 1311.94 Z\" fill=\"#009af9\" fill-rule=\"evenodd\" fill-opacity=\"1\" stroke=\"#000000\" stroke-opacity=\"1\" stroke-width=\"3.2\"/>\n",
       "<path clip-path=\"url(#clip162)\" d=\"M1519.26 1368.24 L1519.26 1400.24 L1551.26 1400.24 L1551.26 1368.24 L1519.26 1368.24 Z\" fill=\"#009af9\" fill-rule=\"evenodd\" fill-opacity=\"1\" stroke=\"#000000\" stroke-opacity=\"1\" stroke-width=\"3.2\"/>\n",
       "<polyline clip-path=\"url(#clip162)\" style=\"stroke:#e26f46; stroke-linecap:round; stroke-linejoin:round; stroke-width:4; stroke-opacity:1; fill:none\" points=\"294.901,241.017 432.718,223.482 570.535,205.993 708.353,188.567 846.17,171.218 983.987,153.963 1121.8,136.817 1259.62,119.796 1397.44,102.914 1535.26,86.1857 \"/>\n",
       "<path clip-path=\"url(#clip162)\" d=\"M294.901 225.017 L278.901 241.017 L294.901 257.017 L310.901 241.017 L294.901 225.017 Z\" fill=\"#e26f46\" fill-rule=\"evenodd\" fill-opacity=\"1\" stroke=\"#000000\" stroke-opacity=\"1\" stroke-width=\"3.2\"/>\n",
       "<path clip-path=\"url(#clip162)\" d=\"M432.718 207.482 L416.718 223.482 L432.718 239.482 L448.718 223.482 L432.718 207.482 Z\" fill=\"#e26f46\" fill-rule=\"evenodd\" fill-opacity=\"1\" stroke=\"#000000\" stroke-opacity=\"1\" stroke-width=\"3.2\"/>\n",
       "<path clip-path=\"url(#clip162)\" d=\"M570.535 189.993 L554.535 205.993 L570.535 221.993 L586.535 205.993 L570.535 189.993 Z\" fill=\"#e26f46\" fill-rule=\"evenodd\" fill-opacity=\"1\" stroke=\"#000000\" stroke-opacity=\"1\" stroke-width=\"3.2\"/>\n",
       "<path clip-path=\"url(#clip162)\" d=\"M708.353 172.567 L692.353 188.567 L708.353 204.567 L724.353 188.567 L708.353 172.567 Z\" fill=\"#e26f46\" fill-rule=\"evenodd\" fill-opacity=\"1\" stroke=\"#000000\" stroke-opacity=\"1\" stroke-width=\"3.2\"/>\n",
       "<path clip-path=\"url(#clip162)\" d=\"M846.17 155.218 L830.17 171.218 L846.17 187.218 L862.17 171.218 L846.17 155.218 Z\" fill=\"#e26f46\" fill-rule=\"evenodd\" fill-opacity=\"1\" stroke=\"#000000\" stroke-opacity=\"1\" stroke-width=\"3.2\"/>\n",
       "<path clip-path=\"url(#clip162)\" d=\"M983.987 137.963 L967.987 153.963 L983.987 169.963 L999.987 153.963 L983.987 137.963 Z\" fill=\"#e26f46\" fill-rule=\"evenodd\" fill-opacity=\"1\" stroke=\"#000000\" stroke-opacity=\"1\" stroke-width=\"3.2\"/>\n",
       "<path clip-path=\"url(#clip162)\" d=\"M1121.8 120.817 L1105.8 136.817 L1121.8 152.817 L1137.8 136.817 L1121.8 120.817 Z\" fill=\"#e26f46\" fill-rule=\"evenodd\" fill-opacity=\"1\" stroke=\"#000000\" stroke-opacity=\"1\" stroke-width=\"3.2\"/>\n",
       "<path clip-path=\"url(#clip162)\" d=\"M1259.62 103.796 L1243.62 119.796 L1259.62 135.796 L1275.62 119.796 L1259.62 103.796 Z\" fill=\"#e26f46\" fill-rule=\"evenodd\" fill-opacity=\"1\" stroke=\"#000000\" stroke-opacity=\"1\" stroke-width=\"3.2\"/>\n",
       "<path clip-path=\"url(#clip162)\" d=\"M1397.44 86.9137 L1381.44 102.914 L1397.44 118.914 L1413.44 102.914 L1397.44 86.9137 Z\" fill=\"#e26f46\" fill-rule=\"evenodd\" fill-opacity=\"1\" stroke=\"#000000\" stroke-opacity=\"1\" stroke-width=\"3.2\"/>\n",
       "<path clip-path=\"url(#clip162)\" d=\"M1535.26 70.1857 L1519.26 86.1857 L1535.26 102.186 L1551.26 86.1857 L1535.26 70.1857 Z\" fill=\"#e26f46\" fill-rule=\"evenodd\" fill-opacity=\"1\" stroke=\"#000000\" stroke-opacity=\"1\" stroke-width=\"3.2\"/>\n",
       "<polyline clip-path=\"url(#clip162)\" style=\"stroke:#3da44d; stroke-linecap:round; stroke-linejoin:round; stroke-width:4; stroke-opacity:1; fill:none\" points=\"294.901,329.935 432.718,396.627 570.535,463.723 708.353,531.205 846.17,599.058 983.987,667.264 1121.8,735.808 1259.62,804.671 1397.44,873.838 1535.26,943.29 \"/>\n",
       "<circle clip-path=\"url(#clip162)\" cx=\"294.901\" cy=\"329.935\" r=\"14.4\" fill=\"#3da44d\" fill-rule=\"evenodd\" fill-opacity=\"1\" stroke=\"#000000\" stroke-opacity=\"1\" stroke-width=\"3.2\"/>\n",
       "<circle clip-path=\"url(#clip162)\" cx=\"432.718\" cy=\"396.627\" r=\"14.4\" fill=\"#3da44d\" fill-rule=\"evenodd\" fill-opacity=\"1\" stroke=\"#000000\" stroke-opacity=\"1\" stroke-width=\"3.2\"/>\n",
       "<circle clip-path=\"url(#clip162)\" cx=\"570.535\" cy=\"463.723\" r=\"14.4\" fill=\"#3da44d\" fill-rule=\"evenodd\" fill-opacity=\"1\" stroke=\"#000000\" stroke-opacity=\"1\" stroke-width=\"3.2\"/>\n",
       "<circle clip-path=\"url(#clip162)\" cx=\"708.353\" cy=\"531.205\" r=\"14.4\" fill=\"#3da44d\" fill-rule=\"evenodd\" fill-opacity=\"1\" stroke=\"#000000\" stroke-opacity=\"1\" stroke-width=\"3.2\"/>\n",
       "<circle clip-path=\"url(#clip162)\" cx=\"846.17\" cy=\"599.058\" r=\"14.4\" fill=\"#3da44d\" fill-rule=\"evenodd\" fill-opacity=\"1\" stroke=\"#000000\" stroke-opacity=\"1\" stroke-width=\"3.2\"/>\n",
       "<circle clip-path=\"url(#clip162)\" cx=\"983.987\" cy=\"667.264\" r=\"14.4\" fill=\"#3da44d\" fill-rule=\"evenodd\" fill-opacity=\"1\" stroke=\"#000000\" stroke-opacity=\"1\" stroke-width=\"3.2\"/>\n",
       "<circle clip-path=\"url(#clip162)\" cx=\"1121.8\" cy=\"735.808\" r=\"14.4\" fill=\"#3da44d\" fill-rule=\"evenodd\" fill-opacity=\"1\" stroke=\"#000000\" stroke-opacity=\"1\" stroke-width=\"3.2\"/>\n",
       "<circle clip-path=\"url(#clip162)\" cx=\"1259.62\" cy=\"804.671\" r=\"14.4\" fill=\"#3da44d\" fill-rule=\"evenodd\" fill-opacity=\"1\" stroke=\"#000000\" stroke-opacity=\"1\" stroke-width=\"3.2\"/>\n",
       "<circle clip-path=\"url(#clip162)\" cx=\"1397.44\" cy=\"873.838\" r=\"14.4\" fill=\"#3da44d\" fill-rule=\"evenodd\" fill-opacity=\"1\" stroke=\"#000000\" stroke-opacity=\"1\" stroke-width=\"3.2\"/>\n",
       "<circle clip-path=\"url(#clip162)\" cx=\"1535.26\" cy=\"943.29\" r=\"14.4\" fill=\"#3da44d\" fill-rule=\"evenodd\" fill-opacity=\"1\" stroke=\"#000000\" stroke-opacity=\"1\" stroke-width=\"3.2\"/>\n",
       "<path clip-path=\"url(#clip160)\" d=\"M1642.3 300.469 L2352.76 300.469 L2352.76 93.1086 L1642.3 93.1086  Z\" fill=\"#ffffff\" fill-rule=\"evenodd\" fill-opacity=\"1\"/>\n",
       "<polyline clip-path=\"url(#clip160)\" style=\"stroke:#000000; stroke-linecap:round; stroke-linejoin:round; stroke-width:4; stroke-opacity:1; fill:none\" points=\"1642.3,300.469 2352.76,300.469 2352.76,93.1086 1642.3,93.1086 1642.3,300.469 \"/>\n",
       "<polyline clip-path=\"url(#clip160)\" style=\"stroke:#009af9; stroke-linecap:round; stroke-linejoin:round; stroke-width:4; stroke-opacity:1; fill:none\" points=\"1665.58,144.949 1805.25,144.949 \"/>\n",
       "<path clip-path=\"url(#clip160)\" d=\"M1713.86 123.394 L1713.86 166.503 L1756.97 166.503 L1756.97 123.394 L1713.86 123.394 Z\" fill=\"#009af9\" fill-rule=\"evenodd\" fill-opacity=\"1\" stroke=\"#000000\" stroke-opacity=\"1\" stroke-width=\"4.55111\"/>\n",
       "<path clip-path=\"url(#clip160)\" d=\"M1856.4 130.331 L1856.4 135.261 Q1854.04 133.062 1851.35 131.974 Q1848.69 130.886 1845.68 130.886 Q1839.76 130.886 1836.61 134.52 Q1833.46 138.132 1833.46 144.983 Q1833.46 151.812 1836.61 155.446 Q1839.76 159.057 1845.68 159.057 Q1848.69 159.057 1851.35 157.969 Q1854.04 156.881 1856.4 154.682 L1856.4 159.567 Q1853.95 161.233 1851.19 162.067 Q1848.46 162.9 1845.41 162.9 Q1837.56 162.9 1833.04 158.108 Q1828.53 153.293 1828.53 144.983 Q1828.53 136.65 1833.04 131.858 Q1837.56 127.044 1845.41 127.044 Q1848.51 127.044 1851.24 127.877 Q1853.99 128.687 1856.4 130.331 Z\" fill=\"#000000\" fill-rule=\"nonzero\" fill-opacity=\"1\" /><path clip-path=\"url(#clip160)\" d=\"M1884.99 146.581 L1884.99 162.229 L1880.73 162.229 L1880.73 146.719 Q1880.73 143.039 1879.29 141.21 Q1877.86 139.382 1874.99 139.382 Q1871.54 139.382 1869.55 141.581 Q1867.56 143.78 1867.56 147.576 L1867.56 162.229 L1863.28 162.229 L1863.28 126.21 L1867.56 126.21 L1867.56 140.331 Q1869.09 137.993 1871.15 136.835 Q1873.23 135.678 1875.94 135.678 Q1880.41 135.678 1882.7 138.456 Q1884.99 141.21 1884.99 146.581 Z\" fill=\"#000000\" fill-rule=\"nonzero\" fill-opacity=\"1\" /><path clip-path=\"url(#clip160)\" d=\"M1893.48 136.303 L1897.74 136.303 L1897.74 162.229 L1893.48 162.229 L1893.48 136.303 M1893.48 126.21 L1897.74 126.21 L1897.74 131.604 L1893.48 131.604 L1893.48 126.21 Z\" fill=\"#000000\" fill-rule=\"nonzero\" fill-opacity=\"1\" /><path clip-path=\"url(#clip160)\" d=\"M1925.31 137.298 L1925.31 141.28 Q1923.51 140.284 1921.68 139.798 Q1919.87 139.289 1918.02 139.289 Q1913.88 139.289 1911.59 141.928 Q1909.29 144.544 1909.29 149.289 Q1909.29 154.034 1911.59 156.673 Q1913.88 159.289 1918.02 159.289 Q1919.87 159.289 1921.68 158.803 Q1923.51 158.293 1925.31 157.298 L1925.31 161.233 Q1923.53 162.067 1921.61 162.483 Q1919.71 162.9 1917.56 162.9 Q1911.7 162.9 1908.25 159.219 Q1904.8 155.539 1904.8 149.289 Q1904.8 142.946 1908.28 139.312 Q1911.77 135.678 1917.84 135.678 Q1919.8 135.678 1921.68 136.095 Q1923.55 136.488 1925.31 137.298 Z\" fill=\"#000000\" fill-rule=\"nonzero\" fill-opacity=\"1\" /><path clip-path=\"url(#clip160)\" d=\"M1932.56 126.21 L1936.84 126.21 L1936.84 147.483 L1949.55 136.303 L1954.99 136.303 L1941.24 148.432 L1955.57 162.229 L1950.01 162.229 L1936.84 149.567 L1936.84 162.229 L1932.56 162.229 L1932.56 126.21 Z\" fill=\"#000000\" fill-rule=\"nonzero\" fill-opacity=\"1\" /><path clip-path=\"url(#clip160)\" d=\"M1980.66 148.201 L1980.66 150.284 L1961.08 150.284 Q1961.35 154.682 1963.72 156.997 Q1966.1 159.289 1970.34 159.289 Q1972.79 159.289 1975.08 158.687 Q1977.4 158.085 1979.66 156.881 L1979.66 160.909 Q1977.37 161.881 1974.97 162.391 Q1972.56 162.9 1970.08 162.9 Q1963.88 162.9 1960.24 159.289 Q1956.63 155.678 1956.63 149.52 Q1956.63 143.155 1960.06 139.428 Q1963.51 135.678 1969.34 135.678 Q1974.57 135.678 1977.6 139.057 Q1980.66 142.414 1980.66 148.201 M1976.4 146.951 Q1976.35 143.456 1974.43 141.372 Q1972.53 139.289 1969.39 139.289 Q1965.82 139.289 1963.67 141.303 Q1961.54 143.317 1961.22 146.974 L1976.4 146.951 Z\" fill=\"#000000\" fill-rule=\"nonzero\" fill-opacity=\"1\" /><path clip-path=\"url(#clip160)\" d=\"M2009.2 146.581 L2009.2 162.229 L2004.94 162.229 L2004.94 146.719 Q2004.94 143.039 2003.51 141.21 Q2002.07 139.382 1999.2 139.382 Q1995.75 139.382 1993.76 141.581 Q1991.77 143.78 1991.77 147.576 L1991.77 162.229 L1987.49 162.229 L1987.49 136.303 L1991.77 136.303 L1991.77 140.331 Q1993.3 137.993 1995.36 136.835 Q1997.44 135.678 2000.15 135.678 Q2004.62 135.678 2006.91 138.456 Q2009.2 141.21 2009.2 146.581 Z\" fill=\"#000000\" fill-rule=\"nonzero\" fill-opacity=\"1\" /><path clip-path=\"url(#clip160)\" d=\"M2037.63 131.511 L2037.63 144.497 L2043.51 144.497 Q2046.77 144.497 2048.55 142.807 Q2050.34 141.118 2050.34 137.993 Q2050.34 134.891 2048.55 133.201 Q2046.77 131.511 2043.51 131.511 L2037.63 131.511 M2032.95 127.669 L2043.51 127.669 Q2049.32 127.669 2052.28 130.307 Q2055.27 132.923 2055.27 137.993 Q2055.27 143.108 2052.28 145.724 Q2049.32 148.34 2043.51 148.34 L2037.63 148.34 L2037.63 162.229 L2032.95 162.229 L2032.95 127.669 Z\" fill=\"#000000\" fill-rule=\"nonzero\" fill-opacity=\"1\" /><path clip-path=\"url(#clip160)\" d=\"M2071.01 149.196 Q2065.84 149.196 2063.85 150.377 Q2061.86 151.557 2061.86 154.405 Q2061.86 156.673 2063.34 158.016 Q2064.85 159.335 2067.42 159.335 Q2070.96 159.335 2073.09 156.835 Q2075.24 154.312 2075.24 150.145 L2075.24 149.196 L2071.01 149.196 M2079.5 147.437 L2079.5 162.229 L2075.24 162.229 L2075.24 158.293 Q2073.78 160.655 2071.61 161.789 Q2069.43 162.9 2066.28 162.9 Q2062.3 162.9 2059.94 160.678 Q2057.6 158.432 2057.6 154.682 Q2057.6 150.307 2060.52 148.085 Q2063.46 145.863 2069.27 145.863 L2075.24 145.863 L2075.24 145.446 Q2075.24 142.507 2073.3 140.909 Q2071.38 139.289 2067.88 139.289 Q2065.66 139.289 2063.55 139.821 Q2061.45 140.354 2059.5 141.419 L2059.5 137.483 Q2061.84 136.581 2064.04 136.141 Q2066.24 135.678 2068.32 135.678 Q2073.95 135.678 2076.72 138.594 Q2079.5 141.511 2079.5 147.437 Z\" fill=\"#000000\" fill-rule=\"nonzero\" fill-opacity=\"1\" /><path clip-path=\"url(#clip160)\" d=\"M2110.45 148.201 L2110.45 150.284 L2090.87 150.284 Q2091.15 154.682 2093.51 156.997 Q2095.89 159.289 2100.13 159.289 Q2102.58 159.289 2104.87 158.687 Q2107.19 158.085 2109.46 156.881 L2109.46 160.909 Q2107.16 161.881 2104.76 162.391 Q2102.35 162.9 2099.87 162.9 Q2093.67 162.9 2090.03 159.289 Q2086.42 155.678 2086.42 149.52 Q2086.42 143.155 2089.85 139.428 Q2093.3 135.678 2099.13 135.678 Q2104.36 135.678 2107.4 139.057 Q2110.45 142.414 2110.45 148.201 M2106.19 146.951 Q2106.15 143.456 2104.22 141.372 Q2102.33 139.289 2099.18 139.289 Q2095.61 139.289 2093.46 141.303 Q2091.33 143.317 2091.01 146.974 L2106.19 146.951 Z\" fill=\"#000000\" fill-rule=\"nonzero\" fill-opacity=\"1\" /><path clip-path=\"url(#clip160)\" d=\"M2117.44 126.21 L2121.7 126.21 L2121.7 162.229 L2117.44 162.229 L2117.44 126.21 Z\" fill=\"#000000\" fill-rule=\"nonzero\" fill-opacity=\"1\" /><path clip-path=\"url(#clip160)\" d=\"M2130.61 126.21 L2134.87 126.21 L2134.87 162.229 L2130.61 162.229 L2130.61 126.21 Z\" fill=\"#000000\" fill-rule=\"nonzero\" fill-opacity=\"1\" /><path clip-path=\"url(#clip160)\" d=\"M2155.57 149.196 Q2150.4 149.196 2148.41 150.377 Q2146.42 151.557 2146.42 154.405 Q2146.42 156.673 2147.9 158.016 Q2149.41 159.335 2151.98 159.335 Q2155.52 159.335 2157.65 156.835 Q2159.8 154.312 2159.8 150.145 L2159.8 149.196 L2155.57 149.196 M2164.06 147.437 L2164.06 162.229 L2159.8 162.229 L2159.8 158.293 Q2158.34 160.655 2156.17 161.789 Q2153.99 162.9 2150.84 162.9 Q2146.86 162.9 2144.5 160.678 Q2142.16 158.432 2142.16 154.682 Q2142.16 150.307 2145.08 148.085 Q2148.02 145.863 2153.83 145.863 L2159.8 145.863 L2159.8 145.446 Q2159.8 142.507 2157.86 140.909 Q2155.94 139.289 2152.44 139.289 Q2150.22 139.289 2148.11 139.821 Q2146.01 140.354 2144.06 141.419 L2144.06 137.483 Q2146.4 136.581 2148.6 136.141 Q2150.8 135.678 2152.88 135.678 Q2158.51 135.678 2161.28 138.594 Q2164.06 141.511 2164.06 147.437 Z\" fill=\"#000000\" fill-rule=\"nonzero\" fill-opacity=\"1\" /><path clip-path=\"url(#clip160)\" d=\"M2192.77 131.511 L2192.77 144.497 L2198.64 144.497 Q2201.91 144.497 2203.69 142.807 Q2205.47 141.118 2205.47 137.993 Q2205.47 134.891 2203.69 133.201 Q2201.91 131.511 2198.64 131.511 L2192.77 131.511 M2188.09 127.669 L2198.64 127.669 Q2204.45 127.669 2207.42 130.307 Q2210.4 132.923 2210.4 137.993 Q2210.4 143.108 2207.42 145.724 Q2204.45 148.34 2198.64 148.34 L2192.77 148.34 L2192.77 162.229 L2188.09 162.229 L2188.09 127.669 Z\" fill=\"#000000\" fill-rule=\"nonzero\" fill-opacity=\"1\" /><path clip-path=\"url(#clip160)\" d=\"M2230.68 140.284 Q2229.96 139.868 2229.11 139.682 Q2228.27 139.474 2227.26 139.474 Q2223.64 139.474 2221.7 141.835 Q2219.78 144.173 2219.78 148.571 L2219.78 162.229 L2215.5 162.229 L2215.5 136.303 L2219.78 136.303 L2219.78 140.331 Q2221.12 137.969 2223.27 136.835 Q2225.43 135.678 2228.51 135.678 Q2228.95 135.678 2229.48 135.747 Q2230.01 135.794 2230.66 135.909 L2230.68 140.284 Z\" fill=\"#000000\" fill-rule=\"nonzero\" fill-opacity=\"1\" /><path clip-path=\"url(#clip160)\" d=\"M2244.15 139.289 Q2240.73 139.289 2238.74 141.974 Q2236.75 144.636 2236.75 149.289 Q2236.75 153.942 2238.71 156.627 Q2240.7 159.289 2244.15 159.289 Q2247.56 159.289 2249.55 156.604 Q2251.54 153.918 2251.54 149.289 Q2251.54 144.682 2249.55 141.997 Q2247.56 139.289 2244.15 139.289 M2244.15 135.678 Q2249.71 135.678 2252.88 139.289 Q2256.05 142.9 2256.05 149.289 Q2256.05 155.655 2252.88 159.289 Q2249.71 162.9 2244.15 162.9 Q2238.58 162.9 2235.4 159.289 Q2232.26 155.655 2232.26 149.289 Q2232.26 142.9 2235.4 139.289 Q2238.58 135.678 2244.15 135.678 Z\" fill=\"#000000\" fill-rule=\"nonzero\" fill-opacity=\"1\" /><path clip-path=\"url(#clip160)\" d=\"M2276.24 126.21 L2276.24 129.752 L2272.16 129.752 Q2269.87 129.752 2268.97 130.678 Q2268.09 131.604 2268.09 134.011 L2268.09 136.303 L2275.1 136.303 L2275.1 139.613 L2268.09 139.613 L2268.09 162.229 L2263.81 162.229 L2263.81 139.613 L2259.73 139.613 L2259.73 136.303 L2263.81 136.303 L2263.81 134.497 Q2263.81 130.169 2265.82 128.201 Q2267.83 126.21 2272.21 126.21 L2276.24 126.21 Z\" fill=\"#000000\" fill-rule=\"nonzero\" fill-opacity=\"1\" /><path clip-path=\"url(#clip160)\" d=\"M2279.8 136.303 L2284.06 136.303 L2284.06 162.229 L2279.8 162.229 L2279.8 136.303 M2279.8 126.21 L2284.06 126.21 L2284.06 131.604 L2279.8 131.604 L2279.8 126.21 Z\" fill=\"#000000\" fill-rule=\"nonzero\" fill-opacity=\"1\" /><path clip-path=\"url(#clip160)\" d=\"M2297.19 128.942 L2297.19 136.303 L2305.96 136.303 L2305.96 139.613 L2297.19 139.613 L2297.19 153.687 Q2297.19 156.858 2298.04 157.761 Q2298.92 158.664 2301.58 158.664 L2305.96 158.664 L2305.96 162.229 L2301.58 162.229 Q2296.65 162.229 2294.78 160.4 Q2292.9 158.548 2292.9 153.687 L2292.9 139.613 L2289.78 139.613 L2289.78 136.303 L2292.9 136.303 L2292.9 128.942 L2297.19 128.942 Z\" fill=\"#000000\" fill-rule=\"nonzero\" fill-opacity=\"1\" /><path clip-path=\"url(#clip160)\" d=\"M2328.09 137.067 L2328.09 141.094 Q2326.28 140.169 2324.34 139.706 Q2322.39 139.243 2320.31 139.243 Q2317.14 139.243 2315.54 140.215 Q2313.97 141.187 2313.97 143.131 Q2313.97 144.613 2315.1 145.469 Q2316.24 146.303 2319.66 147.067 L2321.12 147.391 Q2325.66 148.363 2327.56 150.145 Q2329.48 151.905 2329.48 155.076 Q2329.48 158.687 2326.61 160.793 Q2323.76 162.9 2318.76 162.9 Q2316.68 162.9 2314.41 162.483 Q2312.16 162.09 2309.66 161.28 L2309.66 156.881 Q2312.02 158.108 2314.32 158.733 Q2316.61 159.335 2318.85 159.335 Q2321.86 159.335 2323.48 158.317 Q2325.1 157.275 2325.1 155.4 Q2325.1 153.664 2323.92 152.738 Q2322.76 151.812 2318.81 150.956 L2317.32 150.608 Q2313.37 149.775 2311.61 148.062 Q2309.85 146.326 2309.85 143.317 Q2309.85 139.659 2312.44 137.669 Q2315.03 135.678 2319.8 135.678 Q2322.16 135.678 2324.25 136.025 Q2326.33 136.372 2328.09 137.067 Z\" fill=\"#000000\" fill-rule=\"nonzero\" fill-opacity=\"1\" /><polyline clip-path=\"url(#clip160)\" style=\"stroke:#e26f46; stroke-linecap:round; stroke-linejoin:round; stroke-width:4; stroke-opacity:1; fill:none\" points=\"1665.58,196.789 1805.25,196.789 \"/>\n",
       "<path clip-path=\"url(#clip160)\" d=\"M1735.42 175.234 L1713.86 196.789 L1735.42 218.343 L1756.97 196.789 L1735.42 175.234 Z\" fill=\"#e26f46\" fill-rule=\"evenodd\" fill-opacity=\"1\" stroke=\"#000000\" stroke-opacity=\"1\" stroke-width=\"4.55111\"/>\n",
       "<path clip-path=\"url(#clip160)\" d=\"M1841.73 214.069 L1828.53 179.509 L1833.42 179.509 L1844.36 208.606 L1855.34 179.509 L1860.2 179.509 L1847.03 214.069 L1841.73 214.069 Z\" fill=\"#000000\" fill-rule=\"nonzero\" fill-opacity=\"1\" /><path clip-path=\"url(#clip160)\" d=\"M1883.55 200.041 L1883.55 202.124 L1863.97 202.124 Q1864.25 206.522 1866.61 208.837 Q1868.99 211.129 1873.23 211.129 Q1875.68 211.129 1877.98 210.527 Q1880.29 209.925 1882.56 208.721 L1882.56 212.749 Q1880.27 213.721 1877.86 214.231 Q1875.45 214.74 1872.98 214.74 Q1866.77 214.74 1863.14 211.129 Q1859.53 207.518 1859.53 201.36 Q1859.53 194.995 1862.95 191.268 Q1866.4 187.518 1872.23 187.518 Q1877.47 187.518 1880.5 190.897 Q1883.55 194.254 1883.55 200.041 M1879.29 198.791 Q1879.25 195.296 1877.33 193.212 Q1875.43 191.129 1872.28 191.129 Q1868.72 191.129 1866.56 193.143 Q1864.43 195.157 1864.11 198.814 L1879.29 198.791 Z\" fill=\"#000000\" fill-rule=\"nonzero\" fill-opacity=\"1\" /><path clip-path=\"url(#clip160)\" d=\"M1907.6 200.805 Q1907.6 196.175 1905.68 193.629 Q1903.79 191.083 1900.34 191.083 Q1896.91 191.083 1894.99 193.629 Q1893.09 196.175 1893.09 200.805 Q1893.09 205.411 1894.99 207.958 Q1896.91 210.504 1900.34 210.504 Q1903.79 210.504 1905.68 207.958 Q1907.6 205.411 1907.6 200.805 M1911.86 210.851 Q1911.86 217.471 1908.92 220.689 Q1905.98 223.93 1899.92 223.93 Q1897.67 223.93 1895.68 223.582 Q1893.69 223.258 1891.82 222.564 L1891.82 218.42 Q1893.69 219.439 1895.52 219.925 Q1897.35 220.411 1899.25 220.411 Q1903.44 220.411 1905.52 218.212 Q1907.6 216.036 1907.6 211.615 L1907.6 209.508 Q1906.29 211.8 1904.23 212.934 Q1902.16 214.069 1899.29 214.069 Q1894.53 214.069 1891.61 210.434 Q1888.69 206.8 1888.69 200.805 Q1888.69 194.786 1891.61 191.152 Q1894.53 187.518 1899.29 187.518 Q1902.16 187.518 1904.23 188.652 Q1906.29 189.786 1907.6 192.078 L1907.6 188.143 L1911.86 188.143 L1911.86 210.851 Z\" fill=\"#000000\" fill-rule=\"nonzero\" fill-opacity=\"1\" /><path clip-path=\"url(#clip160)\" d=\"M1937.7 200.805 Q1937.7 196.175 1935.78 193.629 Q1933.88 191.083 1930.43 191.083 Q1927 191.083 1925.08 193.629 Q1923.18 196.175 1923.18 200.805 Q1923.18 205.411 1925.08 207.958 Q1927 210.504 1930.43 210.504 Q1933.88 210.504 1935.78 207.958 Q1937.7 205.411 1937.7 200.805 M1941.96 210.851 Q1941.96 217.471 1939.02 220.689 Q1936.08 223.93 1930.01 223.93 Q1927.77 223.93 1925.78 223.582 Q1923.79 223.258 1921.91 222.564 L1921.91 218.42 Q1923.79 219.439 1925.61 219.925 Q1927.44 220.411 1929.34 220.411 Q1933.53 220.411 1935.61 218.212 Q1937.7 216.036 1937.7 211.615 L1937.7 209.508 Q1936.38 211.8 1934.32 212.934 Q1932.26 214.069 1929.39 214.069 Q1924.62 214.069 1921.7 210.434 Q1918.79 206.8 1918.79 200.805 Q1918.79 194.786 1921.7 191.152 Q1924.62 187.518 1929.39 187.518 Q1932.26 187.518 1934.32 188.652 Q1936.38 189.786 1937.7 192.078 L1937.7 188.143 L1941.96 188.143 L1941.96 210.851 Z\" fill=\"#000000\" fill-rule=\"nonzero\" fill-opacity=\"1\" /><path clip-path=\"url(#clip160)\" d=\"M1950.73 188.143 L1954.99 188.143 L1954.99 214.069 L1950.73 214.069 L1950.73 188.143 M1950.73 178.05 L1954.99 178.05 L1954.99 183.444 L1950.73 183.444 L1950.73 178.05 Z\" fill=\"#000000\" fill-rule=\"nonzero\" fill-opacity=\"1\" /><path clip-path=\"url(#clip160)\" d=\"M1986.08 200.041 L1986.08 202.124 L1966.49 202.124 Q1966.77 206.522 1969.13 208.837 Q1971.52 211.129 1975.75 211.129 Q1978.21 211.129 1980.5 210.527 Q1982.81 209.925 1985.08 208.721 L1985.08 212.749 Q1982.79 213.721 1980.38 214.231 Q1977.97 214.74 1975.5 214.74 Q1969.29 214.74 1965.66 211.129 Q1962.05 207.518 1962.05 201.36 Q1962.05 194.995 1965.47 191.268 Q1968.92 187.518 1974.76 187.518 Q1979.99 187.518 1983.02 190.897 Q1986.08 194.254 1986.08 200.041 M1981.82 198.791 Q1981.77 195.296 1979.85 193.212 Q1977.95 191.129 1974.8 191.129 Q1971.24 191.129 1969.09 193.143 Q1966.96 195.157 1966.63 198.814 L1981.82 198.791 Z\" fill=\"#000000\" fill-rule=\"nonzero\" fill-opacity=\"1\" /><path clip-path=\"url(#clip160)\" d=\"M2013 183.351 L2013 196.337 L2018.88 196.337 Q2022.14 196.337 2023.92 194.647 Q2025.71 192.958 2025.71 189.833 Q2025.71 186.731 2023.92 185.041 Q2022.14 183.351 2018.88 183.351 L2013 183.351 M2008.32 179.509 L2018.88 179.509 Q2024.69 179.509 2027.65 182.147 Q2030.64 184.763 2030.64 189.833 Q2030.64 194.948 2027.65 197.564 Q2024.69 200.18 2018.88 200.18 L2013 200.18 L2013 214.069 L2008.32 214.069 L2008.32 179.509 Z\" fill=\"#000000\" fill-rule=\"nonzero\" fill-opacity=\"1\" /><path clip-path=\"url(#clip160)\" d=\"M2046.38 201.036 Q2041.22 201.036 2039.22 202.217 Q2037.23 203.397 2037.23 206.245 Q2037.23 208.513 2038.72 209.856 Q2040.22 211.175 2042.79 211.175 Q2046.33 211.175 2048.46 208.675 Q2050.61 206.152 2050.61 201.985 L2050.61 201.036 L2046.38 201.036 M2054.87 199.277 L2054.87 214.069 L2050.61 214.069 L2050.61 210.133 Q2049.15 212.495 2046.98 213.629 Q2044.8 214.74 2041.65 214.74 Q2037.67 214.74 2035.31 212.518 Q2032.97 210.272 2032.97 206.522 Q2032.97 202.147 2035.89 199.925 Q2038.83 197.703 2044.64 197.703 L2050.61 197.703 L2050.61 197.286 Q2050.61 194.347 2048.67 192.749 Q2046.75 191.129 2043.25 191.129 Q2041.03 191.129 2038.92 191.661 Q2036.82 192.194 2034.87 193.259 L2034.87 189.323 Q2037.21 188.421 2039.41 187.981 Q2041.61 187.518 2043.69 187.518 Q2049.32 187.518 2052.09 190.434 Q2054.87 193.351 2054.87 199.277 Z\" fill=\"#000000\" fill-rule=\"nonzero\" fill-opacity=\"1\" /><path clip-path=\"url(#clip160)\" d=\"M2085.82 200.041 L2085.82 202.124 L2066.24 202.124 Q2066.52 206.522 2068.88 208.837 Q2071.26 211.129 2075.5 211.129 Q2077.95 211.129 2080.24 210.527 Q2082.56 209.925 2084.83 208.721 L2084.83 212.749 Q2082.53 213.721 2080.13 214.231 Q2077.72 214.74 2075.24 214.74 Q2069.04 214.74 2065.4 211.129 Q2061.79 207.518 2061.79 201.36 Q2061.79 194.995 2065.22 191.268 Q2068.67 187.518 2074.5 187.518 Q2079.73 187.518 2082.77 190.897 Q2085.82 194.254 2085.82 200.041 M2081.56 198.791 Q2081.52 195.296 2079.59 193.212 Q2077.7 191.129 2074.55 191.129 Q2070.98 191.129 2068.83 193.143 Q2066.7 195.157 2066.38 198.814 L2081.56 198.791 Z\" fill=\"#000000\" fill-rule=\"nonzero\" fill-opacity=\"1\" /><path clip-path=\"url(#clip160)\" d=\"M2092.81 178.05 L2097.07 178.05 L2097.07 214.069 L2092.81 214.069 L2092.81 178.05 Z\" fill=\"#000000\" fill-rule=\"nonzero\" fill-opacity=\"1\" /><path clip-path=\"url(#clip160)\" d=\"M2105.98 178.05 L2110.24 178.05 L2110.24 214.069 L2105.98 214.069 L2105.98 178.05 Z\" fill=\"#000000\" fill-rule=\"nonzero\" fill-opacity=\"1\" /><path clip-path=\"url(#clip160)\" d=\"M2130.94 201.036 Q2125.77 201.036 2123.78 202.217 Q2121.79 203.397 2121.79 206.245 Q2121.79 208.513 2123.27 209.856 Q2124.78 211.175 2127.35 211.175 Q2130.89 211.175 2133.02 208.675 Q2135.17 206.152 2135.17 201.985 L2135.17 201.036 L2130.94 201.036 M2139.43 199.277 L2139.43 214.069 L2135.17 214.069 L2135.17 210.133 Q2133.71 212.495 2131.54 213.629 Q2129.36 214.74 2126.21 214.74 Q2122.23 214.74 2119.87 212.518 Q2117.53 210.272 2117.53 206.522 Q2117.53 202.147 2120.45 199.925 Q2123.39 197.703 2129.2 197.703 L2135.17 197.703 L2135.17 197.286 Q2135.17 194.347 2133.23 192.749 Q2131.31 191.129 2127.81 191.129 Q2125.59 191.129 2123.48 191.661 Q2121.38 192.194 2119.43 193.259 L2119.43 189.323 Q2121.77 188.421 2123.97 187.981 Q2126.17 187.518 2128.25 187.518 Q2133.88 187.518 2136.65 190.434 Q2139.43 193.351 2139.43 199.277 Z\" fill=\"#000000\" fill-rule=\"nonzero\" fill-opacity=\"1\" /><path clip-path=\"url(#clip160)\" d=\"M2168.14 183.351 L2168.14 196.337 L2174.02 196.337 Q2177.28 196.337 2179.06 194.647 Q2180.84 192.958 2180.84 189.833 Q2180.84 186.731 2179.06 185.041 Q2177.28 183.351 2174.02 183.351 L2168.14 183.351 M2163.46 179.509 L2174.02 179.509 Q2179.83 179.509 2182.79 182.147 Q2185.77 184.763 2185.77 189.833 Q2185.77 194.948 2182.79 197.564 Q2179.83 200.18 2174.02 200.18 L2168.14 200.18 L2168.14 214.069 L2163.46 214.069 L2163.46 179.509 Z\" fill=\"#000000\" fill-rule=\"nonzero\" fill-opacity=\"1\" /><path clip-path=\"url(#clip160)\" d=\"M2206.05 192.124 Q2205.33 191.708 2204.48 191.522 Q2203.64 191.314 2202.63 191.314 Q2199.02 191.314 2197.07 193.675 Q2195.15 196.013 2195.15 200.411 L2195.15 214.069 L2190.87 214.069 L2190.87 188.143 L2195.15 188.143 L2195.15 192.171 Q2196.49 189.809 2198.64 188.675 Q2200.8 187.518 2203.88 187.518 Q2204.32 187.518 2204.85 187.587 Q2205.38 187.634 2206.03 187.749 L2206.05 192.124 Z\" fill=\"#000000\" fill-rule=\"nonzero\" fill-opacity=\"1\" /><path clip-path=\"url(#clip160)\" d=\"M2219.52 191.129 Q2216.1 191.129 2214.11 193.814 Q2212.12 196.476 2212.12 201.129 Q2212.12 205.782 2214.08 208.467 Q2216.08 211.129 2219.52 211.129 Q2222.93 211.129 2224.92 208.444 Q2226.91 205.758 2226.91 201.129 Q2226.91 196.522 2224.92 193.837 Q2222.93 191.129 2219.52 191.129 M2219.52 187.518 Q2225.08 187.518 2228.25 191.129 Q2231.42 194.74 2231.42 201.129 Q2231.42 207.495 2228.25 211.129 Q2225.08 214.74 2219.52 214.74 Q2213.95 214.74 2210.77 211.129 Q2207.63 207.495 2207.63 201.129 Q2207.63 194.74 2210.77 191.129 Q2213.95 187.518 2219.52 187.518 Z\" fill=\"#000000\" fill-rule=\"nonzero\" fill-opacity=\"1\" /><path clip-path=\"url(#clip160)\" d=\"M2251.61 178.05 L2251.61 181.592 L2247.53 181.592 Q2245.24 181.592 2244.34 182.518 Q2243.46 183.444 2243.46 185.851 L2243.46 188.143 L2250.47 188.143 L2250.47 191.453 L2243.46 191.453 L2243.46 214.069 L2239.18 214.069 L2239.18 191.453 L2235.1 191.453 L2235.1 188.143 L2239.18 188.143 L2239.18 186.337 Q2239.18 182.009 2241.19 180.041 Q2243.2 178.05 2247.58 178.05 L2251.61 178.05 Z\" fill=\"#000000\" fill-rule=\"nonzero\" fill-opacity=\"1\" /><path clip-path=\"url(#clip160)\" d=\"M2255.17 188.143 L2259.43 188.143 L2259.43 214.069 L2255.17 214.069 L2255.17 188.143 M2255.17 178.05 L2259.43 178.05 L2259.43 183.444 L2255.17 183.444 L2255.17 178.05 Z\" fill=\"#000000\" fill-rule=\"nonzero\" fill-opacity=\"1\" /><path clip-path=\"url(#clip160)\" d=\"M2272.56 180.782 L2272.56 188.143 L2281.33 188.143 L2281.33 191.453 L2272.56 191.453 L2272.56 205.527 Q2272.56 208.698 2273.41 209.601 Q2274.29 210.504 2276.95 210.504 L2281.33 210.504 L2281.33 214.069 L2276.95 214.069 Q2272.02 214.069 2270.15 212.24 Q2268.27 210.388 2268.27 205.527 L2268.27 191.453 L2265.15 191.453 L2265.15 188.143 L2268.27 188.143 L2268.27 180.782 L2272.56 180.782 Z\" fill=\"#000000\" fill-rule=\"nonzero\" fill-opacity=\"1\" /><path clip-path=\"url(#clip160)\" d=\"M2303.46 188.907 L2303.46 192.934 Q2301.65 192.009 2299.71 191.546 Q2297.76 191.083 2295.68 191.083 Q2292.51 191.083 2290.91 192.055 Q2289.34 193.027 2289.34 194.971 Q2289.34 196.453 2290.47 197.309 Q2291.61 198.143 2295.03 198.907 L2296.49 199.231 Q2301.03 200.203 2302.93 201.985 Q2304.85 203.745 2304.85 206.916 Q2304.85 210.527 2301.98 212.633 Q2299.13 214.74 2294.13 214.74 Q2292.05 214.74 2289.78 214.323 Q2287.53 213.93 2285.03 213.12 L2285.03 208.721 Q2287.39 209.948 2289.69 210.573 Q2291.98 211.175 2294.22 211.175 Q2297.23 211.175 2298.85 210.157 Q2300.47 209.115 2300.47 207.24 Q2300.47 205.504 2299.29 204.578 Q2298.13 203.652 2294.18 202.796 L2292.7 202.448 Q2288.74 201.615 2286.98 199.902 Q2285.22 198.166 2285.22 195.157 Q2285.22 191.499 2287.81 189.509 Q2290.4 187.518 2295.17 187.518 Q2297.53 187.518 2299.62 187.865 Q2301.7 188.212 2303.46 188.907 Z\" fill=\"#000000\" fill-rule=\"nonzero\" fill-opacity=\"1\" /><polyline clip-path=\"url(#clip160)\" style=\"stroke:#3da44d; stroke-linecap:round; stroke-linejoin:round; stroke-width:4; stroke-opacity:1; fill:none\" points=\"1665.58,248.629 1805.25,248.629 \"/>\n",
       "<circle clip-path=\"url(#clip160)\" cx=\"1735.42\" cy=\"248.629\" r=\"19.3988\" fill=\"#3da44d\" fill-rule=\"evenodd\" fill-opacity=\"1\" stroke=\"#000000\" stroke-opacity=\"1\" stroke-width=\"4.55111\"/>\n",
       "<path clip-path=\"url(#clip160)\" d=\"M1856.4 234.011 L1856.4 238.941 Q1854.04 236.742 1851.35 235.654 Q1848.69 234.566 1845.68 234.566 Q1839.76 234.566 1836.61 238.2 Q1833.46 241.812 1833.46 248.663 Q1833.46 255.492 1836.61 259.126 Q1839.76 262.737 1845.68 262.737 Q1848.69 262.737 1851.35 261.649 Q1854.04 260.561 1856.4 258.362 L1856.4 263.247 Q1853.95 264.913 1851.19 265.747 Q1848.46 266.58 1845.41 266.58 Q1837.56 266.58 1833.04 261.788 Q1828.53 256.973 1828.53 248.663 Q1828.53 240.33 1833.04 235.538 Q1837.56 230.724 1845.41 230.724 Q1848.51 230.724 1851.24 231.557 Q1853.99 232.367 1856.4 234.011 Z\" fill=\"#000000\" fill-rule=\"nonzero\" fill-opacity=\"1\" /><path clip-path=\"url(#clip160)\" d=\"M1873.48 242.969 Q1870.06 242.969 1868.07 245.654 Q1866.08 248.316 1866.08 252.969 Q1866.08 257.622 1868.04 260.307 Q1870.04 262.969 1873.48 262.969 Q1876.89 262.969 1878.88 260.284 Q1880.87 257.598 1880.87 252.969 Q1880.87 248.362 1878.88 245.677 Q1876.89 242.969 1873.48 242.969 M1873.48 239.358 Q1879.04 239.358 1882.21 242.969 Q1885.38 246.58 1885.38 252.969 Q1885.38 259.335 1882.21 262.969 Q1879.04 266.58 1873.48 266.58 Q1867.91 266.58 1864.73 262.969 Q1861.59 259.335 1861.59 252.969 Q1861.59 246.58 1864.73 242.969 Q1867.91 239.358 1873.48 239.358 Z\" fill=\"#000000\" fill-rule=\"nonzero\" fill-opacity=\"1\" /><path clip-path=\"url(#clip160)\" d=\"M1913.99 250.261 L1913.99 265.909 L1909.73 265.909 L1909.73 250.399 Q1909.73 246.719 1908.3 244.89 Q1906.86 243.062 1903.99 243.062 Q1900.54 243.062 1898.55 245.261 Q1896.56 247.46 1896.56 251.256 L1896.56 265.909 L1892.28 265.909 L1892.28 239.983 L1896.56 239.983 L1896.56 244.011 Q1898.09 241.673 1900.15 240.515 Q1902.23 239.358 1904.94 239.358 Q1909.41 239.358 1911.7 242.136 Q1913.99 244.89 1913.99 250.261 Z\" fill=\"#000000\" fill-rule=\"nonzero\" fill-opacity=\"1\" /><path clip-path=\"url(#clip160)\" d=\"M1939.02 240.747 L1939.02 244.774 Q1937.21 243.849 1935.27 243.386 Q1933.32 242.923 1931.24 242.923 Q1928.07 242.923 1926.47 243.895 Q1924.9 244.867 1924.9 246.811 Q1924.9 248.293 1926.03 249.149 Q1927.16 249.983 1930.59 250.747 L1932.05 251.071 Q1936.59 252.043 1938.48 253.825 Q1940.41 255.585 1940.41 258.756 Q1940.41 262.367 1937.54 264.473 Q1934.69 266.58 1929.69 266.58 Q1927.6 266.58 1925.34 266.163 Q1923.09 265.77 1920.59 264.96 L1920.59 260.561 Q1922.95 261.788 1925.24 262.413 Q1927.54 263.015 1929.78 263.015 Q1932.79 263.015 1934.41 261.997 Q1936.03 260.955 1936.03 259.08 Q1936.03 257.344 1934.85 256.418 Q1933.69 255.492 1929.73 254.636 L1928.25 254.288 Q1924.29 253.455 1922.54 251.742 Q1920.78 250.006 1920.78 246.997 Q1920.78 243.339 1923.37 241.349 Q1925.96 239.358 1930.73 239.358 Q1933.09 239.358 1935.17 239.705 Q1937.26 240.052 1939.02 240.747 Z\" fill=\"#000000\" fill-rule=\"nonzero\" fill-opacity=\"1\" /><path clip-path=\"url(#clip160)\" d=\"M1946.75 255.677 L1946.75 239.983 L1951.01 239.983 L1951.01 255.515 Q1951.01 259.196 1952.44 261.048 Q1953.88 262.876 1956.75 262.876 Q1960.2 262.876 1962.19 260.677 Q1964.2 258.478 1964.2 254.682 L1964.2 239.983 L1968.46 239.983 L1968.46 265.909 L1964.2 265.909 L1964.2 261.927 Q1962.65 264.288 1960.59 265.446 Q1958.55 266.58 1955.85 266.58 Q1951.38 266.58 1949.06 263.802 Q1946.75 261.024 1946.75 255.677 M1957.47 239.358 L1957.47 239.358 Z\" fill=\"#000000\" fill-rule=\"nonzero\" fill-opacity=\"1\" /><path clip-path=\"url(#clip160)\" d=\"M1997.42 244.96 Q1999.02 242.089 2001.24 240.724 Q2003.46 239.358 2006.47 239.358 Q2010.52 239.358 2012.72 242.205 Q2014.92 245.029 2014.92 250.261 L2014.92 265.909 L2010.64 265.909 L2010.64 250.399 Q2010.64 246.673 2009.32 244.867 Q2008 243.062 2005.29 243.062 Q2001.98 243.062 2000.06 245.261 Q1998.14 247.46 1998.14 251.256 L1998.14 265.909 L1993.85 265.909 L1993.85 250.399 Q1993.85 246.649 1992.53 244.867 Q1991.22 243.062 1988.46 243.062 Q1985.2 243.062 1983.28 245.284 Q1981.35 247.483 1981.35 251.256 L1981.35 265.909 L1977.07 265.909 L1977.07 239.983 L1981.35 239.983 L1981.35 244.011 Q1982.81 241.626 1984.85 240.492 Q1986.89 239.358 1989.69 239.358 Q1992.51 239.358 1994.48 240.793 Q1996.47 242.228 1997.42 244.96 Z\" fill=\"#000000\" fill-rule=\"nonzero\" fill-opacity=\"1\" /><path clip-path=\"url(#clip160)\" d=\"M2045.59 251.881 L2045.59 253.964 L2026.01 253.964 Q2026.28 258.362 2028.65 260.677 Q2031.03 262.969 2035.27 262.969 Q2037.72 262.969 2040.01 262.367 Q2042.33 261.765 2044.59 260.561 L2044.59 264.589 Q2042.3 265.561 2039.9 266.071 Q2037.49 266.58 2035.01 266.58 Q2028.81 266.58 2025.17 262.969 Q2021.56 259.358 2021.56 253.2 Q2021.56 246.835 2024.99 243.108 Q2028.44 239.358 2034.27 239.358 Q2039.5 239.358 2042.53 242.737 Q2045.59 246.094 2045.59 251.881 M2041.33 250.631 Q2041.28 247.136 2039.36 245.052 Q2037.47 242.969 2034.32 242.969 Q2030.75 242.969 2028.6 244.983 Q2026.47 246.997 2026.15 250.654 L2041.33 250.631 Z\" fill=\"#000000\" fill-rule=\"nonzero\" fill-opacity=\"1\" /><path clip-path=\"url(#clip160)\" d=\"M2067.6 243.964 Q2066.89 243.548 2066.03 243.362 Q2065.2 243.154 2064.18 243.154 Q2060.57 243.154 2058.62 245.515 Q2056.7 247.853 2056.7 252.251 L2056.7 265.909 L2052.42 265.909 L2052.42 239.983 L2056.7 239.983 L2056.7 244.011 Q2058.04 241.649 2060.2 240.515 Q2062.35 239.358 2065.43 239.358 Q2065.87 239.358 2066.4 239.427 Q2066.93 239.474 2067.58 239.589 L2067.6 243.964 Z\" fill=\"#000000\" fill-rule=\"nonzero\" fill-opacity=\"1\" /><path clip-path=\"url(#clip160)\" d=\"M2108.04 232.483 L2108.04 237.043 Q2105.38 235.77 2103.02 235.145 Q2100.66 234.52 2098.46 234.52 Q2094.64 234.52 2092.56 236.001 Q2090.5 237.483 2090.5 240.214 Q2090.5 242.506 2091.86 243.687 Q2093.25 244.844 2097.09 245.562 L2099.92 246.14 Q2105.15 247.136 2107.63 249.659 Q2110.13 252.159 2110.13 256.372 Q2110.13 261.395 2106.75 263.987 Q2103.39 266.58 2096.89 266.58 Q2094.43 266.58 2091.65 266.024 Q2088.9 265.469 2085.94 264.381 L2085.94 259.566 Q2088.78 261.163 2091.52 261.973 Q2094.25 262.784 2096.89 262.784 Q2100.89 262.784 2103.07 261.21 Q2105.24 259.636 2105.24 256.719 Q2105.24 254.173 2103.67 252.737 Q2102.12 251.302 2098.55 250.585 L2095.71 250.029 Q2090.47 248.987 2088.14 246.765 Q2085.8 244.543 2085.8 240.585 Q2085.8 236.001 2089.02 233.362 Q2092.26 230.724 2097.93 230.724 Q2100.36 230.724 2102.88 231.163 Q2105.4 231.603 2108.04 232.483 Z\" fill=\"#000000\" fill-rule=\"nonzero\" fill-opacity=\"1\" /><path clip-path=\"url(#clip160)\" d=\"M2116.79 255.677 L2116.79 239.983 L2121.05 239.983 L2121.05 255.515 Q2121.05 259.196 2122.49 261.048 Q2123.92 262.876 2126.79 262.876 Q2130.24 262.876 2132.23 260.677 Q2134.25 258.478 2134.25 254.682 L2134.25 239.983 L2138.51 239.983 L2138.51 265.909 L2134.25 265.909 L2134.25 261.927 Q2132.7 264.288 2130.64 265.446 Q2128.6 266.58 2125.89 266.58 Q2121.42 266.58 2119.11 263.802 Q2116.79 261.024 2116.79 255.677 M2127.51 239.358 L2127.51 239.358 Z\" fill=\"#000000\" fill-rule=\"nonzero\" fill-opacity=\"1\" /><path clip-path=\"url(#clip160)\" d=\"M2162.3 243.964 Q2161.58 243.548 2160.73 243.362 Q2159.89 243.154 2158.88 243.154 Q2155.27 243.154 2153.32 245.515 Q2151.4 247.853 2151.4 252.251 L2151.4 265.909 L2147.12 265.909 L2147.12 239.983 L2151.4 239.983 L2151.4 244.011 Q2152.74 241.649 2154.89 240.515 Q2157.05 239.358 2160.13 239.358 Q2160.57 239.358 2161.1 239.427 Q2161.63 239.474 2162.28 239.589 L2162.3 243.964 Z\" fill=\"#000000\" fill-rule=\"nonzero\" fill-opacity=\"1\" /><path clip-path=\"url(#clip160)\" d=\"M2170.89 262.02 L2170.89 275.77 L2166.61 275.77 L2166.61 239.983 L2170.89 239.983 L2170.89 243.918 Q2172.23 241.603 2174.27 240.492 Q2176.33 239.358 2179.18 239.358 Q2183.9 239.358 2186.84 243.108 Q2189.8 246.858 2189.8 252.969 Q2189.8 259.08 2186.84 262.83 Q2183.9 266.58 2179.18 266.58 Q2176.33 266.58 2174.27 265.469 Q2172.23 264.335 2170.89 262.02 M2185.38 252.969 Q2185.38 248.27 2183.44 245.608 Q2181.52 242.923 2178.14 242.923 Q2174.76 242.923 2172.81 245.608 Q2170.89 248.27 2170.89 252.969 Q2170.89 257.668 2172.81 260.353 Q2174.76 263.015 2178.14 263.015 Q2181.52 263.015 2183.44 260.353 Q2185.38 257.668 2185.38 252.969 Z\" fill=\"#000000\" fill-rule=\"nonzero\" fill-opacity=\"1\" /><path clip-path=\"url(#clip160)\" d=\"M2196.86 229.89 L2201.12 229.89 L2201.12 265.909 L2196.86 265.909 L2196.86 229.89 Z\" fill=\"#000000\" fill-rule=\"nonzero\" fill-opacity=\"1\" /><path clip-path=\"url(#clip160)\" d=\"M2209.59 255.677 L2209.59 239.983 L2213.85 239.983 L2213.85 255.515 Q2213.85 259.196 2215.29 261.048 Q2216.72 262.876 2219.59 262.876 Q2223.04 262.876 2225.03 260.677 Q2227.05 258.478 2227.05 254.682 L2227.05 239.983 L2231.31 239.983 L2231.31 265.909 L2227.05 265.909 L2227.05 261.927 Q2225.5 264.288 2223.44 265.446 Q2221.4 266.58 2218.69 266.58 Q2214.22 266.58 2211.91 263.802 Q2209.59 261.024 2209.59 255.677 M2220.31 239.358 L2220.31 239.358 Z\" fill=\"#000000\" fill-rule=\"nonzero\" fill-opacity=\"1\" /><path clip-path=\"url(#clip160)\" d=\"M2256.61 240.747 L2256.61 244.774 Q2254.8 243.849 2252.86 243.386 Q2250.91 242.923 2248.83 242.923 Q2245.66 242.923 2244.06 243.895 Q2242.49 244.867 2242.49 246.811 Q2242.49 248.293 2243.62 249.149 Q2244.76 249.983 2248.18 250.747 L2249.64 251.071 Q2254.18 252.043 2256.08 253.825 Q2258 255.585 2258 258.756 Q2258 262.367 2255.13 264.473 Q2252.28 266.58 2247.28 266.58 Q2245.2 266.58 2242.93 266.163 Q2240.68 265.77 2238.18 264.96 L2238.18 260.561 Q2240.54 261.788 2242.83 262.413 Q2245.13 263.015 2247.37 263.015 Q2250.38 263.015 2252 261.997 Q2253.62 260.955 2253.62 259.08 Q2253.62 257.344 2252.44 256.418 Q2251.28 255.492 2247.33 254.636 L2245.84 254.288 Q2241.89 253.455 2240.13 251.742 Q2238.37 250.006 2238.37 246.997 Q2238.37 243.339 2240.96 241.349 Q2243.55 239.358 2248.32 239.358 Q2250.68 239.358 2252.76 239.705 Q2254.85 240.052 2256.61 240.747 Z\" fill=\"#000000\" fill-rule=\"nonzero\" fill-opacity=\"1\" /></svg>\n"
      ],
      "text/html": [
       "<?xml version=\"1.0\" encoding=\"utf-8\"?>\n",
       "<svg xmlns=\"http://www.w3.org/2000/svg\" xmlns:xlink=\"http://www.w3.org/1999/xlink\" width=\"600\" height=\"400\" viewBox=\"0 0 2400 1600\">\n",
       "<defs>\n",
       "  <clipPath id=\"clip210\">\n",
       "    <rect x=\"0\" y=\"0\" width=\"2400\" height=\"1600\"/>\n",
       "  </clipPath>\n",
       "</defs>\n",
       "<path clip-path=\"url(#clip210)\" d=\"M0 1600 L2400 1600 L2400 8.88178e-14 L0 8.88178e-14  Z\" fill=\"#ffffff\" fill-rule=\"evenodd\" fill-opacity=\"1\"/>\n",
       "<defs>\n",
       "  <clipPath id=\"clip211\">\n",
       "    <rect x=\"480\" y=\"0\" width=\"1681\" height=\"1600\"/>\n",
       "  </clipPath>\n",
       "</defs>\n",
       "<path clip-path=\"url(#clip210)\" d=\"M257.69 1423.18 L1572.47 1423.18 L1572.47 47.2441 L257.69 47.2441  Z\" fill=\"#ffffff\" fill-rule=\"evenodd\" fill-opacity=\"1\"/>\n",
       "<defs>\n",
       "  <clipPath id=\"clip212\">\n",
       "    <rect x=\"257\" y=\"47\" width=\"1316\" height=\"1377\"/>\n",
       "  </clipPath>\n",
       "</defs>\n",
       "<polyline clip-path=\"url(#clip212)\" style=\"stroke:#000000; stroke-linecap:round; stroke-linejoin:round; stroke-width:2; stroke-opacity:0.1; fill:none\" points=\"432.718,1423.18 432.718,47.2441 \"/>\n",
       "<polyline clip-path=\"url(#clip212)\" style=\"stroke:#000000; stroke-linecap:round; stroke-linejoin:round; stroke-width:2; stroke-opacity:0.1; fill:none\" points=\"708.353,1423.18 708.353,47.2441 \"/>\n",
       "<polyline clip-path=\"url(#clip212)\" style=\"stroke:#000000; stroke-linecap:round; stroke-linejoin:round; stroke-width:2; stroke-opacity:0.1; fill:none\" points=\"983.987,1423.18 983.987,47.2441 \"/>\n",
       "<polyline clip-path=\"url(#clip212)\" style=\"stroke:#000000; stroke-linecap:round; stroke-linejoin:round; stroke-width:2; stroke-opacity:0.1; fill:none\" points=\"1259.62,1423.18 1259.62,47.2441 \"/>\n",
       "<polyline clip-path=\"url(#clip212)\" style=\"stroke:#000000; stroke-linecap:round; stroke-linejoin:round; stroke-width:2; stroke-opacity:0.1; fill:none\" points=\"1535.26,1423.18 1535.26,47.2441 \"/>\n",
       "<polyline clip-path=\"url(#clip212)\" style=\"stroke:#000000; stroke-linecap:round; stroke-linejoin:round; stroke-width:2; stroke-opacity:0.1; fill:none\" points=\"257.69,1269.23 1572.47,1269.23 \"/>\n",
       "<polyline clip-path=\"url(#clip212)\" style=\"stroke:#000000; stroke-linecap:round; stroke-linejoin:round; stroke-width:2; stroke-opacity:0.1; fill:none\" points=\"257.69,932.507 1572.47,932.507 \"/>\n",
       "<polyline clip-path=\"url(#clip212)\" style=\"stroke:#000000; stroke-linecap:round; stroke-linejoin:round; stroke-width:2; stroke-opacity:0.1; fill:none\" points=\"257.69,595.78 1572.47,595.78 \"/>\n",
       "<polyline clip-path=\"url(#clip212)\" style=\"stroke:#000000; stroke-linecap:round; stroke-linejoin:round; stroke-width:2; stroke-opacity:0.1; fill:none\" points=\"257.69,259.053 1572.47,259.053 \"/>\n",
       "<polyline clip-path=\"url(#clip210)\" style=\"stroke:#000000; stroke-linecap:round; stroke-linejoin:round; stroke-width:4; stroke-opacity:1; fill:none\" points=\"257.69,1423.18 1572.47,1423.18 \"/>\n",
       "<polyline clip-path=\"url(#clip210)\" style=\"stroke:#000000; stroke-linecap:round; stroke-linejoin:round; stroke-width:4; stroke-opacity:1; fill:none\" points=\"432.718,1423.18 432.718,1404.28 \"/>\n",
       "<polyline clip-path=\"url(#clip210)\" style=\"stroke:#000000; stroke-linecap:round; stroke-linejoin:round; stroke-width:4; stroke-opacity:1; fill:none\" points=\"708.353,1423.18 708.353,1404.28 \"/>\n",
       "<polyline clip-path=\"url(#clip210)\" style=\"stroke:#000000; stroke-linecap:round; stroke-linejoin:round; stroke-width:4; stroke-opacity:1; fill:none\" points=\"983.987,1423.18 983.987,1404.28 \"/>\n",
       "<polyline clip-path=\"url(#clip210)\" style=\"stroke:#000000; stroke-linecap:round; stroke-linejoin:round; stroke-width:4; stroke-opacity:1; fill:none\" points=\"1259.62,1423.18 1259.62,1404.28 \"/>\n",
       "<polyline clip-path=\"url(#clip210)\" style=\"stroke:#000000; stroke-linecap:round; stroke-linejoin:round; stroke-width:4; stroke-opacity:1; fill:none\" points=\"1535.26,1423.18 1535.26,1404.28 \"/>\n",
       "<path clip-path=\"url(#clip210)\" d=\"M410.901 1454.1 Q407.29 1454.1 405.461 1457.66 Q403.656 1461.2 403.656 1468.33 Q403.656 1475.44 405.461 1479.01 Q407.29 1482.55 410.901 1482.55 Q414.535 1482.55 416.341 1479.01 Q418.17 1475.44 418.17 1468.33 Q418.17 1461.2 416.341 1457.66 Q414.535 1454.1 410.901 1454.1 M410.901 1450.39 Q416.711 1450.39 419.767 1455 Q422.846 1459.58 422.846 1468.33 Q422.846 1477.06 419.767 1481.67 Q416.711 1486.25 410.901 1486.25 Q405.091 1486.25 402.012 1481.67 Q398.957 1477.06 398.957 1468.33 Q398.957 1459.58 402.012 1455 Q405.091 1450.39 410.901 1450.39 Z\" fill=\"#000000\" fill-rule=\"nonzero\" fill-opacity=\"1\" /><path clip-path=\"url(#clip210)\" d=\"M431.063 1479.7 L435.947 1479.7 L435.947 1485.58 L431.063 1485.58 L431.063 1479.7 Z\" fill=\"#000000\" fill-rule=\"nonzero\" fill-opacity=\"1\" /><path clip-path=\"url(#clip210)\" d=\"M450.16 1481.64 L466.48 1481.64 L466.48 1485.58 L444.535 1485.58 L444.535 1481.64 Q447.197 1478.89 451.781 1474.26 Q456.387 1469.61 457.568 1468.27 Q459.813 1465.74 460.693 1464.01 Q461.595 1462.25 461.595 1460.56 Q461.595 1457.8 459.651 1456.07 Q457.73 1454.33 454.628 1454.33 Q452.429 1454.33 449.975 1455.09 Q447.544 1455.86 444.767 1457.41 L444.767 1452.69 Q447.591 1451.55 450.044 1450.97 Q452.498 1450.39 454.535 1450.39 Q459.905 1450.39 463.1 1453.08 Q466.294 1455.77 466.294 1460.26 Q466.294 1462.39 465.484 1464.31 Q464.697 1466.2 462.591 1468.8 Q462.012 1469.47 458.91 1472.69 Q455.808 1475.88 450.16 1481.64 Z\" fill=\"#000000\" fill-rule=\"nonzero\" fill-opacity=\"1\" /><path clip-path=\"url(#clip210)\" d=\"M685.494 1454.1 Q681.883 1454.1 680.054 1457.66 Q678.249 1461.2 678.249 1468.33 Q678.249 1475.44 680.054 1479.01 Q681.883 1482.55 685.494 1482.55 Q689.128 1482.55 690.934 1479.01 Q692.763 1475.44 692.763 1468.33 Q692.763 1461.2 690.934 1457.66 Q689.128 1454.1 685.494 1454.1 M685.494 1450.39 Q691.304 1450.39 694.36 1455 Q697.438 1459.58 697.438 1468.33 Q697.438 1477.06 694.36 1481.67 Q691.304 1486.25 685.494 1486.25 Q679.684 1486.25 676.605 1481.67 Q673.55 1477.06 673.55 1468.33 Q673.55 1459.58 676.605 1455 Q679.684 1450.39 685.494 1450.39 Z\" fill=\"#000000\" fill-rule=\"nonzero\" fill-opacity=\"1\" /><path clip-path=\"url(#clip210)\" d=\"M705.656 1479.7 L710.54 1479.7 L710.54 1485.58 L705.656 1485.58 L705.656 1479.7 Z\" fill=\"#000000\" fill-rule=\"nonzero\" fill-opacity=\"1\" /><path clip-path=\"url(#clip210)\" d=\"M733.573 1455.09 L721.767 1473.54 L733.573 1473.54 L733.573 1455.09 M732.346 1451.02 L738.225 1451.02 L738.225 1473.54 L743.156 1473.54 L743.156 1477.43 L738.225 1477.43 L738.225 1485.58 L733.573 1485.58 L733.573 1477.43 L717.971 1477.43 L717.971 1472.92 L732.346 1451.02 Z\" fill=\"#000000\" fill-rule=\"nonzero\" fill-opacity=\"1\" /><path clip-path=\"url(#clip210)\" d=\"M961.291 1454.1 Q957.68 1454.1 955.851 1457.66 Q954.045 1461.2 954.045 1468.33 Q954.045 1475.44 955.851 1479.01 Q957.68 1482.55 961.291 1482.55 Q964.925 1482.55 966.731 1479.01 Q968.559 1475.44 968.559 1468.33 Q968.559 1461.2 966.731 1457.66 Q964.925 1454.1 961.291 1454.1 M961.291 1450.39 Q967.101 1450.39 970.156 1455 Q973.235 1459.58 973.235 1468.33 Q973.235 1477.06 970.156 1481.67 Q967.101 1486.25 961.291 1486.25 Q955.481 1486.25 952.402 1481.67 Q949.346 1477.06 949.346 1468.33 Q949.346 1459.58 952.402 1455 Q955.481 1450.39 961.291 1450.39 Z\" fill=\"#000000\" fill-rule=\"nonzero\" fill-opacity=\"1\" /><path clip-path=\"url(#clip210)\" d=\"M981.453 1479.7 L986.337 1479.7 L986.337 1485.58 L981.453 1485.58 L981.453 1479.7 Z\" fill=\"#000000\" fill-rule=\"nonzero\" fill-opacity=\"1\" /><path clip-path=\"url(#clip210)\" d=\"M1007.1 1466.44 Q1003.95 1466.44 1002.1 1468.59 Q1000.27 1470.74 1000.27 1474.49 Q1000.27 1478.22 1002.1 1480.39 Q1003.95 1482.55 1007.1 1482.55 Q1010.25 1482.55 1012.08 1480.39 Q1013.93 1478.22 1013.93 1474.49 Q1013.93 1470.74 1012.08 1468.59 Q1010.25 1466.44 1007.1 1466.44 M1016.38 1451.78 L1016.38 1456.04 Q1014.62 1455.21 1012.82 1454.77 Q1011.04 1454.33 1009.28 1454.33 Q1004.65 1454.33 1002.19 1457.45 Q999.763 1460.58 999.416 1466.9 Q1000.78 1464.89 1002.84 1463.82 Q1004.9 1462.73 1007.38 1462.73 Q1012.59 1462.73 1015.6 1465.9 Q1018.63 1469.05 1018.63 1474.49 Q1018.63 1479.82 1015.48 1483.03 Q1012.33 1486.25 1007.1 1486.25 Q1001.11 1486.25 997.934 1481.67 Q994.763 1477.06 994.763 1468.33 Q994.763 1460.14 998.652 1455.28 Q1002.54 1450.39 1009.09 1450.39 Q1010.85 1450.39 1012.63 1450.74 Q1014.44 1451.09 1016.38 1451.78 Z\" fill=\"#000000\" fill-rule=\"nonzero\" fill-opacity=\"1\" /><path clip-path=\"url(#clip210)\" d=\"M1237.05 1454.1 Q1233.44 1454.1 1231.61 1457.66 Q1229.81 1461.2 1229.81 1468.33 Q1229.81 1475.44 1231.61 1479.01 Q1233.44 1482.55 1237.05 1482.55 Q1240.69 1482.55 1242.49 1479.01 Q1244.32 1475.44 1244.32 1468.33 Q1244.32 1461.2 1242.49 1457.66 Q1240.69 1454.1 1237.05 1454.1 M1237.05 1450.39 Q1242.86 1450.39 1245.92 1455 Q1249 1459.58 1249 1468.33 Q1249 1477.06 1245.92 1481.67 Q1242.86 1486.25 1237.05 1486.25 Q1231.24 1486.25 1228.16 1481.67 Q1225.11 1477.06 1225.11 1468.33 Q1225.11 1459.58 1228.16 1455 Q1231.24 1450.39 1237.05 1450.39 Z\" fill=\"#000000\" fill-rule=\"nonzero\" fill-opacity=\"1\" /><path clip-path=\"url(#clip210)\" d=\"M1257.21 1479.7 L1262.1 1479.7 L1262.1 1485.58 L1257.21 1485.58 L1257.21 1479.7 Z\" fill=\"#000000\" fill-rule=\"nonzero\" fill-opacity=\"1\" /><path clip-path=\"url(#clip210)\" d=\"M1282.28 1469.17 Q1278.95 1469.17 1277.03 1470.95 Q1275.13 1472.73 1275.13 1475.86 Q1275.13 1478.98 1277.03 1480.77 Q1278.95 1482.55 1282.28 1482.55 Q1285.62 1482.55 1287.54 1480.77 Q1289.46 1478.96 1289.46 1475.86 Q1289.46 1472.73 1287.54 1470.95 Q1285.64 1469.17 1282.28 1469.17 M1277.61 1467.18 Q1274.6 1466.44 1272.91 1464.38 Q1271.24 1462.32 1271.24 1459.35 Q1271.24 1455.21 1274.18 1452.8 Q1277.15 1450.39 1282.28 1450.39 Q1287.45 1450.39 1290.39 1452.8 Q1293.33 1455.21 1293.33 1459.35 Q1293.33 1462.32 1291.64 1464.38 Q1289.97 1466.44 1286.98 1467.18 Q1290.36 1467.96 1292.24 1470.26 Q1294.14 1472.55 1294.14 1475.86 Q1294.14 1480.88 1291.06 1483.57 Q1288 1486.25 1282.28 1486.25 Q1276.57 1486.25 1273.49 1483.57 Q1270.43 1480.88 1270.43 1475.86 Q1270.43 1472.55 1272.33 1470.26 Q1274.23 1467.96 1277.61 1467.18 M1275.9 1459.79 Q1275.9 1462.48 1277.56 1463.98 Q1279.25 1465.49 1282.28 1465.49 Q1285.29 1465.49 1286.98 1463.98 Q1288.7 1462.48 1288.7 1459.79 Q1288.7 1457.11 1286.98 1455.6 Q1285.29 1454.1 1282.28 1454.1 Q1279.25 1454.1 1277.56 1455.6 Q1275.9 1457.11 1275.9 1459.79 Z\" fill=\"#000000\" fill-rule=\"nonzero\" fill-opacity=\"1\" /><path clip-path=\"url(#clip210)\" d=\"M1502.41 1481.64 L1510.05 1481.64 L1510.05 1455.28 L1501.74 1456.95 L1501.74 1452.69 L1510 1451.02 L1514.68 1451.02 L1514.68 1481.64 L1522.32 1481.64 L1522.32 1485.58 L1502.41 1485.58 L1502.41 1481.64 Z\" fill=\"#000000\" fill-rule=\"nonzero\" fill-opacity=\"1\" /><path clip-path=\"url(#clip210)\" d=\"M1531.76 1479.7 L1536.65 1479.7 L1536.65 1485.58 L1531.76 1485.58 L1531.76 1479.7 Z\" fill=\"#000000\" fill-rule=\"nonzero\" fill-opacity=\"1\" /><path clip-path=\"url(#clip210)\" d=\"M1556.83 1454.1 Q1553.22 1454.1 1551.39 1457.66 Q1549.59 1461.2 1549.59 1468.33 Q1549.59 1475.44 1551.39 1479.01 Q1553.22 1482.55 1556.83 1482.55 Q1560.46 1482.55 1562.27 1479.01 Q1564.1 1475.44 1564.1 1468.33 Q1564.1 1461.2 1562.27 1457.66 Q1560.46 1454.1 1556.83 1454.1 M1556.83 1450.39 Q1562.64 1450.39 1565.7 1455 Q1568.78 1459.58 1568.78 1468.33 Q1568.78 1477.06 1565.7 1481.67 Q1562.64 1486.25 1556.83 1486.25 Q1551.02 1486.25 1547.94 1481.67 Q1544.89 1477.06 1544.89 1468.33 Q1544.89 1459.58 1547.94 1455 Q1551.02 1450.39 1556.83 1450.39 Z\" fill=\"#000000\" fill-rule=\"nonzero\" fill-opacity=\"1\" /><path clip-path=\"url(#clip210)\" d=\"M777.85 1520.52 L818.049 1520.52 L818.049 1525.93 L801.18 1525.93 L801.18 1568.04 L794.719 1568.04 L794.719 1525.93 L777.85 1525.93 L777.85 1520.52 Z\" fill=\"#000000\" fill-rule=\"nonzero\" fill-opacity=\"1\" /><path clip-path=\"url(#clip210)\" d=\"M829.412 1550.12 Q822.315 1550.12 819.577 1551.75 Q816.84 1553.37 816.84 1557.29 Q816.84 1560.4 818.877 1562.25 Q820.946 1564.07 824.479 1564.07 Q829.349 1564.07 832.277 1560.63 Q835.237 1557.16 835.237 1551.43 L835.237 1550.12 L829.412 1550.12 M841.093 1547.71 L841.093 1568.04 L835.237 1568.04 L835.237 1562.63 Q833.232 1565.88 830.24 1567.44 Q827.248 1568.97 822.919 1568.97 Q817.445 1568.97 814.198 1565.91 Q810.984 1562.82 810.984 1557.67 Q810.984 1551.65 814.994 1548.6 Q819.036 1545.54 827.025 1545.54 L835.237 1545.54 L835.237 1544.97 Q835.237 1540.93 832.563 1538.73 Q829.922 1536.5 825.115 1536.5 Q822.06 1536.5 819.163 1537.23 Q816.267 1537.97 813.593 1539.43 L813.593 1534.02 Q816.808 1532.78 819.832 1532.17 Q822.856 1531.54 825.72 1531.54 Q833.455 1531.54 837.274 1535.55 Q841.093 1539.56 841.093 1547.71 Z\" fill=\"#000000\" fill-rule=\"nonzero\" fill-opacity=\"1\" /><path clip-path=\"url(#clip210)\" d=\"M882.789 1532.4 L869.898 1549.74 L883.457 1568.04 L876.55 1568.04 L866.174 1554.04 L855.798 1568.04 L848.891 1568.04 L862.737 1549.39 L850.069 1532.4 L856.976 1532.4 L866.429 1545.1 L875.882 1532.4 L882.789 1532.4 Z\" fill=\"#000000\" fill-rule=\"nonzero\" fill-opacity=\"1\" /><path clip-path=\"url(#clip210)\" d=\"M935.242 1545.76 Q937.311 1546.46 939.253 1548.76 Q941.226 1551.05 943.199 1555.06 L949.724 1568.04 L942.817 1568.04 L936.738 1555.85 Q934.383 1551.08 932.155 1549.52 Q929.959 1547.96 926.139 1547.96 L919.137 1547.96 L919.137 1568.04 L912.708 1568.04 L912.708 1520.52 L927.221 1520.52 Q935.369 1520.52 939.38 1523.93 Q943.39 1527.34 943.39 1534.21 Q943.39 1538.7 941.29 1541.66 Q939.221 1544.62 935.242 1545.76 M919.137 1525.81 L919.137 1542.68 L927.221 1542.68 Q931.868 1542.68 934.224 1540.54 Q936.611 1538.38 936.611 1534.21 Q936.611 1530.04 934.224 1527.94 Q931.868 1525.81 927.221 1525.81 L919.137 1525.81 Z\" fill=\"#000000\" fill-rule=\"nonzero\" fill-opacity=\"1\" /><path clip-path=\"url(#clip210)\" d=\"M972.513 1550.12 Q965.416 1550.12 962.678 1551.75 Q959.941 1553.37 959.941 1557.29 Q959.941 1560.4 961.978 1562.25 Q964.047 1564.07 967.58 1564.07 Q972.45 1564.07 975.378 1560.63 Q978.338 1557.16 978.338 1551.43 L978.338 1550.12 L972.513 1550.12 M984.194 1547.71 L984.194 1568.04 L978.338 1568.04 L978.338 1562.63 Q976.333 1565.88 973.341 1567.44 Q970.349 1568.97 966.02 1568.97 Q960.546 1568.97 957.299 1565.91 Q954.085 1562.82 954.085 1557.67 Q954.085 1551.65 958.095 1548.6 Q962.137 1545.54 970.126 1545.54 L978.338 1545.54 L978.338 1544.97 Q978.338 1540.93 975.664 1538.73 Q973.023 1536.5 968.217 1536.5 Q965.161 1536.5 962.265 1537.23 Q959.368 1537.97 956.695 1539.43 L956.695 1534.02 Q959.909 1532.78 962.933 1532.17 Q965.957 1531.54 968.821 1531.54 Q976.556 1531.54 980.375 1535.55 Q984.194 1539.56 984.194 1547.71 Z\" fill=\"#000000\" fill-rule=\"nonzero\" fill-opacity=\"1\" /><path clip-path=\"url(#clip210)\" d=\"M1002.05 1522.27 L1002.05 1532.4 L1014.11 1532.4 L1014.11 1536.95 L1002.05 1536.95 L1002.05 1556.3 Q1002.05 1560.66 1003.23 1561.9 Q1004.44 1563.14 1008.1 1563.14 L1014.11 1563.14 L1014.11 1568.04 L1008.1 1568.04 Q1001.32 1568.04 998.74 1565.53 Q996.162 1562.98 996.162 1556.3 L996.162 1536.95 L991.865 1536.95 L991.865 1532.4 L996.162 1532.4 L996.162 1522.27 L1002.05 1522.27 Z\" fill=\"#000000\" fill-rule=\"nonzero\" fill-opacity=\"1\" /><path clip-path=\"url(#clip210)\" d=\"M1052.31 1548.76 L1052.31 1551.62 L1025.38 1551.62 Q1025.76 1557.67 1029.01 1560.85 Q1032.29 1564 1038.11 1564 Q1041.49 1564 1044.64 1563.17 Q1047.82 1562.35 1050.94 1560.69 L1050.94 1566.23 Q1047.79 1567.57 1044.48 1568.27 Q1041.17 1568.97 1037.76 1568.97 Q1029.23 1568.97 1024.23 1564 Q1019.27 1559.04 1019.27 1550.57 Q1019.27 1541.82 1023.98 1536.69 Q1028.72 1531.54 1036.74 1531.54 Q1043.94 1531.54 1048.11 1536.18 Q1052.31 1540.8 1052.31 1548.76 M1046.45 1547.04 Q1046.39 1542.23 1043.75 1539.37 Q1041.14 1536.5 1036.81 1536.5 Q1031.91 1536.5 1028.95 1539.27 Q1026.02 1542.04 1025.57 1547.07 L1046.45 1547.04 Z\" fill=\"#000000\" fill-rule=\"nonzero\" fill-opacity=\"1\" /><polyline clip-path=\"url(#clip210)\" style=\"stroke:#000000; stroke-linecap:round; stroke-linejoin:round; stroke-width:4; stroke-opacity:1; fill:none\" points=\"257.69,1423.18 257.69,47.2441 \"/>\n",
       "<polyline clip-path=\"url(#clip210)\" style=\"stroke:#000000; stroke-linecap:round; stroke-linejoin:round; stroke-width:4; stroke-opacity:1; fill:none\" points=\"257.69,1269.23 269.55,1269.23 \"/>\n",
       "<polyline clip-path=\"url(#clip210)\" style=\"stroke:#000000; stroke-linecap:round; stroke-linejoin:round; stroke-width:4; stroke-opacity:1; fill:none\" points=\"257.69,932.507 269.55,932.507 \"/>\n",
       "<polyline clip-path=\"url(#clip210)\" style=\"stroke:#000000; stroke-linecap:round; stroke-linejoin:round; stroke-width:4; stroke-opacity:1; fill:none\" points=\"257.69,595.78 269.55,595.78 \"/>\n",
       "<polyline clip-path=\"url(#clip210)\" style=\"stroke:#000000; stroke-linecap:round; stroke-linejoin:round; stroke-width:4; stroke-opacity:1; fill:none\" points=\"257.69,259.053 269.55,259.053 \"/>\n",
       "<path clip-path=\"url(#clip210)\" d=\"M114.584 1269.69 L144.26 1269.69 L144.26 1273.62 L114.584 1273.62 L114.584 1269.69 Z\" fill=\"#000000\" fill-rule=\"nonzero\" fill-opacity=\"1\" /><path clip-path=\"url(#clip210)\" d=\"M164.352 1255.03 Q160.741 1255.03 158.913 1258.6 Q157.107 1262.14 157.107 1269.27 Q157.107 1276.38 158.913 1279.94 Q160.741 1283.48 164.352 1283.48 Q167.987 1283.48 169.792 1279.94 Q171.621 1276.38 171.621 1269.27 Q171.621 1262.14 169.792 1258.6 Q167.987 1255.03 164.352 1255.03 M164.352 1251.33 Q170.163 1251.33 173.218 1255.94 Q176.297 1260.52 176.297 1269.27 Q176.297 1278 173.218 1282.6 Q170.163 1287.19 164.352 1287.19 Q158.542 1287.19 155.464 1282.6 Q152.408 1278 152.408 1269.27 Q152.408 1260.52 155.464 1255.94 Q158.542 1251.33 164.352 1251.33 Z\" fill=\"#000000\" fill-rule=\"nonzero\" fill-opacity=\"1\" /><path clip-path=\"url(#clip210)\" d=\"M184.514 1280.63 L189.399 1280.63 L189.399 1286.51 L184.514 1286.51 L184.514 1280.63 Z\" fill=\"#000000\" fill-rule=\"nonzero\" fill-opacity=\"1\" /><path clip-path=\"url(#clip210)\" d=\"M210.162 1267.37 Q207.014 1267.37 205.162 1269.52 Q203.334 1271.68 203.334 1275.43 Q203.334 1279.15 205.162 1281.33 Q207.014 1283.48 210.162 1283.48 Q213.311 1283.48 215.139 1281.33 Q216.991 1279.15 216.991 1275.43 Q216.991 1271.68 215.139 1269.52 Q213.311 1267.37 210.162 1267.37 M219.445 1252.72 L219.445 1256.98 Q217.686 1256.14 215.88 1255.7 Q214.098 1255.26 212.338 1255.26 Q207.709 1255.26 205.255 1258.39 Q202.824 1261.51 202.477 1267.83 Q203.843 1265.82 205.903 1264.75 Q207.963 1263.67 210.44 1263.67 Q215.649 1263.67 218.658 1266.84 Q221.69 1269.99 221.69 1275.43 Q221.69 1280.75 218.542 1283.97 Q215.394 1287.19 210.162 1287.19 Q204.167 1287.19 200.996 1282.6 Q197.825 1278 197.825 1269.27 Q197.825 1261.07 201.713 1256.21 Q205.602 1251.33 212.153 1251.33 Q213.912 1251.33 215.695 1251.68 Q217.5 1252.02 219.445 1252.72 Z\" fill=\"#000000\" fill-rule=\"nonzero\" fill-opacity=\"1\" /><path clip-path=\"url(#clip210)\" d=\"M114.26 932.958 L143.936 932.958 L143.936 936.894 L114.26 936.894 L114.26 932.958 Z\" fill=\"#000000\" fill-rule=\"nonzero\" fill-opacity=\"1\" /><path clip-path=\"url(#clip210)\" d=\"M164.028 918.306 Q160.417 918.306 158.589 921.87 Q156.783 925.412 156.783 932.542 Q156.783 939.648 158.589 943.213 Q160.417 946.755 164.028 946.755 Q167.663 946.755 169.468 943.213 Q171.297 939.648 171.297 932.542 Q171.297 925.412 169.468 921.87 Q167.663 918.306 164.028 918.306 M164.028 914.602 Q169.839 914.602 172.894 919.208 Q175.973 923.792 175.973 932.542 Q175.973 941.268 172.894 945.875 Q169.839 950.458 164.028 950.458 Q158.218 950.458 155.14 945.875 Q152.084 941.268 152.084 932.542 Q152.084 923.792 155.14 919.208 Q158.218 914.602 164.028 914.602 Z\" fill=\"#000000\" fill-rule=\"nonzero\" fill-opacity=\"1\" /><path clip-path=\"url(#clip210)\" d=\"M184.19 943.907 L189.075 943.907 L189.075 949.787 L184.19 949.787 L184.19 943.907 Z\" fill=\"#000000\" fill-rule=\"nonzero\" fill-opacity=\"1\" /><path clip-path=\"url(#clip210)\" d=\"M212.107 919.301 L200.301 937.75 L212.107 937.75 L212.107 919.301 M210.88 915.227 L216.76 915.227 L216.76 937.75 L221.69 937.75 L221.69 941.639 L216.76 941.639 L216.76 949.787 L212.107 949.787 L212.107 941.639 L196.505 941.639 L196.505 937.125 L210.88 915.227 Z\" fill=\"#000000\" fill-rule=\"nonzero\" fill-opacity=\"1\" /><path clip-path=\"url(#clip210)\" d=\"M116.343 596.231 L146.019 596.231 L146.019 600.166 L116.343 600.166 L116.343 596.231 Z\" fill=\"#000000\" fill-rule=\"nonzero\" fill-opacity=\"1\" /><path clip-path=\"url(#clip210)\" d=\"M166.112 581.579 Q162.501 581.579 160.672 585.143 Q158.866 588.685 158.866 595.815 Q158.866 602.921 160.672 606.486 Q162.501 610.028 166.112 610.028 Q169.746 610.028 171.552 606.486 Q173.38 602.921 173.38 595.815 Q173.38 588.685 171.552 585.143 Q169.746 581.579 166.112 581.579 M166.112 577.875 Q171.922 577.875 174.977 582.481 Q178.056 587.065 178.056 595.815 Q178.056 604.541 174.977 609.148 Q171.922 613.731 166.112 613.731 Q160.302 613.731 157.223 609.148 Q154.167 604.541 154.167 595.815 Q154.167 587.065 157.223 582.481 Q160.302 577.875 166.112 577.875 Z\" fill=\"#000000\" fill-rule=\"nonzero\" fill-opacity=\"1\" /><path clip-path=\"url(#clip210)\" d=\"M186.274 607.18 L191.158 607.18 L191.158 613.06 L186.274 613.06 L186.274 607.18 Z\" fill=\"#000000\" fill-rule=\"nonzero\" fill-opacity=\"1\" /><path clip-path=\"url(#clip210)\" d=\"M205.371 609.125 L221.69 609.125 L221.69 613.06 L199.746 613.06 L199.746 609.125 Q202.408 606.37 206.991 601.741 Q211.598 597.088 212.778 595.745 Q215.024 593.222 215.903 591.486 Q216.806 589.727 216.806 588.037 Q216.806 585.282 214.861 583.546 Q212.94 581.81 209.838 581.81 Q207.639 581.81 205.186 582.574 Q202.755 583.338 199.977 584.889 L199.977 580.167 Q202.801 579.032 205.255 578.454 Q207.709 577.875 209.746 577.875 Q215.116 577.875 218.311 580.56 Q221.505 583.245 221.505 587.736 Q221.505 589.866 220.695 591.787 Q219.908 593.685 217.801 596.278 Q217.223 596.949 214.121 600.166 Q211.019 603.361 205.371 609.125 Z\" fill=\"#000000\" fill-rule=\"nonzero\" fill-opacity=\"1\" /><path clip-path=\"url(#clip210)\" d=\"M164.515 244.852 Q160.903 244.852 159.075 248.416 Q157.269 251.958 157.269 259.088 Q157.269 266.194 159.075 269.759 Q160.903 273.3 164.515 273.3 Q168.149 273.3 169.954 269.759 Q171.783 266.194 171.783 259.088 Q171.783 251.958 169.954 248.416 Q168.149 244.852 164.515 244.852 M164.515 241.148 Q170.325 241.148 173.38 245.754 Q176.459 250.338 176.459 259.088 Q176.459 267.814 173.38 272.421 Q170.325 277.004 164.515 277.004 Q158.704 277.004 155.626 272.421 Q152.57 267.814 152.57 259.088 Q152.57 250.338 155.626 245.754 Q158.704 241.148 164.515 241.148 Z\" fill=\"#000000\" fill-rule=\"nonzero\" fill-opacity=\"1\" /><path clip-path=\"url(#clip210)\" d=\"M184.676 270.453 L189.561 270.453 L189.561 276.333 L184.676 276.333 L184.676 270.453 Z\" fill=\"#000000\" fill-rule=\"nonzero\" fill-opacity=\"1\" /><path clip-path=\"url(#clip210)\" d=\"M209.746 244.852 Q206.135 244.852 204.306 248.416 Q202.5 251.958 202.5 259.088 Q202.5 266.194 204.306 269.759 Q206.135 273.3 209.746 273.3 Q213.38 273.3 215.186 269.759 Q217.014 266.194 217.014 259.088 Q217.014 251.958 215.186 248.416 Q213.38 244.852 209.746 244.852 M209.746 241.148 Q215.556 241.148 218.611 245.754 Q221.69 250.338 221.69 259.088 Q221.69 267.814 218.611 272.421 Q215.556 277.004 209.746 277.004 Q203.936 277.004 200.857 272.421 Q197.801 267.814 197.801 259.088 Q197.801 250.338 200.857 245.754 Q203.936 241.148 209.746 241.148 Z\" fill=\"#000000\" fill-rule=\"nonzero\" fill-opacity=\"1\" /><path clip-path=\"url(#clip210)\" d=\"M20.1444 1160.98 L26.9239 1160.98 Q23.9002 1164.23 22.4043 1167.92 Q20.9083 1171.58 20.9083 1175.72 Q20.9083 1183.87 25.9054 1188.2 Q30.8707 1192.52 40.2919 1192.52 Q49.6813 1192.52 54.6784 1188.2 Q59.6436 1183.87 59.6436 1175.72 Q59.6436 1171.58 58.1477 1167.92 Q56.6518 1164.23 53.6281 1160.98 L60.3439 1160.98 Q62.6355 1164.36 63.7814 1168.14 Q64.9272 1171.9 64.9272 1176.1 Q64.9272 1186.89 58.3387 1193.1 Q51.7183 1199.3 40.2919 1199.3 Q28.8336 1199.3 22.2451 1193.1 Q15.6248 1186.89 15.6248 1176.1 Q15.6248 1171.84 16.7706 1168.08 Q17.8846 1164.29 20.1444 1160.98 Z\" fill=\"#000000\" fill-rule=\"nonzero\" fill-opacity=\"1\" /><path clip-path=\"url(#clip210)\" d=\"M42.4881 1121.67 L64.0042 1121.67 L64.0042 1127.53 L42.679 1127.53 Q37.6183 1127.53 35.1038 1129.5 Q32.5894 1131.48 32.5894 1135.42 Q32.5894 1140.17 35.6131 1142.9 Q38.6368 1145.64 43.8567 1145.64 L64.0042 1145.64 L64.0042 1151.53 L14.479 1151.53 L14.479 1145.64 L33.8944 1145.64 Q30.6797 1143.54 29.0883 1140.71 Q27.4968 1137.84 27.4968 1134.12 Q27.4968 1127.98 31.3163 1124.83 Q35.1038 1121.67 42.4881 1121.67 Z\" fill=\"#000000\" fill-rule=\"nonzero\" fill-opacity=\"1\" /><path clip-path=\"url(#clip210)\" d=\"M46.0847 1093.79 Q46.0847 1100.89 47.7079 1103.63 Q49.3312 1106.36 53.2461 1106.36 Q56.3653 1106.36 58.2114 1104.33 Q60.0256 1102.26 60.0256 1098.73 Q60.0256 1093.86 56.5881 1090.93 Q53.1188 1087.97 47.3897 1087.97 L46.0847 1087.97 L46.0847 1093.79 M43.6657 1082.11 L64.0042 1082.11 L64.0042 1087.97 L58.5933 1087.97 Q61.8398 1089.97 63.3994 1092.96 Q64.9272 1095.96 64.9272 1100.29 Q64.9272 1105.76 61.8716 1109.01 Q58.7843 1112.22 53.6281 1112.22 Q47.6125 1112.22 44.5569 1108.21 Q41.5014 1104.17 41.5014 1096.18 L41.5014 1087.97 L40.9285 1087.97 Q36.8862 1087.97 34.6901 1090.64 Q32.4621 1093.28 32.4621 1098.09 Q32.4621 1101.14 33.1941 1104.04 Q33.9262 1106.94 35.3903 1109.61 L29.9795 1109.61 Q28.7381 1106.4 28.1334 1103.37 Q27.4968 1100.35 27.4968 1097.48 Q27.4968 1089.75 31.5072 1085.93 Q35.5176 1082.11 43.6657 1082.11 Z\" fill=\"#000000\" fill-rule=\"nonzero\" fill-opacity=\"1\" /><path clip-path=\"url(#clip210)\" d=\"M42.4881 1040.42 L64.0042 1040.42 L64.0042 1046.27 L42.679 1046.27 Q37.6183 1046.27 35.1038 1048.25 Q32.5894 1050.22 32.5894 1054.17 Q32.5894 1058.91 35.6131 1061.65 Q38.6368 1064.38 43.8567 1064.38 L64.0042 1064.38 L64.0042 1070.27 L28.3562 1070.27 L28.3562 1064.38 L33.8944 1064.38 Q30.6797 1062.28 29.0883 1059.45 Q27.4968 1056.58 27.4968 1052.86 Q27.4968 1046.72 31.3163 1043.57 Q35.1038 1040.42 42.4881 1040.42 Z\" fill=\"#000000\" fill-rule=\"nonzero\" fill-opacity=\"1\" /><path clip-path=\"url(#clip210)\" d=\"M45.7664 1005.28 Q39.4007 1005.28 35.8996 1007.92 Q32.3984 1010.53 32.3984 1015.27 Q32.3984 1019.98 35.8996 1022.62 Q39.4007 1025.23 45.7664 1025.23 Q52.1003 1025.23 55.6014 1022.62 Q59.1026 1019.98 59.1026 1015.27 Q59.1026 1010.53 55.6014 1007.92 Q52.1003 1005.28 45.7664 1005.28 M59.58 999.421 Q68.683 999.421 73.1071 1003.46 Q77.5631 1007.51 77.5631 1015.84 Q77.5631 1018.93 77.0857 1021.67 Q76.6401 1024.41 75.6852 1026.98 L69.9879 1026.98 Q71.3884 1024.41 72.0568 1021.89 Q72.7252 1019.38 72.7252 1016.77 Q72.7252 1011.01 69.7015 1008.14 Q66.7096 1005.28 60.6303 1005.28 L57.7339 1005.28 Q60.885 1007.09 62.4446 1009.92 Q64.0042 1012.76 64.0042 1016.7 Q64.0042 1023.26 59.0071 1027.27 Q54.01 1031.28 45.7664 1031.28 Q37.491 1031.28 32.4939 1027.27 Q27.4968 1023.26 27.4968 1016.7 Q27.4968 1012.76 29.0564 1009.92 Q30.616 1007.09 33.7671 1005.28 L28.3562 1005.28 L28.3562 999.421 L59.58 999.421 Z\" fill=\"#000000\" fill-rule=\"nonzero\" fill-opacity=\"1\" /><path clip-path=\"url(#clip210)\" d=\"M44.7161 956.866 L47.5806 956.866 L47.5806 983.793 Q53.6281 983.411 56.8109 980.164 Q59.9619 976.886 59.9619 971.061 Q59.9619 967.688 59.1344 964.537 Q58.3069 961.354 56.6518 958.235 L62.1899 958.235 Q63.5267 961.386 64.227 964.696 Q64.9272 968.006 64.9272 971.412 Q64.9272 979.942 59.9619 984.939 Q54.9967 989.904 46.5303 989.904 Q37.7774 989.904 32.6531 985.193 Q27.4968 980.451 27.4968 972.43 Q27.4968 965.237 32.1438 961.067 Q36.7589 956.866 44.7161 956.866 M42.9973 962.722 Q38.1912 962.786 35.3266 965.428 Q32.4621 968.038 32.4621 972.366 Q32.4621 977.268 35.2312 980.228 Q38.0002 983.156 43.0292 983.602 L42.9973 962.722 Z\" fill=\"#000000\" fill-rule=\"nonzero\" fill-opacity=\"1\" /><path clip-path=\"url(#clip210)\" d=\"M14.5426 912.465 Q21.8632 916.73 29.0246 918.799 Q36.186 920.868 43.5384 920.868 Q50.8908 920.868 58.1159 918.799 Q65.3091 916.698 72.5979 912.465 L72.5979 917.558 Q65.1182 922.332 57.8931 924.719 Q50.668 927.074 43.5384 927.074 Q36.4406 927.074 29.2474 924.719 Q22.0542 922.364 14.5426 917.558 L14.5426 912.465 Z\" fill=\"#000000\" fill-rule=\"nonzero\" fill-opacity=\"1\" /><path clip-path=\"url(#clip210)\" d=\"M16.4842 900.848 L16.4842 870.802 L21.895 870.802 L21.895 894.418 L35.9632 894.418 L35.9632 871.788 L41.3741 871.788 L41.3741 894.418 L58.5933 894.418 L58.5933 870.229 L64.0042 870.229 L64.0042 900.848 L16.4842 900.848 Z\" fill=\"#000000\" fill-rule=\"nonzero\" fill-opacity=\"1\" /><path clip-path=\"url(#clip210)\" d=\"M16.4842 860.394 L16.4842 853.932 L45.3526 853.932 Q52.9915 853.932 56.3653 851.163 Q59.7073 848.394 59.7073 842.188 Q59.7073 836.013 56.3653 833.244 Q52.9915 830.475 45.3526 830.475 L16.4842 830.475 L16.4842 824.014 L46.1484 824.014 Q55.4423 824.014 60.1847 828.629 Q64.9272 833.212 64.9272 842.188 Q64.9272 851.195 60.1847 855.81 Q55.4423 860.394 46.1484 860.394 L16.4842 860.394 Z\" fill=\"#000000\" fill-rule=\"nonzero\" fill-opacity=\"1\" /><path clip-path=\"url(#clip210)\" d=\"M41.7242 789.416 Q42.4244 787.347 44.7161 785.406 Q47.0077 783.432 51.0181 781.459 L64.0042 774.934 L64.0042 781.841 L51.8138 787.92 Q47.0395 790.275 45.48 792.503 Q43.9204 794.699 43.9204 798.519 L43.9204 805.521 L64.0042 805.521 L64.0042 811.951 L16.4842 811.951 L16.4842 797.437 Q16.4842 789.289 19.8898 785.278 Q23.2955 781.268 30.1704 781.268 Q34.6582 781.268 37.6183 783.369 Q40.5784 785.437 41.7242 789.416 M21.7677 805.521 L38.6368 805.521 L38.6368 797.437 Q38.6368 792.79 36.5043 790.434 Q34.34 788.047 30.1704 788.047 Q26.0009 788.047 23.9002 790.434 Q21.7677 792.79 21.7677 797.437 L21.7677 805.521 Z\" fill=\"#000000\" fill-rule=\"nonzero\" fill-opacity=\"1\" /><path clip-path=\"url(#clip210)\" d=\"M58.657 740.527 L77.5631 740.527 L77.5631 746.416 L28.3562 746.416 L28.3562 740.527 L33.7671 740.527 Q30.5842 738.681 29.0564 735.88 Q27.4968 733.048 27.4968 729.133 Q27.4968 722.64 32.6531 718.597 Q37.8093 714.523 46.212 714.523 Q54.6147 714.523 59.771 718.597 Q64.9272 722.64 64.9272 729.133 Q64.9272 733.048 63.3994 735.88 Q61.8398 738.681 58.657 740.527 M46.212 720.603 Q39.7508 720.603 36.0905 723.276 Q32.3984 725.918 32.3984 730.565 Q32.3984 735.212 36.0905 737.886 Q39.7508 740.527 46.212 740.527 Q52.6732 740.527 56.3653 737.886 Q60.0256 735.212 60.0256 730.565 Q60.0256 725.918 56.3653 723.276 Q52.6732 720.603 46.212 720.603 Z\" fill=\"#000000\" fill-rule=\"nonzero\" fill-opacity=\"1\" /><path clip-path=\"url(#clip210)\" d=\"M44.7161 674.324 L47.5806 674.324 L47.5806 701.251 Q53.6281 700.869 56.8109 697.622 Q59.9619 694.344 59.9619 688.52 Q59.9619 685.146 59.1344 681.995 Q58.3069 678.812 56.6518 675.693 L62.1899 675.693 Q63.5267 678.844 64.227 682.154 Q64.9272 685.464 64.9272 688.87 Q64.9272 697.4 59.9619 702.397 Q54.9967 707.362 46.5303 707.362 Q37.7774 707.362 32.6531 702.651 Q27.4968 697.909 27.4968 689.888 Q27.4968 682.695 32.1438 678.525 Q36.7589 674.324 44.7161 674.324 M42.9973 680.18 Q38.1912 680.244 35.3266 682.886 Q32.4621 685.496 32.4621 689.824 Q32.4621 694.726 35.2312 697.686 Q38.0002 700.614 43.0292 701.06 L42.9973 680.18 Z\" fill=\"#000000\" fill-rule=\"nonzero\" fill-opacity=\"1\" /><path clip-path=\"url(#clip210)\" d=\"M33.8307 644.055 Q33.2578 645.042 33.0032 646.219 Q32.7167 647.365 32.7167 648.766 Q32.7167 653.731 35.9632 656.405 Q39.1779 659.046 45.2253 659.046 L64.0042 659.046 L64.0042 664.935 L28.3562 664.935 L28.3562 659.046 L33.8944 659.046 Q30.6479 657.2 29.0883 654.24 Q27.4968 651.28 27.4968 647.047 Q27.4968 646.442 27.5923 645.71 Q27.656 644.978 27.8151 644.087 L33.8307 644.055 Z\" fill=\"#000000\" fill-rule=\"nonzero\" fill-opacity=\"1\" /><path clip-path=\"url(#clip210)\" d=\"M20.1444 581.353 L26.9239 581.353 Q23.9002 584.599 22.4043 588.291 Q20.9083 591.952 20.9083 596.089 Q20.9083 604.238 25.9054 608.566 Q30.8707 612.895 40.2919 612.895 Q49.6813 612.895 54.6784 608.566 Q59.6436 604.238 59.6436 596.089 Q59.6436 591.952 58.1477 588.291 Q56.6518 584.599 53.6281 581.353 L60.3439 581.353 Q62.6355 584.727 63.7814 588.514 Q64.9272 592.27 64.9272 596.471 Q64.9272 607.261 58.3387 613.468 Q51.7183 619.674 40.2919 619.674 Q28.8336 619.674 22.2451 613.468 Q15.6248 607.261 15.6248 596.471 Q15.6248 592.206 16.7706 588.451 Q17.8846 584.663 20.1444 581.353 Z\" fill=\"#000000\" fill-rule=\"nonzero\" fill-opacity=\"1\" /><path clip-path=\"url(#clip210)\" d=\"M32.4621 557.863 Q32.4621 562.574 36.1542 565.311 Q39.8145 568.049 46.212 568.049 Q52.6095 568.049 56.3017 565.343 Q59.9619 562.606 59.9619 557.863 Q59.9619 553.185 56.2698 550.447 Q52.5777 547.71 46.212 547.71 Q39.8781 547.71 36.186 550.447 Q32.4621 553.185 32.4621 557.863 M27.4968 557.863 Q27.4968 550.225 32.4621 545.864 Q37.4273 541.504 46.212 541.504 Q54.9649 541.504 59.9619 545.864 Q64.9272 550.225 64.9272 557.863 Q64.9272 565.534 59.9619 569.895 Q54.9649 574.223 46.212 574.223 Q37.4273 574.223 32.4621 569.895 Q27.4968 565.534 27.4968 557.863 Z\" fill=\"#000000\" fill-rule=\"nonzero\" fill-opacity=\"1\" /><path clip-path=\"url(#clip210)\" d=\"M42.4881 502.163 L64.0042 502.163 L64.0042 508.02 L42.679 508.02 Q37.6183 508.02 35.1038 509.993 Q32.5894 511.967 32.5894 515.913 Q32.5894 520.656 35.6131 523.393 Q38.6368 526.13 43.8567 526.13 L64.0042 526.13 L64.0042 532.019 L28.3562 532.019 L28.3562 526.13 L33.8944 526.13 Q30.6797 524.03 29.0883 521.197 Q27.4968 518.332 27.4968 514.608 Q27.4968 508.465 31.3163 505.314 Q35.1038 502.163 42.4881 502.163 Z\" fill=\"#000000\" fill-rule=\"nonzero\" fill-opacity=\"1\" /><path clip-path=\"url(#clip210)\" d=\"M29.4065 467.757 L34.9447 467.757 Q33.6716 470.239 33.035 472.913 Q32.3984 475.587 32.3984 478.451 Q32.3984 482.812 33.7352 485.008 Q35.072 487.172 37.7456 487.172 Q39.7826 487.172 40.9603 485.613 Q42.1061 484.053 43.1565 479.342 L43.6021 477.337 Q44.9389 471.099 47.3897 468.489 Q49.8086 465.847 54.1691 465.847 Q59.1344 465.847 62.0308 469.794 Q64.9272 473.709 64.9272 480.584 Q64.9272 483.448 64.3543 486.567 Q63.8132 489.655 62.6992 493.092 L56.6518 493.092 Q58.3387 489.846 59.198 486.695 Q60.0256 483.544 60.0256 480.456 Q60.0256 476.319 58.6251 474.091 Q57.1929 471.863 54.6147 471.863 Q52.2276 471.863 50.9545 473.486 Q49.6813 475.077 48.5037 480.52 L48.0262 482.557 Q46.8804 488 44.5251 490.419 Q42.138 492.838 38.0002 492.838 Q32.9713 492.838 30.2341 489.273 Q27.4968 485.708 27.4968 479.151 Q27.4968 475.905 27.9743 473.04 Q28.4517 470.176 29.4065 467.757 Z\" fill=\"#000000\" fill-rule=\"nonzero\" fill-opacity=\"1\" /><path clip-path=\"url(#clip210)\" d=\"M49.9359 457.126 L28.3562 457.126 L28.3562 451.27 L49.7131 451.27 Q54.7739 451.27 57.3202 449.296 Q59.8346 447.323 59.8346 443.376 Q59.8346 438.634 56.8109 435.896 Q53.7872 433.127 48.5673 433.127 L28.3562 433.127 L28.3562 427.271 L64.0042 427.271 L64.0042 433.127 L58.5296 433.127 Q61.7762 435.26 63.3676 438.093 Q64.9272 440.894 64.9272 444.617 Q64.9272 450.76 61.1078 453.943 Q57.2883 457.126 49.9359 457.126 M27.4968 442.389 L27.4968 442.389 Z\" fill=\"#000000\" fill-rule=\"nonzero\" fill-opacity=\"1\" /><path clip-path=\"url(#clip210)\" d=\"M35.1993 387.453 Q31.2526 385.257 29.3747 382.202 Q27.4968 379.146 27.4968 375.008 Q27.4968 369.438 31.4117 366.415 Q35.2948 363.391 42.4881 363.391 L64.0042 363.391 L64.0042 369.279 L42.679 369.279 Q37.5546 369.279 35.072 371.094 Q32.5894 372.908 32.5894 376.632 Q32.5894 381.183 35.6131 383.825 Q38.6368 386.467 43.8567 386.467 L64.0042 386.467 L64.0042 392.355 L42.679 392.355 Q37.5228 392.355 35.072 394.169 Q32.5894 395.983 32.5894 399.771 Q32.5894 404.259 35.6449 406.901 Q38.6686 409.542 43.8567 409.542 L64.0042 409.542 L64.0042 415.431 L28.3562 415.431 L28.3562 409.542 L33.8944 409.542 Q30.616 407.537 29.0564 404.736 Q27.4968 401.935 27.4968 398.084 Q27.4968 394.201 29.4702 391.496 Q31.4436 388.758 35.1993 387.453 Z\" fill=\"#000000\" fill-rule=\"nonzero\" fill-opacity=\"1\" /><path clip-path=\"url(#clip210)\" d=\"M44.7161 321.218 L47.5806 321.218 L47.5806 348.145 Q53.6281 347.763 56.8109 344.517 Q59.9619 341.238 59.9619 335.414 Q59.9619 332.04 59.1344 328.889 Q58.3069 325.706 56.6518 322.587 L62.1899 322.587 Q63.5267 325.738 64.227 329.048 Q64.9272 332.358 64.9272 335.764 Q64.9272 344.294 59.9619 349.291 Q54.9967 354.256 46.5303 354.256 Q37.7774 354.256 32.6531 349.546 Q27.4968 344.803 27.4968 336.782 Q27.4968 329.589 32.1438 325.42 Q36.7589 321.218 44.7161 321.218 M42.9973 327.075 Q38.1912 327.138 35.3266 329.78 Q32.4621 332.39 32.4621 336.719 Q32.4621 341.62 35.2312 344.58 Q38.0002 347.509 43.0292 347.954 L42.9973 327.075 Z\" fill=\"#000000\" fill-rule=\"nonzero\" fill-opacity=\"1\" /><path clip-path=\"url(#clip210)\" d=\"M33.8307 290.949 Q33.2578 291.936 33.0032 293.114 Q32.7167 294.259 32.7167 295.66 Q32.7167 300.625 35.9632 303.299 Q39.1779 305.941 45.2253 305.941 L64.0042 305.941 L64.0042 311.829 L28.3562 311.829 L28.3562 305.941 L33.8944 305.941 Q30.6479 304.094 29.0883 301.134 Q27.4968 298.174 27.4968 293.941 Q27.4968 293.336 27.5923 292.604 Q27.656 291.872 27.8151 290.981 L33.8307 290.949 Z\" fill=\"#000000\" fill-rule=\"nonzero\" fill-opacity=\"1\" /><path clip-path=\"url(#clip210)\" d=\"M14.5426 285.729 L14.5426 280.637 Q22.0542 275.863 29.2474 273.507 Q36.4406 271.12 43.5384 271.12 Q50.668 271.12 57.8931 273.507 Q65.1182 275.863 72.5979 280.637 L72.5979 285.729 Q65.3091 281.496 58.1159 279.427 Q50.8908 277.327 43.5384 277.327 Q36.186 277.327 29.0246 279.427 Q21.8632 281.496 14.5426 285.729 Z\" fill=\"#000000\" fill-rule=\"nonzero\" fill-opacity=\"1\" /><polyline clip-path=\"url(#clip212)\" style=\"stroke:#009af9; stroke-linecap:round; stroke-linejoin:round; stroke-width:4; stroke-opacity:1; fill:none\" points=\"294.901,468.666 432.718,642.393 570.535,788.417 708.353,912.677 846.17,1019.53 983.987,1112.25 1121.8,1193.32 1259.62,1264.71 1397.44,1327.94 1535.26,1384.24 \"/>\n",
       "<path clip-path=\"url(#clip212)\" d=\"M278.901 452.666 L278.901 484.666 L310.901 484.666 L310.901 452.666 L278.901 452.666 Z\" fill=\"#009af9\" fill-rule=\"evenodd\" fill-opacity=\"1\" stroke=\"#000000\" stroke-opacity=\"1\" stroke-width=\"3.2\"/>\n",
       "<path clip-path=\"url(#clip212)\" d=\"M416.718 626.393 L416.718 658.393 L448.718 658.393 L448.718 626.393 L416.718 626.393 Z\" fill=\"#009af9\" fill-rule=\"evenodd\" fill-opacity=\"1\" stroke=\"#000000\" stroke-opacity=\"1\" stroke-width=\"3.2\"/>\n",
       "<path clip-path=\"url(#clip212)\" d=\"M554.535 772.417 L554.535 804.417 L586.535 804.417 L586.535 772.417 L554.535 772.417 Z\" fill=\"#009af9\" fill-rule=\"evenodd\" fill-opacity=\"1\" stroke=\"#000000\" stroke-opacity=\"1\" stroke-width=\"3.2\"/>\n",
       "<path clip-path=\"url(#clip212)\" d=\"M692.353 896.677 L692.353 928.677 L724.353 928.677 L724.353 896.677 L692.353 896.677 Z\" fill=\"#009af9\" fill-rule=\"evenodd\" fill-opacity=\"1\" stroke=\"#000000\" stroke-opacity=\"1\" stroke-width=\"3.2\"/>\n",
       "<path clip-path=\"url(#clip212)\" d=\"M830.17 1003.53 L830.17 1035.53 L862.17 1035.53 L862.17 1003.53 L830.17 1003.53 Z\" fill=\"#009af9\" fill-rule=\"evenodd\" fill-opacity=\"1\" stroke=\"#000000\" stroke-opacity=\"1\" stroke-width=\"3.2\"/>\n",
       "<path clip-path=\"url(#clip212)\" d=\"M967.987 1096.25 L967.987 1128.25 L999.987 1128.25 L999.987 1096.25 L967.987 1096.25 Z\" fill=\"#009af9\" fill-rule=\"evenodd\" fill-opacity=\"1\" stroke=\"#000000\" stroke-opacity=\"1\" stroke-width=\"3.2\"/>\n",
       "<path clip-path=\"url(#clip212)\" d=\"M1105.8 1177.32 L1105.8 1209.32 L1137.8 1209.32 L1137.8 1177.32 L1105.8 1177.32 Z\" fill=\"#009af9\" fill-rule=\"evenodd\" fill-opacity=\"1\" stroke=\"#000000\" stroke-opacity=\"1\" stroke-width=\"3.2\"/>\n",
       "<path clip-path=\"url(#clip212)\" d=\"M1243.62 1248.71 L1243.62 1280.71 L1275.62 1280.71 L1275.62 1248.71 L1243.62 1248.71 Z\" fill=\"#009af9\" fill-rule=\"evenodd\" fill-opacity=\"1\" stroke=\"#000000\" stroke-opacity=\"1\" stroke-width=\"3.2\"/>\n",
       "<path clip-path=\"url(#clip212)\" d=\"M1381.44 1311.94 L1381.44 1343.94 L1413.44 1343.94 L1413.44 1311.94 L1381.44 1311.94 Z\" fill=\"#009af9\" fill-rule=\"evenodd\" fill-opacity=\"1\" stroke=\"#000000\" stroke-opacity=\"1\" stroke-width=\"3.2\"/>\n",
       "<path clip-path=\"url(#clip212)\" d=\"M1519.26 1368.24 L1519.26 1400.24 L1551.26 1400.24 L1551.26 1368.24 L1519.26 1368.24 Z\" fill=\"#009af9\" fill-rule=\"evenodd\" fill-opacity=\"1\" stroke=\"#000000\" stroke-opacity=\"1\" stroke-width=\"3.2\"/>\n",
       "<polyline clip-path=\"url(#clip212)\" style=\"stroke:#e26f46; stroke-linecap:round; stroke-linejoin:round; stroke-width:4; stroke-opacity:1; fill:none\" points=\"294.901,241.017 432.718,223.482 570.535,205.993 708.353,188.567 846.17,171.218 983.987,153.963 1121.8,136.817 1259.62,119.796 1397.44,102.914 1535.26,86.1857 \"/>\n",
       "<path clip-path=\"url(#clip212)\" d=\"M294.901 225.017 L278.901 241.017 L294.901 257.017 L310.901 241.017 L294.901 225.017 Z\" fill=\"#e26f46\" fill-rule=\"evenodd\" fill-opacity=\"1\" stroke=\"#000000\" stroke-opacity=\"1\" stroke-width=\"3.2\"/>\n",
       "<path clip-path=\"url(#clip212)\" d=\"M432.718 207.482 L416.718 223.482 L432.718 239.482 L448.718 223.482 L432.718 207.482 Z\" fill=\"#e26f46\" fill-rule=\"evenodd\" fill-opacity=\"1\" stroke=\"#000000\" stroke-opacity=\"1\" stroke-width=\"3.2\"/>\n",
       "<path clip-path=\"url(#clip212)\" d=\"M570.535 189.993 L554.535 205.993 L570.535 221.993 L586.535 205.993 L570.535 189.993 Z\" fill=\"#e26f46\" fill-rule=\"evenodd\" fill-opacity=\"1\" stroke=\"#000000\" stroke-opacity=\"1\" stroke-width=\"3.2\"/>\n",
       "<path clip-path=\"url(#clip212)\" d=\"M708.353 172.567 L692.353 188.567 L708.353 204.567 L724.353 188.567 L708.353 172.567 Z\" fill=\"#e26f46\" fill-rule=\"evenodd\" fill-opacity=\"1\" stroke=\"#000000\" stroke-opacity=\"1\" stroke-width=\"3.2\"/>\n",
       "<path clip-path=\"url(#clip212)\" d=\"M846.17 155.218 L830.17 171.218 L846.17 187.218 L862.17 171.218 L846.17 155.218 Z\" fill=\"#e26f46\" fill-rule=\"evenodd\" fill-opacity=\"1\" stroke=\"#000000\" stroke-opacity=\"1\" stroke-width=\"3.2\"/>\n",
       "<path clip-path=\"url(#clip212)\" d=\"M983.987 137.963 L967.987 153.963 L983.987 169.963 L999.987 153.963 L983.987 137.963 Z\" fill=\"#e26f46\" fill-rule=\"evenodd\" fill-opacity=\"1\" stroke=\"#000000\" stroke-opacity=\"1\" stroke-width=\"3.2\"/>\n",
       "<path clip-path=\"url(#clip212)\" d=\"M1121.8 120.817 L1105.8 136.817 L1121.8 152.817 L1137.8 136.817 L1121.8 120.817 Z\" fill=\"#e26f46\" fill-rule=\"evenodd\" fill-opacity=\"1\" stroke=\"#000000\" stroke-opacity=\"1\" stroke-width=\"3.2\"/>\n",
       "<path clip-path=\"url(#clip212)\" d=\"M1259.62 103.796 L1243.62 119.796 L1259.62 135.796 L1275.62 119.796 L1259.62 103.796 Z\" fill=\"#e26f46\" fill-rule=\"evenodd\" fill-opacity=\"1\" stroke=\"#000000\" stroke-opacity=\"1\" stroke-width=\"3.2\"/>\n",
       "<path clip-path=\"url(#clip212)\" d=\"M1397.44 86.9137 L1381.44 102.914 L1397.44 118.914 L1413.44 102.914 L1397.44 86.9137 Z\" fill=\"#e26f46\" fill-rule=\"evenodd\" fill-opacity=\"1\" stroke=\"#000000\" stroke-opacity=\"1\" stroke-width=\"3.2\"/>\n",
       "<path clip-path=\"url(#clip212)\" d=\"M1535.26 70.1857 L1519.26 86.1857 L1535.26 102.186 L1551.26 86.1857 L1535.26 70.1857 Z\" fill=\"#e26f46\" fill-rule=\"evenodd\" fill-opacity=\"1\" stroke=\"#000000\" stroke-opacity=\"1\" stroke-width=\"3.2\"/>\n",
       "<polyline clip-path=\"url(#clip212)\" style=\"stroke:#3da44d; stroke-linecap:round; stroke-linejoin:round; stroke-width:4; stroke-opacity:1; fill:none\" points=\"294.901,329.935 432.718,396.627 570.535,463.723 708.353,531.205 846.17,599.058 983.987,667.264 1121.8,735.808 1259.62,804.671 1397.44,873.838 1535.26,943.29 \"/>\n",
       "<circle clip-path=\"url(#clip212)\" cx=\"294.901\" cy=\"329.935\" r=\"14.4\" fill=\"#3da44d\" fill-rule=\"evenodd\" fill-opacity=\"1\" stroke=\"#000000\" stroke-opacity=\"1\" stroke-width=\"3.2\"/>\n",
       "<circle clip-path=\"url(#clip212)\" cx=\"432.718\" cy=\"396.627\" r=\"14.4\" fill=\"#3da44d\" fill-rule=\"evenodd\" fill-opacity=\"1\" stroke=\"#000000\" stroke-opacity=\"1\" stroke-width=\"3.2\"/>\n",
       "<circle clip-path=\"url(#clip212)\" cx=\"570.535\" cy=\"463.723\" r=\"14.4\" fill=\"#3da44d\" fill-rule=\"evenodd\" fill-opacity=\"1\" stroke=\"#000000\" stroke-opacity=\"1\" stroke-width=\"3.2\"/>\n",
       "<circle clip-path=\"url(#clip212)\" cx=\"708.353\" cy=\"531.205\" r=\"14.4\" fill=\"#3da44d\" fill-rule=\"evenodd\" fill-opacity=\"1\" stroke=\"#000000\" stroke-opacity=\"1\" stroke-width=\"3.2\"/>\n",
       "<circle clip-path=\"url(#clip212)\" cx=\"846.17\" cy=\"599.058\" r=\"14.4\" fill=\"#3da44d\" fill-rule=\"evenodd\" fill-opacity=\"1\" stroke=\"#000000\" stroke-opacity=\"1\" stroke-width=\"3.2\"/>\n",
       "<circle clip-path=\"url(#clip212)\" cx=\"983.987\" cy=\"667.264\" r=\"14.4\" fill=\"#3da44d\" fill-rule=\"evenodd\" fill-opacity=\"1\" stroke=\"#000000\" stroke-opacity=\"1\" stroke-width=\"3.2\"/>\n",
       "<circle clip-path=\"url(#clip212)\" cx=\"1121.8\" cy=\"735.808\" r=\"14.4\" fill=\"#3da44d\" fill-rule=\"evenodd\" fill-opacity=\"1\" stroke=\"#000000\" stroke-opacity=\"1\" stroke-width=\"3.2\"/>\n",
       "<circle clip-path=\"url(#clip212)\" cx=\"1259.62\" cy=\"804.671\" r=\"14.4\" fill=\"#3da44d\" fill-rule=\"evenodd\" fill-opacity=\"1\" stroke=\"#000000\" stroke-opacity=\"1\" stroke-width=\"3.2\"/>\n",
       "<circle clip-path=\"url(#clip212)\" cx=\"1397.44\" cy=\"873.838\" r=\"14.4\" fill=\"#3da44d\" fill-rule=\"evenodd\" fill-opacity=\"1\" stroke=\"#000000\" stroke-opacity=\"1\" stroke-width=\"3.2\"/>\n",
       "<circle clip-path=\"url(#clip212)\" cx=\"1535.26\" cy=\"943.29\" r=\"14.4\" fill=\"#3da44d\" fill-rule=\"evenodd\" fill-opacity=\"1\" stroke=\"#000000\" stroke-opacity=\"1\" stroke-width=\"3.2\"/>\n",
       "<path clip-path=\"url(#clip210)\" d=\"M1642.3 300.469 L2352.76 300.469 L2352.76 93.1086 L1642.3 93.1086  Z\" fill=\"#ffffff\" fill-rule=\"evenodd\" fill-opacity=\"1\"/>\n",
       "<polyline clip-path=\"url(#clip210)\" style=\"stroke:#000000; stroke-linecap:round; stroke-linejoin:round; stroke-width:4; stroke-opacity:1; fill:none\" points=\"1642.3,300.469 2352.76,300.469 2352.76,93.1086 1642.3,93.1086 1642.3,300.469 \"/>\n",
       "<polyline clip-path=\"url(#clip210)\" style=\"stroke:#009af9; stroke-linecap:round; stroke-linejoin:round; stroke-width:4; stroke-opacity:1; fill:none\" points=\"1665.58,144.949 1805.25,144.949 \"/>\n",
       "<path clip-path=\"url(#clip210)\" d=\"M1713.86 123.394 L1713.86 166.503 L1756.97 166.503 L1756.97 123.394 L1713.86 123.394 Z\" fill=\"#009af9\" fill-rule=\"evenodd\" fill-opacity=\"1\" stroke=\"#000000\" stroke-opacity=\"1\" stroke-width=\"4.55111\"/>\n",
       "<path clip-path=\"url(#clip210)\" d=\"M1856.4 130.331 L1856.4 135.261 Q1854.04 133.062 1851.35 131.974 Q1848.69 130.886 1845.68 130.886 Q1839.76 130.886 1836.61 134.52 Q1833.46 138.132 1833.46 144.983 Q1833.46 151.812 1836.61 155.446 Q1839.76 159.057 1845.68 159.057 Q1848.69 159.057 1851.35 157.969 Q1854.04 156.881 1856.4 154.682 L1856.4 159.567 Q1853.95 161.233 1851.19 162.067 Q1848.46 162.9 1845.41 162.9 Q1837.56 162.9 1833.04 158.108 Q1828.53 153.293 1828.53 144.983 Q1828.53 136.65 1833.04 131.858 Q1837.56 127.044 1845.41 127.044 Q1848.51 127.044 1851.24 127.877 Q1853.99 128.687 1856.4 130.331 Z\" fill=\"#000000\" fill-rule=\"nonzero\" fill-opacity=\"1\" /><path clip-path=\"url(#clip210)\" d=\"M1884.99 146.581 L1884.99 162.229 L1880.73 162.229 L1880.73 146.719 Q1880.73 143.039 1879.29 141.21 Q1877.86 139.382 1874.99 139.382 Q1871.54 139.382 1869.55 141.581 Q1867.56 143.78 1867.56 147.576 L1867.56 162.229 L1863.28 162.229 L1863.28 126.21 L1867.56 126.21 L1867.56 140.331 Q1869.09 137.993 1871.15 136.835 Q1873.23 135.678 1875.94 135.678 Q1880.41 135.678 1882.7 138.456 Q1884.99 141.21 1884.99 146.581 Z\" fill=\"#000000\" fill-rule=\"nonzero\" fill-opacity=\"1\" /><path clip-path=\"url(#clip210)\" d=\"M1893.48 136.303 L1897.74 136.303 L1897.74 162.229 L1893.48 162.229 L1893.48 136.303 M1893.48 126.21 L1897.74 126.21 L1897.74 131.604 L1893.48 131.604 L1893.48 126.21 Z\" fill=\"#000000\" fill-rule=\"nonzero\" fill-opacity=\"1\" /><path clip-path=\"url(#clip210)\" d=\"M1925.31 137.298 L1925.31 141.28 Q1923.51 140.284 1921.68 139.798 Q1919.87 139.289 1918.02 139.289 Q1913.88 139.289 1911.59 141.928 Q1909.29 144.544 1909.29 149.289 Q1909.29 154.034 1911.59 156.673 Q1913.88 159.289 1918.02 159.289 Q1919.87 159.289 1921.68 158.803 Q1923.51 158.293 1925.31 157.298 L1925.31 161.233 Q1923.53 162.067 1921.61 162.483 Q1919.71 162.9 1917.56 162.9 Q1911.7 162.9 1908.25 159.219 Q1904.8 155.539 1904.8 149.289 Q1904.8 142.946 1908.28 139.312 Q1911.77 135.678 1917.84 135.678 Q1919.8 135.678 1921.68 136.095 Q1923.55 136.488 1925.31 137.298 Z\" fill=\"#000000\" fill-rule=\"nonzero\" fill-opacity=\"1\" /><path clip-path=\"url(#clip210)\" d=\"M1932.56 126.21 L1936.84 126.21 L1936.84 147.483 L1949.55 136.303 L1954.99 136.303 L1941.24 148.432 L1955.57 162.229 L1950.01 162.229 L1936.84 149.567 L1936.84 162.229 L1932.56 162.229 L1932.56 126.21 Z\" fill=\"#000000\" fill-rule=\"nonzero\" fill-opacity=\"1\" /><path clip-path=\"url(#clip210)\" d=\"M1980.66 148.201 L1980.66 150.284 L1961.08 150.284 Q1961.35 154.682 1963.72 156.997 Q1966.1 159.289 1970.34 159.289 Q1972.79 159.289 1975.08 158.687 Q1977.4 158.085 1979.66 156.881 L1979.66 160.909 Q1977.37 161.881 1974.97 162.391 Q1972.56 162.9 1970.08 162.9 Q1963.88 162.9 1960.24 159.289 Q1956.63 155.678 1956.63 149.52 Q1956.63 143.155 1960.06 139.428 Q1963.51 135.678 1969.34 135.678 Q1974.57 135.678 1977.6 139.057 Q1980.66 142.414 1980.66 148.201 M1976.4 146.951 Q1976.35 143.456 1974.43 141.372 Q1972.53 139.289 1969.39 139.289 Q1965.82 139.289 1963.67 141.303 Q1961.54 143.317 1961.22 146.974 L1976.4 146.951 Z\" fill=\"#000000\" fill-rule=\"nonzero\" fill-opacity=\"1\" /><path clip-path=\"url(#clip210)\" d=\"M2009.2 146.581 L2009.2 162.229 L2004.94 162.229 L2004.94 146.719 Q2004.94 143.039 2003.51 141.21 Q2002.07 139.382 1999.2 139.382 Q1995.75 139.382 1993.76 141.581 Q1991.77 143.78 1991.77 147.576 L1991.77 162.229 L1987.49 162.229 L1987.49 136.303 L1991.77 136.303 L1991.77 140.331 Q1993.3 137.993 1995.36 136.835 Q1997.44 135.678 2000.15 135.678 Q2004.62 135.678 2006.91 138.456 Q2009.2 141.21 2009.2 146.581 Z\" fill=\"#000000\" fill-rule=\"nonzero\" fill-opacity=\"1\" /><path clip-path=\"url(#clip210)\" d=\"M2037.63 131.511 L2037.63 144.497 L2043.51 144.497 Q2046.77 144.497 2048.55 142.807 Q2050.34 141.118 2050.34 137.993 Q2050.34 134.891 2048.55 133.201 Q2046.77 131.511 2043.51 131.511 L2037.63 131.511 M2032.95 127.669 L2043.51 127.669 Q2049.32 127.669 2052.28 130.307 Q2055.27 132.923 2055.27 137.993 Q2055.27 143.108 2052.28 145.724 Q2049.32 148.34 2043.51 148.34 L2037.63 148.34 L2037.63 162.229 L2032.95 162.229 L2032.95 127.669 Z\" fill=\"#000000\" fill-rule=\"nonzero\" fill-opacity=\"1\" /><path clip-path=\"url(#clip210)\" d=\"M2071.01 149.196 Q2065.84 149.196 2063.85 150.377 Q2061.86 151.557 2061.86 154.405 Q2061.86 156.673 2063.34 158.016 Q2064.85 159.335 2067.42 159.335 Q2070.96 159.335 2073.09 156.835 Q2075.24 154.312 2075.24 150.145 L2075.24 149.196 L2071.01 149.196 M2079.5 147.437 L2079.5 162.229 L2075.24 162.229 L2075.24 158.293 Q2073.78 160.655 2071.61 161.789 Q2069.43 162.9 2066.28 162.9 Q2062.3 162.9 2059.94 160.678 Q2057.6 158.432 2057.6 154.682 Q2057.6 150.307 2060.52 148.085 Q2063.46 145.863 2069.27 145.863 L2075.24 145.863 L2075.24 145.446 Q2075.24 142.507 2073.3 140.909 Q2071.38 139.289 2067.88 139.289 Q2065.66 139.289 2063.55 139.821 Q2061.45 140.354 2059.5 141.419 L2059.5 137.483 Q2061.84 136.581 2064.04 136.141 Q2066.24 135.678 2068.32 135.678 Q2073.95 135.678 2076.72 138.594 Q2079.5 141.511 2079.5 147.437 Z\" fill=\"#000000\" fill-rule=\"nonzero\" fill-opacity=\"1\" /><path clip-path=\"url(#clip210)\" d=\"M2110.45 148.201 L2110.45 150.284 L2090.87 150.284 Q2091.15 154.682 2093.51 156.997 Q2095.89 159.289 2100.13 159.289 Q2102.58 159.289 2104.87 158.687 Q2107.19 158.085 2109.46 156.881 L2109.46 160.909 Q2107.16 161.881 2104.76 162.391 Q2102.35 162.9 2099.87 162.9 Q2093.67 162.9 2090.03 159.289 Q2086.42 155.678 2086.42 149.52 Q2086.42 143.155 2089.85 139.428 Q2093.3 135.678 2099.13 135.678 Q2104.36 135.678 2107.4 139.057 Q2110.45 142.414 2110.45 148.201 M2106.19 146.951 Q2106.15 143.456 2104.22 141.372 Q2102.33 139.289 2099.18 139.289 Q2095.61 139.289 2093.46 141.303 Q2091.33 143.317 2091.01 146.974 L2106.19 146.951 Z\" fill=\"#000000\" fill-rule=\"nonzero\" fill-opacity=\"1\" /><path clip-path=\"url(#clip210)\" d=\"M2117.44 126.21 L2121.7 126.21 L2121.7 162.229 L2117.44 162.229 L2117.44 126.21 Z\" fill=\"#000000\" fill-rule=\"nonzero\" fill-opacity=\"1\" /><path clip-path=\"url(#clip210)\" d=\"M2130.61 126.21 L2134.87 126.21 L2134.87 162.229 L2130.61 162.229 L2130.61 126.21 Z\" fill=\"#000000\" fill-rule=\"nonzero\" fill-opacity=\"1\" /><path clip-path=\"url(#clip210)\" d=\"M2155.57 149.196 Q2150.4 149.196 2148.41 150.377 Q2146.42 151.557 2146.42 154.405 Q2146.42 156.673 2147.9 158.016 Q2149.41 159.335 2151.98 159.335 Q2155.52 159.335 2157.65 156.835 Q2159.8 154.312 2159.8 150.145 L2159.8 149.196 L2155.57 149.196 M2164.06 147.437 L2164.06 162.229 L2159.8 162.229 L2159.8 158.293 Q2158.34 160.655 2156.17 161.789 Q2153.99 162.9 2150.84 162.9 Q2146.86 162.9 2144.5 160.678 Q2142.16 158.432 2142.16 154.682 Q2142.16 150.307 2145.08 148.085 Q2148.02 145.863 2153.83 145.863 L2159.8 145.863 L2159.8 145.446 Q2159.8 142.507 2157.86 140.909 Q2155.94 139.289 2152.44 139.289 Q2150.22 139.289 2148.11 139.821 Q2146.01 140.354 2144.06 141.419 L2144.06 137.483 Q2146.4 136.581 2148.6 136.141 Q2150.8 135.678 2152.88 135.678 Q2158.51 135.678 2161.28 138.594 Q2164.06 141.511 2164.06 147.437 Z\" fill=\"#000000\" fill-rule=\"nonzero\" fill-opacity=\"1\" /><path clip-path=\"url(#clip210)\" d=\"M2192.77 131.511 L2192.77 144.497 L2198.64 144.497 Q2201.91 144.497 2203.69 142.807 Q2205.47 141.118 2205.47 137.993 Q2205.47 134.891 2203.69 133.201 Q2201.91 131.511 2198.64 131.511 L2192.77 131.511 M2188.09 127.669 L2198.64 127.669 Q2204.45 127.669 2207.42 130.307 Q2210.4 132.923 2210.4 137.993 Q2210.4 143.108 2207.42 145.724 Q2204.45 148.34 2198.64 148.34 L2192.77 148.34 L2192.77 162.229 L2188.09 162.229 L2188.09 127.669 Z\" fill=\"#000000\" fill-rule=\"nonzero\" fill-opacity=\"1\" /><path clip-path=\"url(#clip210)\" d=\"M2230.68 140.284 Q2229.96 139.868 2229.11 139.682 Q2228.27 139.474 2227.26 139.474 Q2223.64 139.474 2221.7 141.835 Q2219.78 144.173 2219.78 148.571 L2219.78 162.229 L2215.5 162.229 L2215.5 136.303 L2219.78 136.303 L2219.78 140.331 Q2221.12 137.969 2223.27 136.835 Q2225.43 135.678 2228.51 135.678 Q2228.95 135.678 2229.48 135.747 Q2230.01 135.794 2230.66 135.909 L2230.68 140.284 Z\" fill=\"#000000\" fill-rule=\"nonzero\" fill-opacity=\"1\" /><path clip-path=\"url(#clip210)\" d=\"M2244.15 139.289 Q2240.73 139.289 2238.74 141.974 Q2236.75 144.636 2236.75 149.289 Q2236.75 153.942 2238.71 156.627 Q2240.7 159.289 2244.15 159.289 Q2247.56 159.289 2249.55 156.604 Q2251.54 153.918 2251.54 149.289 Q2251.54 144.682 2249.55 141.997 Q2247.56 139.289 2244.15 139.289 M2244.15 135.678 Q2249.71 135.678 2252.88 139.289 Q2256.05 142.9 2256.05 149.289 Q2256.05 155.655 2252.88 159.289 Q2249.71 162.9 2244.15 162.9 Q2238.58 162.9 2235.4 159.289 Q2232.26 155.655 2232.26 149.289 Q2232.26 142.9 2235.4 139.289 Q2238.58 135.678 2244.15 135.678 Z\" fill=\"#000000\" fill-rule=\"nonzero\" fill-opacity=\"1\" /><path clip-path=\"url(#clip210)\" d=\"M2276.24 126.21 L2276.24 129.752 L2272.16 129.752 Q2269.87 129.752 2268.97 130.678 Q2268.09 131.604 2268.09 134.011 L2268.09 136.303 L2275.1 136.303 L2275.1 139.613 L2268.09 139.613 L2268.09 162.229 L2263.81 162.229 L2263.81 139.613 L2259.73 139.613 L2259.73 136.303 L2263.81 136.303 L2263.81 134.497 Q2263.81 130.169 2265.82 128.201 Q2267.83 126.21 2272.21 126.21 L2276.24 126.21 Z\" fill=\"#000000\" fill-rule=\"nonzero\" fill-opacity=\"1\" /><path clip-path=\"url(#clip210)\" d=\"M2279.8 136.303 L2284.06 136.303 L2284.06 162.229 L2279.8 162.229 L2279.8 136.303 M2279.8 126.21 L2284.06 126.21 L2284.06 131.604 L2279.8 131.604 L2279.8 126.21 Z\" fill=\"#000000\" fill-rule=\"nonzero\" fill-opacity=\"1\" /><path clip-path=\"url(#clip210)\" d=\"M2297.19 128.942 L2297.19 136.303 L2305.96 136.303 L2305.96 139.613 L2297.19 139.613 L2297.19 153.687 Q2297.19 156.858 2298.04 157.761 Q2298.92 158.664 2301.58 158.664 L2305.96 158.664 L2305.96 162.229 L2301.58 162.229 Q2296.65 162.229 2294.78 160.4 Q2292.9 158.548 2292.9 153.687 L2292.9 139.613 L2289.78 139.613 L2289.78 136.303 L2292.9 136.303 L2292.9 128.942 L2297.19 128.942 Z\" fill=\"#000000\" fill-rule=\"nonzero\" fill-opacity=\"1\" /><path clip-path=\"url(#clip210)\" d=\"M2328.09 137.067 L2328.09 141.094 Q2326.28 140.169 2324.34 139.706 Q2322.39 139.243 2320.31 139.243 Q2317.14 139.243 2315.54 140.215 Q2313.97 141.187 2313.97 143.131 Q2313.97 144.613 2315.1 145.469 Q2316.24 146.303 2319.66 147.067 L2321.12 147.391 Q2325.66 148.363 2327.56 150.145 Q2329.48 151.905 2329.48 155.076 Q2329.48 158.687 2326.61 160.793 Q2323.76 162.9 2318.76 162.9 Q2316.68 162.9 2314.41 162.483 Q2312.16 162.09 2309.66 161.28 L2309.66 156.881 Q2312.02 158.108 2314.32 158.733 Q2316.61 159.335 2318.85 159.335 Q2321.86 159.335 2323.48 158.317 Q2325.1 157.275 2325.1 155.4 Q2325.1 153.664 2323.92 152.738 Q2322.76 151.812 2318.81 150.956 L2317.32 150.608 Q2313.37 149.775 2311.61 148.062 Q2309.85 146.326 2309.85 143.317 Q2309.85 139.659 2312.44 137.669 Q2315.03 135.678 2319.8 135.678 Q2322.16 135.678 2324.25 136.025 Q2326.33 136.372 2328.09 137.067 Z\" fill=\"#000000\" fill-rule=\"nonzero\" fill-opacity=\"1\" /><polyline clip-path=\"url(#clip210)\" style=\"stroke:#e26f46; stroke-linecap:round; stroke-linejoin:round; stroke-width:4; stroke-opacity:1; fill:none\" points=\"1665.58,196.789 1805.25,196.789 \"/>\n",
       "<path clip-path=\"url(#clip210)\" d=\"M1735.42 175.234 L1713.86 196.789 L1735.42 218.343 L1756.97 196.789 L1735.42 175.234 Z\" fill=\"#e26f46\" fill-rule=\"evenodd\" fill-opacity=\"1\" stroke=\"#000000\" stroke-opacity=\"1\" stroke-width=\"4.55111\"/>\n",
       "<path clip-path=\"url(#clip210)\" d=\"M1841.73 214.069 L1828.53 179.509 L1833.42 179.509 L1844.36 208.606 L1855.34 179.509 L1860.2 179.509 L1847.03 214.069 L1841.73 214.069 Z\" fill=\"#000000\" fill-rule=\"nonzero\" fill-opacity=\"1\" /><path clip-path=\"url(#clip210)\" d=\"M1883.55 200.041 L1883.55 202.124 L1863.97 202.124 Q1864.25 206.522 1866.61 208.837 Q1868.99 211.129 1873.23 211.129 Q1875.68 211.129 1877.98 210.527 Q1880.29 209.925 1882.56 208.721 L1882.56 212.749 Q1880.27 213.721 1877.86 214.231 Q1875.45 214.74 1872.98 214.74 Q1866.77 214.74 1863.14 211.129 Q1859.53 207.518 1859.53 201.36 Q1859.53 194.995 1862.95 191.268 Q1866.4 187.518 1872.23 187.518 Q1877.47 187.518 1880.5 190.897 Q1883.55 194.254 1883.55 200.041 M1879.29 198.791 Q1879.25 195.296 1877.33 193.212 Q1875.43 191.129 1872.28 191.129 Q1868.72 191.129 1866.56 193.143 Q1864.43 195.157 1864.11 198.814 L1879.29 198.791 Z\" fill=\"#000000\" fill-rule=\"nonzero\" fill-opacity=\"1\" /><path clip-path=\"url(#clip210)\" d=\"M1907.6 200.805 Q1907.6 196.175 1905.68 193.629 Q1903.79 191.083 1900.34 191.083 Q1896.91 191.083 1894.99 193.629 Q1893.09 196.175 1893.09 200.805 Q1893.09 205.411 1894.99 207.958 Q1896.91 210.504 1900.34 210.504 Q1903.79 210.504 1905.68 207.958 Q1907.6 205.411 1907.6 200.805 M1911.86 210.851 Q1911.86 217.471 1908.92 220.689 Q1905.98 223.93 1899.92 223.93 Q1897.67 223.93 1895.68 223.582 Q1893.69 223.258 1891.82 222.564 L1891.82 218.42 Q1893.69 219.439 1895.52 219.925 Q1897.35 220.411 1899.25 220.411 Q1903.44 220.411 1905.52 218.212 Q1907.6 216.036 1907.6 211.615 L1907.6 209.508 Q1906.29 211.8 1904.23 212.934 Q1902.16 214.069 1899.29 214.069 Q1894.53 214.069 1891.61 210.434 Q1888.69 206.8 1888.69 200.805 Q1888.69 194.786 1891.61 191.152 Q1894.53 187.518 1899.29 187.518 Q1902.16 187.518 1904.23 188.652 Q1906.29 189.786 1907.6 192.078 L1907.6 188.143 L1911.86 188.143 L1911.86 210.851 Z\" fill=\"#000000\" fill-rule=\"nonzero\" fill-opacity=\"1\" /><path clip-path=\"url(#clip210)\" d=\"M1937.7 200.805 Q1937.7 196.175 1935.78 193.629 Q1933.88 191.083 1930.43 191.083 Q1927 191.083 1925.08 193.629 Q1923.18 196.175 1923.18 200.805 Q1923.18 205.411 1925.08 207.958 Q1927 210.504 1930.43 210.504 Q1933.88 210.504 1935.78 207.958 Q1937.7 205.411 1937.7 200.805 M1941.96 210.851 Q1941.96 217.471 1939.02 220.689 Q1936.08 223.93 1930.01 223.93 Q1927.77 223.93 1925.78 223.582 Q1923.79 223.258 1921.91 222.564 L1921.91 218.42 Q1923.79 219.439 1925.61 219.925 Q1927.44 220.411 1929.34 220.411 Q1933.53 220.411 1935.61 218.212 Q1937.7 216.036 1937.7 211.615 L1937.7 209.508 Q1936.38 211.8 1934.32 212.934 Q1932.26 214.069 1929.39 214.069 Q1924.62 214.069 1921.7 210.434 Q1918.79 206.8 1918.79 200.805 Q1918.79 194.786 1921.7 191.152 Q1924.62 187.518 1929.39 187.518 Q1932.26 187.518 1934.32 188.652 Q1936.38 189.786 1937.7 192.078 L1937.7 188.143 L1941.96 188.143 L1941.96 210.851 Z\" fill=\"#000000\" fill-rule=\"nonzero\" fill-opacity=\"1\" /><path clip-path=\"url(#clip210)\" d=\"M1950.73 188.143 L1954.99 188.143 L1954.99 214.069 L1950.73 214.069 L1950.73 188.143 M1950.73 178.05 L1954.99 178.05 L1954.99 183.444 L1950.73 183.444 L1950.73 178.05 Z\" fill=\"#000000\" fill-rule=\"nonzero\" fill-opacity=\"1\" /><path clip-path=\"url(#clip210)\" d=\"M1986.08 200.041 L1986.08 202.124 L1966.49 202.124 Q1966.77 206.522 1969.13 208.837 Q1971.52 211.129 1975.75 211.129 Q1978.21 211.129 1980.5 210.527 Q1982.81 209.925 1985.08 208.721 L1985.08 212.749 Q1982.79 213.721 1980.38 214.231 Q1977.97 214.74 1975.5 214.74 Q1969.29 214.74 1965.66 211.129 Q1962.05 207.518 1962.05 201.36 Q1962.05 194.995 1965.47 191.268 Q1968.92 187.518 1974.76 187.518 Q1979.99 187.518 1983.02 190.897 Q1986.08 194.254 1986.08 200.041 M1981.82 198.791 Q1981.77 195.296 1979.85 193.212 Q1977.95 191.129 1974.8 191.129 Q1971.24 191.129 1969.09 193.143 Q1966.96 195.157 1966.63 198.814 L1981.82 198.791 Z\" fill=\"#000000\" fill-rule=\"nonzero\" fill-opacity=\"1\" /><path clip-path=\"url(#clip210)\" d=\"M2013 183.351 L2013 196.337 L2018.88 196.337 Q2022.14 196.337 2023.92 194.647 Q2025.71 192.958 2025.71 189.833 Q2025.71 186.731 2023.92 185.041 Q2022.14 183.351 2018.88 183.351 L2013 183.351 M2008.32 179.509 L2018.88 179.509 Q2024.69 179.509 2027.65 182.147 Q2030.64 184.763 2030.64 189.833 Q2030.64 194.948 2027.65 197.564 Q2024.69 200.18 2018.88 200.18 L2013 200.18 L2013 214.069 L2008.32 214.069 L2008.32 179.509 Z\" fill=\"#000000\" fill-rule=\"nonzero\" fill-opacity=\"1\" /><path clip-path=\"url(#clip210)\" d=\"M2046.38 201.036 Q2041.22 201.036 2039.22 202.217 Q2037.23 203.397 2037.23 206.245 Q2037.23 208.513 2038.72 209.856 Q2040.22 211.175 2042.79 211.175 Q2046.33 211.175 2048.46 208.675 Q2050.61 206.152 2050.61 201.985 L2050.61 201.036 L2046.38 201.036 M2054.87 199.277 L2054.87 214.069 L2050.61 214.069 L2050.61 210.133 Q2049.15 212.495 2046.98 213.629 Q2044.8 214.74 2041.65 214.74 Q2037.67 214.74 2035.31 212.518 Q2032.97 210.272 2032.97 206.522 Q2032.97 202.147 2035.89 199.925 Q2038.83 197.703 2044.64 197.703 L2050.61 197.703 L2050.61 197.286 Q2050.61 194.347 2048.67 192.749 Q2046.75 191.129 2043.25 191.129 Q2041.03 191.129 2038.92 191.661 Q2036.82 192.194 2034.87 193.259 L2034.87 189.323 Q2037.21 188.421 2039.41 187.981 Q2041.61 187.518 2043.69 187.518 Q2049.32 187.518 2052.09 190.434 Q2054.87 193.351 2054.87 199.277 Z\" fill=\"#000000\" fill-rule=\"nonzero\" fill-opacity=\"1\" /><path clip-path=\"url(#clip210)\" d=\"M2085.82 200.041 L2085.82 202.124 L2066.24 202.124 Q2066.52 206.522 2068.88 208.837 Q2071.26 211.129 2075.5 211.129 Q2077.95 211.129 2080.24 210.527 Q2082.56 209.925 2084.83 208.721 L2084.83 212.749 Q2082.53 213.721 2080.13 214.231 Q2077.72 214.74 2075.24 214.74 Q2069.04 214.74 2065.4 211.129 Q2061.79 207.518 2061.79 201.36 Q2061.79 194.995 2065.22 191.268 Q2068.67 187.518 2074.5 187.518 Q2079.73 187.518 2082.77 190.897 Q2085.82 194.254 2085.82 200.041 M2081.56 198.791 Q2081.52 195.296 2079.59 193.212 Q2077.7 191.129 2074.55 191.129 Q2070.98 191.129 2068.83 193.143 Q2066.7 195.157 2066.38 198.814 L2081.56 198.791 Z\" fill=\"#000000\" fill-rule=\"nonzero\" fill-opacity=\"1\" /><path clip-path=\"url(#clip210)\" d=\"M2092.81 178.05 L2097.07 178.05 L2097.07 214.069 L2092.81 214.069 L2092.81 178.05 Z\" fill=\"#000000\" fill-rule=\"nonzero\" fill-opacity=\"1\" /><path clip-path=\"url(#clip210)\" d=\"M2105.98 178.05 L2110.24 178.05 L2110.24 214.069 L2105.98 214.069 L2105.98 178.05 Z\" fill=\"#000000\" fill-rule=\"nonzero\" fill-opacity=\"1\" /><path clip-path=\"url(#clip210)\" d=\"M2130.94 201.036 Q2125.77 201.036 2123.78 202.217 Q2121.79 203.397 2121.79 206.245 Q2121.79 208.513 2123.27 209.856 Q2124.78 211.175 2127.35 211.175 Q2130.89 211.175 2133.02 208.675 Q2135.17 206.152 2135.17 201.985 L2135.17 201.036 L2130.94 201.036 M2139.43 199.277 L2139.43 214.069 L2135.17 214.069 L2135.17 210.133 Q2133.71 212.495 2131.54 213.629 Q2129.36 214.74 2126.21 214.74 Q2122.23 214.74 2119.87 212.518 Q2117.53 210.272 2117.53 206.522 Q2117.53 202.147 2120.45 199.925 Q2123.39 197.703 2129.2 197.703 L2135.17 197.703 L2135.17 197.286 Q2135.17 194.347 2133.23 192.749 Q2131.31 191.129 2127.81 191.129 Q2125.59 191.129 2123.48 191.661 Q2121.38 192.194 2119.43 193.259 L2119.43 189.323 Q2121.77 188.421 2123.97 187.981 Q2126.17 187.518 2128.25 187.518 Q2133.88 187.518 2136.65 190.434 Q2139.43 193.351 2139.43 199.277 Z\" fill=\"#000000\" fill-rule=\"nonzero\" fill-opacity=\"1\" /><path clip-path=\"url(#clip210)\" d=\"M2168.14 183.351 L2168.14 196.337 L2174.02 196.337 Q2177.28 196.337 2179.06 194.647 Q2180.84 192.958 2180.84 189.833 Q2180.84 186.731 2179.06 185.041 Q2177.28 183.351 2174.02 183.351 L2168.14 183.351 M2163.46 179.509 L2174.02 179.509 Q2179.83 179.509 2182.79 182.147 Q2185.77 184.763 2185.77 189.833 Q2185.77 194.948 2182.79 197.564 Q2179.83 200.18 2174.02 200.18 L2168.14 200.18 L2168.14 214.069 L2163.46 214.069 L2163.46 179.509 Z\" fill=\"#000000\" fill-rule=\"nonzero\" fill-opacity=\"1\" /><path clip-path=\"url(#clip210)\" d=\"M2206.05 192.124 Q2205.33 191.708 2204.48 191.522 Q2203.64 191.314 2202.63 191.314 Q2199.02 191.314 2197.07 193.675 Q2195.15 196.013 2195.15 200.411 L2195.15 214.069 L2190.87 214.069 L2190.87 188.143 L2195.15 188.143 L2195.15 192.171 Q2196.49 189.809 2198.64 188.675 Q2200.8 187.518 2203.88 187.518 Q2204.32 187.518 2204.85 187.587 Q2205.38 187.634 2206.03 187.749 L2206.05 192.124 Z\" fill=\"#000000\" fill-rule=\"nonzero\" fill-opacity=\"1\" /><path clip-path=\"url(#clip210)\" d=\"M2219.52 191.129 Q2216.1 191.129 2214.11 193.814 Q2212.12 196.476 2212.12 201.129 Q2212.12 205.782 2214.08 208.467 Q2216.08 211.129 2219.52 211.129 Q2222.93 211.129 2224.92 208.444 Q2226.91 205.758 2226.91 201.129 Q2226.91 196.522 2224.92 193.837 Q2222.93 191.129 2219.52 191.129 M2219.52 187.518 Q2225.08 187.518 2228.25 191.129 Q2231.42 194.74 2231.42 201.129 Q2231.42 207.495 2228.25 211.129 Q2225.08 214.74 2219.52 214.74 Q2213.95 214.74 2210.77 211.129 Q2207.63 207.495 2207.63 201.129 Q2207.63 194.74 2210.77 191.129 Q2213.95 187.518 2219.52 187.518 Z\" fill=\"#000000\" fill-rule=\"nonzero\" fill-opacity=\"1\" /><path clip-path=\"url(#clip210)\" d=\"M2251.61 178.05 L2251.61 181.592 L2247.53 181.592 Q2245.24 181.592 2244.34 182.518 Q2243.46 183.444 2243.46 185.851 L2243.46 188.143 L2250.47 188.143 L2250.47 191.453 L2243.46 191.453 L2243.46 214.069 L2239.18 214.069 L2239.18 191.453 L2235.1 191.453 L2235.1 188.143 L2239.18 188.143 L2239.18 186.337 Q2239.18 182.009 2241.19 180.041 Q2243.2 178.05 2247.58 178.05 L2251.61 178.05 Z\" fill=\"#000000\" fill-rule=\"nonzero\" fill-opacity=\"1\" /><path clip-path=\"url(#clip210)\" d=\"M2255.17 188.143 L2259.43 188.143 L2259.43 214.069 L2255.17 214.069 L2255.17 188.143 M2255.17 178.05 L2259.43 178.05 L2259.43 183.444 L2255.17 183.444 L2255.17 178.05 Z\" fill=\"#000000\" fill-rule=\"nonzero\" fill-opacity=\"1\" /><path clip-path=\"url(#clip210)\" d=\"M2272.56 180.782 L2272.56 188.143 L2281.33 188.143 L2281.33 191.453 L2272.56 191.453 L2272.56 205.527 Q2272.56 208.698 2273.41 209.601 Q2274.29 210.504 2276.95 210.504 L2281.33 210.504 L2281.33 214.069 L2276.95 214.069 Q2272.02 214.069 2270.15 212.24 Q2268.27 210.388 2268.27 205.527 L2268.27 191.453 L2265.15 191.453 L2265.15 188.143 L2268.27 188.143 L2268.27 180.782 L2272.56 180.782 Z\" fill=\"#000000\" fill-rule=\"nonzero\" fill-opacity=\"1\" /><path clip-path=\"url(#clip210)\" d=\"M2303.46 188.907 L2303.46 192.934 Q2301.65 192.009 2299.71 191.546 Q2297.76 191.083 2295.68 191.083 Q2292.51 191.083 2290.91 192.055 Q2289.34 193.027 2289.34 194.971 Q2289.34 196.453 2290.47 197.309 Q2291.61 198.143 2295.03 198.907 L2296.49 199.231 Q2301.03 200.203 2302.93 201.985 Q2304.85 203.745 2304.85 206.916 Q2304.85 210.527 2301.98 212.633 Q2299.13 214.74 2294.13 214.74 Q2292.05 214.74 2289.78 214.323 Q2287.53 213.93 2285.03 213.12 L2285.03 208.721 Q2287.39 209.948 2289.69 210.573 Q2291.98 211.175 2294.22 211.175 Q2297.23 211.175 2298.85 210.157 Q2300.47 209.115 2300.47 207.24 Q2300.47 205.504 2299.29 204.578 Q2298.13 203.652 2294.18 202.796 L2292.7 202.448 Q2288.74 201.615 2286.98 199.902 Q2285.22 198.166 2285.22 195.157 Q2285.22 191.499 2287.81 189.509 Q2290.4 187.518 2295.17 187.518 Q2297.53 187.518 2299.62 187.865 Q2301.7 188.212 2303.46 188.907 Z\" fill=\"#000000\" fill-rule=\"nonzero\" fill-opacity=\"1\" /><polyline clip-path=\"url(#clip210)\" style=\"stroke:#3da44d; stroke-linecap:round; stroke-linejoin:round; stroke-width:4; stroke-opacity:1; fill:none\" points=\"1665.58,248.629 1805.25,248.629 \"/>\n",
       "<circle clip-path=\"url(#clip210)\" cx=\"1735.42\" cy=\"248.629\" r=\"19.3988\" fill=\"#3da44d\" fill-rule=\"evenodd\" fill-opacity=\"1\" stroke=\"#000000\" stroke-opacity=\"1\" stroke-width=\"4.55111\"/>\n",
       "<path clip-path=\"url(#clip210)\" d=\"M1856.4 234.011 L1856.4 238.941 Q1854.04 236.742 1851.35 235.654 Q1848.69 234.566 1845.68 234.566 Q1839.76 234.566 1836.61 238.2 Q1833.46 241.812 1833.46 248.663 Q1833.46 255.492 1836.61 259.126 Q1839.76 262.737 1845.68 262.737 Q1848.69 262.737 1851.35 261.649 Q1854.04 260.561 1856.4 258.362 L1856.4 263.247 Q1853.95 264.913 1851.19 265.747 Q1848.46 266.58 1845.41 266.58 Q1837.56 266.58 1833.04 261.788 Q1828.53 256.973 1828.53 248.663 Q1828.53 240.33 1833.04 235.538 Q1837.56 230.724 1845.41 230.724 Q1848.51 230.724 1851.24 231.557 Q1853.99 232.367 1856.4 234.011 Z\" fill=\"#000000\" fill-rule=\"nonzero\" fill-opacity=\"1\" /><path clip-path=\"url(#clip210)\" d=\"M1873.48 242.969 Q1870.06 242.969 1868.07 245.654 Q1866.08 248.316 1866.08 252.969 Q1866.08 257.622 1868.04 260.307 Q1870.04 262.969 1873.48 262.969 Q1876.89 262.969 1878.88 260.284 Q1880.87 257.598 1880.87 252.969 Q1880.87 248.362 1878.88 245.677 Q1876.89 242.969 1873.48 242.969 M1873.48 239.358 Q1879.04 239.358 1882.21 242.969 Q1885.38 246.58 1885.38 252.969 Q1885.38 259.335 1882.21 262.969 Q1879.04 266.58 1873.48 266.58 Q1867.91 266.58 1864.73 262.969 Q1861.59 259.335 1861.59 252.969 Q1861.59 246.58 1864.73 242.969 Q1867.91 239.358 1873.48 239.358 Z\" fill=\"#000000\" fill-rule=\"nonzero\" fill-opacity=\"1\" /><path clip-path=\"url(#clip210)\" d=\"M1913.99 250.261 L1913.99 265.909 L1909.73 265.909 L1909.73 250.399 Q1909.73 246.719 1908.3 244.89 Q1906.86 243.062 1903.99 243.062 Q1900.54 243.062 1898.55 245.261 Q1896.56 247.46 1896.56 251.256 L1896.56 265.909 L1892.28 265.909 L1892.28 239.983 L1896.56 239.983 L1896.56 244.011 Q1898.09 241.673 1900.15 240.515 Q1902.23 239.358 1904.94 239.358 Q1909.41 239.358 1911.7 242.136 Q1913.99 244.89 1913.99 250.261 Z\" fill=\"#000000\" fill-rule=\"nonzero\" fill-opacity=\"1\" /><path clip-path=\"url(#clip210)\" d=\"M1939.02 240.747 L1939.02 244.774 Q1937.21 243.849 1935.27 243.386 Q1933.32 242.923 1931.24 242.923 Q1928.07 242.923 1926.47 243.895 Q1924.9 244.867 1924.9 246.811 Q1924.9 248.293 1926.03 249.149 Q1927.16 249.983 1930.59 250.747 L1932.05 251.071 Q1936.59 252.043 1938.48 253.825 Q1940.41 255.585 1940.41 258.756 Q1940.41 262.367 1937.54 264.473 Q1934.69 266.58 1929.69 266.58 Q1927.6 266.58 1925.34 266.163 Q1923.09 265.77 1920.59 264.96 L1920.59 260.561 Q1922.95 261.788 1925.24 262.413 Q1927.54 263.015 1929.78 263.015 Q1932.79 263.015 1934.41 261.997 Q1936.03 260.955 1936.03 259.08 Q1936.03 257.344 1934.85 256.418 Q1933.69 255.492 1929.73 254.636 L1928.25 254.288 Q1924.29 253.455 1922.54 251.742 Q1920.78 250.006 1920.78 246.997 Q1920.78 243.339 1923.37 241.349 Q1925.96 239.358 1930.73 239.358 Q1933.09 239.358 1935.17 239.705 Q1937.26 240.052 1939.02 240.747 Z\" fill=\"#000000\" fill-rule=\"nonzero\" fill-opacity=\"1\" /><path clip-path=\"url(#clip210)\" d=\"M1946.75 255.677 L1946.75 239.983 L1951.01 239.983 L1951.01 255.515 Q1951.01 259.196 1952.44 261.048 Q1953.88 262.876 1956.75 262.876 Q1960.2 262.876 1962.19 260.677 Q1964.2 258.478 1964.2 254.682 L1964.2 239.983 L1968.46 239.983 L1968.46 265.909 L1964.2 265.909 L1964.2 261.927 Q1962.65 264.288 1960.59 265.446 Q1958.55 266.58 1955.85 266.58 Q1951.38 266.58 1949.06 263.802 Q1946.75 261.024 1946.75 255.677 M1957.47 239.358 L1957.47 239.358 Z\" fill=\"#000000\" fill-rule=\"nonzero\" fill-opacity=\"1\" /><path clip-path=\"url(#clip210)\" d=\"M1997.42 244.96 Q1999.02 242.089 2001.24 240.724 Q2003.46 239.358 2006.47 239.358 Q2010.52 239.358 2012.72 242.205 Q2014.92 245.029 2014.92 250.261 L2014.92 265.909 L2010.64 265.909 L2010.64 250.399 Q2010.64 246.673 2009.32 244.867 Q2008 243.062 2005.29 243.062 Q2001.98 243.062 2000.06 245.261 Q1998.14 247.46 1998.14 251.256 L1998.14 265.909 L1993.85 265.909 L1993.85 250.399 Q1993.85 246.649 1992.53 244.867 Q1991.22 243.062 1988.46 243.062 Q1985.2 243.062 1983.28 245.284 Q1981.35 247.483 1981.35 251.256 L1981.35 265.909 L1977.07 265.909 L1977.07 239.983 L1981.35 239.983 L1981.35 244.011 Q1982.81 241.626 1984.85 240.492 Q1986.89 239.358 1989.69 239.358 Q1992.51 239.358 1994.48 240.793 Q1996.47 242.228 1997.42 244.96 Z\" fill=\"#000000\" fill-rule=\"nonzero\" fill-opacity=\"1\" /><path clip-path=\"url(#clip210)\" d=\"M2045.59 251.881 L2045.59 253.964 L2026.01 253.964 Q2026.28 258.362 2028.65 260.677 Q2031.03 262.969 2035.27 262.969 Q2037.72 262.969 2040.01 262.367 Q2042.33 261.765 2044.59 260.561 L2044.59 264.589 Q2042.3 265.561 2039.9 266.071 Q2037.49 266.58 2035.01 266.58 Q2028.81 266.58 2025.17 262.969 Q2021.56 259.358 2021.56 253.2 Q2021.56 246.835 2024.99 243.108 Q2028.44 239.358 2034.27 239.358 Q2039.5 239.358 2042.53 242.737 Q2045.59 246.094 2045.59 251.881 M2041.33 250.631 Q2041.28 247.136 2039.36 245.052 Q2037.47 242.969 2034.32 242.969 Q2030.75 242.969 2028.6 244.983 Q2026.47 246.997 2026.15 250.654 L2041.33 250.631 Z\" fill=\"#000000\" fill-rule=\"nonzero\" fill-opacity=\"1\" /><path clip-path=\"url(#clip210)\" d=\"M2067.6 243.964 Q2066.89 243.548 2066.03 243.362 Q2065.2 243.154 2064.18 243.154 Q2060.57 243.154 2058.62 245.515 Q2056.7 247.853 2056.7 252.251 L2056.7 265.909 L2052.42 265.909 L2052.42 239.983 L2056.7 239.983 L2056.7 244.011 Q2058.04 241.649 2060.2 240.515 Q2062.35 239.358 2065.43 239.358 Q2065.87 239.358 2066.4 239.427 Q2066.93 239.474 2067.58 239.589 L2067.6 243.964 Z\" fill=\"#000000\" fill-rule=\"nonzero\" fill-opacity=\"1\" /><path clip-path=\"url(#clip210)\" d=\"M2108.04 232.483 L2108.04 237.043 Q2105.38 235.77 2103.02 235.145 Q2100.66 234.52 2098.46 234.52 Q2094.64 234.52 2092.56 236.001 Q2090.5 237.483 2090.5 240.214 Q2090.5 242.506 2091.86 243.687 Q2093.25 244.844 2097.09 245.562 L2099.92 246.14 Q2105.15 247.136 2107.63 249.659 Q2110.13 252.159 2110.13 256.372 Q2110.13 261.395 2106.75 263.987 Q2103.39 266.58 2096.89 266.58 Q2094.43 266.58 2091.65 266.024 Q2088.9 265.469 2085.94 264.381 L2085.94 259.566 Q2088.78 261.163 2091.52 261.973 Q2094.25 262.784 2096.89 262.784 Q2100.89 262.784 2103.07 261.21 Q2105.24 259.636 2105.24 256.719 Q2105.24 254.173 2103.67 252.737 Q2102.12 251.302 2098.55 250.585 L2095.71 250.029 Q2090.47 248.987 2088.14 246.765 Q2085.8 244.543 2085.8 240.585 Q2085.8 236.001 2089.02 233.362 Q2092.26 230.724 2097.93 230.724 Q2100.36 230.724 2102.88 231.163 Q2105.4 231.603 2108.04 232.483 Z\" fill=\"#000000\" fill-rule=\"nonzero\" fill-opacity=\"1\" /><path clip-path=\"url(#clip210)\" d=\"M2116.79 255.677 L2116.79 239.983 L2121.05 239.983 L2121.05 255.515 Q2121.05 259.196 2122.49 261.048 Q2123.92 262.876 2126.79 262.876 Q2130.24 262.876 2132.23 260.677 Q2134.25 258.478 2134.25 254.682 L2134.25 239.983 L2138.51 239.983 L2138.51 265.909 L2134.25 265.909 L2134.25 261.927 Q2132.7 264.288 2130.64 265.446 Q2128.6 266.58 2125.89 266.58 Q2121.42 266.58 2119.11 263.802 Q2116.79 261.024 2116.79 255.677 M2127.51 239.358 L2127.51 239.358 Z\" fill=\"#000000\" fill-rule=\"nonzero\" fill-opacity=\"1\" /><path clip-path=\"url(#clip210)\" d=\"M2162.3 243.964 Q2161.58 243.548 2160.73 243.362 Q2159.89 243.154 2158.88 243.154 Q2155.27 243.154 2153.32 245.515 Q2151.4 247.853 2151.4 252.251 L2151.4 265.909 L2147.12 265.909 L2147.12 239.983 L2151.4 239.983 L2151.4 244.011 Q2152.74 241.649 2154.89 240.515 Q2157.05 239.358 2160.13 239.358 Q2160.57 239.358 2161.1 239.427 Q2161.63 239.474 2162.28 239.589 L2162.3 243.964 Z\" fill=\"#000000\" fill-rule=\"nonzero\" fill-opacity=\"1\" /><path clip-path=\"url(#clip210)\" d=\"M2170.89 262.02 L2170.89 275.77 L2166.61 275.77 L2166.61 239.983 L2170.89 239.983 L2170.89 243.918 Q2172.23 241.603 2174.27 240.492 Q2176.33 239.358 2179.18 239.358 Q2183.9 239.358 2186.84 243.108 Q2189.8 246.858 2189.8 252.969 Q2189.8 259.08 2186.84 262.83 Q2183.9 266.58 2179.18 266.58 Q2176.33 266.58 2174.27 265.469 Q2172.23 264.335 2170.89 262.02 M2185.38 252.969 Q2185.38 248.27 2183.44 245.608 Q2181.52 242.923 2178.14 242.923 Q2174.76 242.923 2172.81 245.608 Q2170.89 248.27 2170.89 252.969 Q2170.89 257.668 2172.81 260.353 Q2174.76 263.015 2178.14 263.015 Q2181.52 263.015 2183.44 260.353 Q2185.38 257.668 2185.38 252.969 Z\" fill=\"#000000\" fill-rule=\"nonzero\" fill-opacity=\"1\" /><path clip-path=\"url(#clip210)\" d=\"M2196.86 229.89 L2201.12 229.89 L2201.12 265.909 L2196.86 265.909 L2196.86 229.89 Z\" fill=\"#000000\" fill-rule=\"nonzero\" fill-opacity=\"1\" /><path clip-path=\"url(#clip210)\" d=\"M2209.59 255.677 L2209.59 239.983 L2213.85 239.983 L2213.85 255.515 Q2213.85 259.196 2215.29 261.048 Q2216.72 262.876 2219.59 262.876 Q2223.04 262.876 2225.03 260.677 Q2227.05 258.478 2227.05 254.682 L2227.05 239.983 L2231.31 239.983 L2231.31 265.909 L2227.05 265.909 L2227.05 261.927 Q2225.5 264.288 2223.44 265.446 Q2221.4 266.58 2218.69 266.58 Q2214.22 266.58 2211.91 263.802 Q2209.59 261.024 2209.59 255.677 M2220.31 239.358 L2220.31 239.358 Z\" fill=\"#000000\" fill-rule=\"nonzero\" fill-opacity=\"1\" /><path clip-path=\"url(#clip210)\" d=\"M2256.61 240.747 L2256.61 244.774 Q2254.8 243.849 2252.86 243.386 Q2250.91 242.923 2248.83 242.923 Q2245.66 242.923 2244.06 243.895 Q2242.49 244.867 2242.49 246.811 Q2242.49 248.293 2243.62 249.149 Q2244.76 249.983 2248.18 250.747 L2249.64 251.071 Q2254.18 252.043 2256.08 253.825 Q2258 255.585 2258 258.756 Q2258 262.367 2255.13 264.473 Q2252.28 266.58 2247.28 266.58 Q2245.2 266.58 2242.93 266.163 Q2240.68 265.77 2238.18 264.96 L2238.18 260.561 Q2240.54 261.788 2242.83 262.413 Q2245.13 263.015 2247.37 263.015 Q2250.38 263.015 2252 261.997 Q2253.62 260.955 2253.62 259.08 Q2253.62 257.344 2252.44 256.418 Q2251.28 255.492 2247.33 254.636 L2245.84 254.288 Q2241.89 253.455 2240.13 251.742 Q2238.37 250.006 2238.37 246.997 Q2238.37 243.339 2240.96 241.349 Q2243.55 239.358 2248.32 239.358 Q2250.68 239.358 2252.76 239.705 Q2254.85 240.052 2256.61 240.747 Z\" fill=\"#000000\" fill-rule=\"nonzero\" fill-opacity=\"1\" /></svg>\n"
      ]
     },
     "execution_count": 43,
     "metadata": {},
     "output_type": "execute_result"
    }
   ],
   "source": [
    "using Plots\n",
    "\n",
    "plot(tax_grid, profits_results, \n",
    "    markershape = [:rect :diamond], # Notice there are no commas: This is a 1x2 matrix, respecting the number of columns in the data\n",
    "    label = [\"Chicken Paella Profits\" \"Veggie Paella Profits\"],\n",
    "    xlabel = \"Tax Rate\", ylabel = \"Change (EUR per Consumer)\",\n",
    "    legend = :outertopright)\n",
    "\n",
    "# Forgot to add something? No problem! Use plot! with an exclamation mark:\n",
    "plot!(tax_grid, CS_results, \n",
    "    markershape = :circle,\n",
    "    label = \"Consumer Surplus\")"
   ]
  },
  {
   "cell_type": "markdown",
   "id": "514b8fdf-cbca-41a2-a160-3772bb25f568",
   "metadata": {},
   "source": [
    "## Aside: Parallel Computing in Julia \n",
    "\n",
    "Loops with computationally expensive calculation can be inefficient. Instead we can leverage threads and/or processes to run multiple computations at once. "
   ]
  },
  {
   "cell_type": "code",
   "execution_count": 44,
   "id": "be028bd8-fa4e-4807-8b36-77d76b07cb62",
   "metadata": {},
   "outputs": [
    {
     "data": {
      "text/plain": [
       "0.1:0.0001:5.0"
      ]
     },
     "execution_count": 44,
     "metadata": {},
     "output_type": "execute_result"
    }
   ],
   "source": [
    "tax_grid = 0.1:0.0001:5.0 "
   ]
  },
  {
   "cell_type": "code",
   "execution_count": 45,
   "id": "2d8917d1-5046-4592-a08d-e2583876f272",
   "metadata": {},
   "outputs": [
    {
     "name": "stdout",
     "output_type": "stream",
     "text": [
      "  0.640949 seconds (1.12 M allocations: 791.506 MiB, 16.88% gc time, 22.15% compilation time)\n"
     ]
    }
   ],
   "source": [
    "tax_grid = 0.1:0.0001:5.0 \n",
    "x = zeros(size(tax_grid))\n",
    "@time for i = 1:size(tax_grid,1) \n",
    "       CS(tax_grid[i])\n",
    "end"
   ]
  },
  {
   "cell_type": "code",
   "execution_count": 46,
   "id": "4d4d67e4-a8a0-47cb-846c-f20fb20e8cb0",
   "metadata": {
    "scrolled": true
   },
   "outputs": [
    {
     "name": "stderr",
     "output_type": "stream",
     "text": [
      "WARNING: redefinition of constant Main.δ. This may fail, cause incorrect answers, or produce other errors.\n"
     ]
    },
    {
     "name": "stdout",
     "output_type": "stream",
     "text": [
      "  0.005059 seconds (5.39 k allocations: 263.562 KiB, 98.12% compilation time)\n"
     ]
    },
    {
     "data": {
      "text/plain": [
       "Task (runnable, started) @0x0000000283d96a40"
      ]
     },
     "execution_count": 46,
     "metadata": {},
     "output_type": "execute_result"
    }
   ],
   "source": [
    "using Distributed\n",
    "addprocs(5)\n",
    "nprocs()\n",
    "@everywhere using NLsolve, Optim, LinearAlgebra, Statistics\n",
    "\n",
    "@everywhere begin \n",
    "    const T = 1000 \n",
    "    const N = 500\n",
    "    const J = 2\n",
    "    const α = 0.5\n",
    "    const δ = [2.0, 1.8]\n",
    "    const σ = 0.25;\n",
    "    ξ = σ .* randn(T, J) # Generate a T x J random matrix with iid N(0,1) entries and re-scale by σ\n",
    "    CS(p; α=α, δ=δ, ξ=ξ) = 1.0/α * mean(log.(1.0 .+ sum(exp.(δ' .- α .* p .+ ξ), dims = 1)))\n",
    "end\n",
    "\n",
    "y = zeros(size(tax_grid))\n",
    "\n",
    "@time @distributed for i = 1:size(tax_grid,1) \n",
    "   CS(tax_grid[i])\n",
    "end"
   ]
  },
  {
   "cell_type": "code",
   "execution_count": 47,
   "id": "459cf430-6ebd-4631-a5ac-e8db7e6f6044",
   "metadata": {},
   "outputs": [
    {
     "data": {
      "text/plain": [
       "1"
      ]
     },
     "execution_count": 47,
     "metadata": {},
     "output_type": "execute_result"
    }
   ],
   "source": [
    "rmprocs(workers())\n",
    "nprocs()"
   ]
  },
  {
   "cell_type": "markdown",
   "id": "033a0efe-9fcb-4105-b33d-006e98fa9a9e",
   "metadata": {
    "jp-MarkdownHeadingCollapsed": true
   },
   "source": [
    "## Plan for the Next Sessions\n",
    "\n",
    "In the next sessions, we will learn:\n",
    "- L3: Function approximation \n",
    "- L4: Numerical integration and differentiation\n",
    " L5: Differential equations\n",
    "- L6: Numerical optimization\n",
    "- L7: Zero-solvers and fixed-point algorithms\n",
    "- L8: Review with an economic application"
   ]
  },
  {
   "cell_type": "markdown",
   "id": "8633df0e-303f-4042-aaaf-ccfa62495141",
   "metadata": {},
   "source": [
    "## Additional Resources\n",
    "- [Julia Documentation](https://docs.julialang.org/en/v1/). The sections \"Manual > Noteworthy Differences from other Languages\" and \"Manual > Performance Tips\" could be especially interesting for those of you with prior experience with other programming languages.\n",
    "- [Quantitative Economics with Julia](https://julia.quantecon.org/intro.html). A course by Jesse Perla, Thomas J. Sargent and John Stachurski. It goes over basic concepts in programming, how these work in Julia, and then specific economic applications. It also has exercises with solutions, which is a great way to test your knowledge.\n",
    "- Fedor Iskhakov has compiled a [collection of publicly available learning resources in computational economics and structural modeling](https://fedor.iskh.me/resources). Most of them are not specific to Julia, but can be helpful if you use other programming languages or want to learn more about the numerical methods that we will be using in this course.\n",
    "- Judd, Kenneth L. (1998) *Numerical methods in economics.* Cambridge, MA: MIT Press. Many of the theoretical results from this lecture notes are drawn from this book. It won't teach you to code in Julia, but it is a wonderful reference for the theory behind the numerical methods we're using.\n",
    "- Relatedly, Ken Judd has a [2020 course on computational economics](https://github.com/KennethJudd/CompEcon2020). The website contains basically only the slides for the course, but it is very exhaustive (27 lecture notes!)."
   ]
  },
  {
   "cell_type": "code",
   "execution_count": null,
   "id": "920d6789-0b33-4602-97c2-1f14886faa1d",
   "metadata": {},
   "outputs": [],
   "source": []
  }
 ],
 "metadata": {
  "kernelspec": {
   "display_name": "Julia 1.11.2",
   "language": "julia",
   "name": "julia-1.11"
  },
  "language_info": {
   "file_extension": ".jl",
   "mimetype": "application/julia",
   "name": "julia",
   "version": "1.11.2"
  }
 },
 "nbformat": 4,
 "nbformat_minor": 5
}
